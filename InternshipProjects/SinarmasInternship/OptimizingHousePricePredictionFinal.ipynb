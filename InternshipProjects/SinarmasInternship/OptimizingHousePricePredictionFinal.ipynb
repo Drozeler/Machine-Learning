{
  "cells": [
    {
      "cell_type": "markdown",
      "metadata": {
        "id": "view-in-github",
        "colab_type": "text"
      },
      "source": [
        "<a href=\"https://colab.research.google.com/github/Drozeler/Machine-Learning/blob/main/OptimizingHousePricePredictionFinal.ipynb\" target=\"_parent\"><img src=\"https://colab.research.google.com/assets/colab-badge.svg\" alt=\"Open In Colab\"/></a>"
      ]
    },
    {
      "cell_type": "markdown",
      "metadata": {
        "id": "QKEyV3wInsSn"
      },
      "source": [
        "Importing Libraries"
      ]
    },
    {
      "cell_type": "code",
      "execution_count": null,
      "metadata": {
        "id": "goPBF1tcgW6D"
      },
      "outputs": [],
      "source": [
        "import numpy as np\n",
        "import pandas as pd\n",
        "import matplotlib.pyplot as plt\n",
        "import seaborn as sns"
      ]
    },
    {
      "cell_type": "markdown",
      "metadata": {
        "id": "AfiLuQ2Inu4v"
      },
      "source": [
        "Read Data"
      ]
    },
    {
      "cell_type": "code",
      "execution_count": null,
      "metadata": {
        "colab": {
          "base_uri": "https://localhost:8080/",
          "height": 235
        },
        "id": "TpP2PsEOggKu",
        "outputId": "23e4b570-dafe-4c87-b544-38071e9e6de1"
      },
      "outputs": [
        {
          "output_type": "execute_result",
          "data": {
            "text/plain": [
              "   Id  MSSubClass MSZoning  LotFrontage  LotArea Street Alley LotShape  \\\n",
              "0   1          60       RL         65.0     8450   Pave   NaN      Reg   \n",
              "1   2          20       RL         80.0     9600   Pave   NaN      Reg   \n",
              "2   3          60       RL         68.0    11250   Pave   NaN      IR1   \n",
              "3   4          70       RL         60.0     9550   Pave   NaN      IR1   \n",
              "4   5          60       RL         84.0    14260   Pave   NaN      IR1   \n",
              "\n",
              "  LandContour Utilities  ... PoolArea PoolQC Fence MiscFeature MiscVal MoSold  \\\n",
              "0         Lvl    AllPub  ...        0    NaN   NaN         NaN       0      2   \n",
              "1         Lvl    AllPub  ...        0    NaN   NaN         NaN       0      5   \n",
              "2         Lvl    AllPub  ...        0    NaN   NaN         NaN       0      9   \n",
              "3         Lvl    AllPub  ...        0    NaN   NaN         NaN       0      2   \n",
              "4         Lvl    AllPub  ...        0    NaN   NaN         NaN       0     12   \n",
              "\n",
              "  YrSold  SaleType  SaleCondition  SalePrice  \n",
              "0   2008        WD         Normal     208500  \n",
              "1   2007        WD         Normal     181500  \n",
              "2   2008        WD         Normal     223500  \n",
              "3   2006        WD        Abnorml     140000  \n",
              "4   2008        WD         Normal     250000  \n",
              "\n",
              "[5 rows x 81 columns]"
            ],
            "text/html": [
              "\n",
              "  <div id=\"df-38a3aa11-ec90-4d0d-ba44-505793b52085\" class=\"colab-df-container\">\n",
              "    <div>\n",
              "<style scoped>\n",
              "    .dataframe tbody tr th:only-of-type {\n",
              "        vertical-align: middle;\n",
              "    }\n",
              "\n",
              "    .dataframe tbody tr th {\n",
              "        vertical-align: top;\n",
              "    }\n",
              "\n",
              "    .dataframe thead th {\n",
              "        text-align: right;\n",
              "    }\n",
              "</style>\n",
              "<table border=\"1\" class=\"dataframe\">\n",
              "  <thead>\n",
              "    <tr style=\"text-align: right;\">\n",
              "      <th></th>\n",
              "      <th>Id</th>\n",
              "      <th>MSSubClass</th>\n",
              "      <th>MSZoning</th>\n",
              "      <th>LotFrontage</th>\n",
              "      <th>LotArea</th>\n",
              "      <th>Street</th>\n",
              "      <th>Alley</th>\n",
              "      <th>LotShape</th>\n",
              "      <th>LandContour</th>\n",
              "      <th>Utilities</th>\n",
              "      <th>...</th>\n",
              "      <th>PoolArea</th>\n",
              "      <th>PoolQC</th>\n",
              "      <th>Fence</th>\n",
              "      <th>MiscFeature</th>\n",
              "      <th>MiscVal</th>\n",
              "      <th>MoSold</th>\n",
              "      <th>YrSold</th>\n",
              "      <th>SaleType</th>\n",
              "      <th>SaleCondition</th>\n",
              "      <th>SalePrice</th>\n",
              "    </tr>\n",
              "  </thead>\n",
              "  <tbody>\n",
              "    <tr>\n",
              "      <th>0</th>\n",
              "      <td>1</td>\n",
              "      <td>60</td>\n",
              "      <td>RL</td>\n",
              "      <td>65.0</td>\n",
              "      <td>8450</td>\n",
              "      <td>Pave</td>\n",
              "      <td>NaN</td>\n",
              "      <td>Reg</td>\n",
              "      <td>Lvl</td>\n",
              "      <td>AllPub</td>\n",
              "      <td>...</td>\n",
              "      <td>0</td>\n",
              "      <td>NaN</td>\n",
              "      <td>NaN</td>\n",
              "      <td>NaN</td>\n",
              "      <td>0</td>\n",
              "      <td>2</td>\n",
              "      <td>2008</td>\n",
              "      <td>WD</td>\n",
              "      <td>Normal</td>\n",
              "      <td>208500</td>\n",
              "    </tr>\n",
              "    <tr>\n",
              "      <th>1</th>\n",
              "      <td>2</td>\n",
              "      <td>20</td>\n",
              "      <td>RL</td>\n",
              "      <td>80.0</td>\n",
              "      <td>9600</td>\n",
              "      <td>Pave</td>\n",
              "      <td>NaN</td>\n",
              "      <td>Reg</td>\n",
              "      <td>Lvl</td>\n",
              "      <td>AllPub</td>\n",
              "      <td>...</td>\n",
              "      <td>0</td>\n",
              "      <td>NaN</td>\n",
              "      <td>NaN</td>\n",
              "      <td>NaN</td>\n",
              "      <td>0</td>\n",
              "      <td>5</td>\n",
              "      <td>2007</td>\n",
              "      <td>WD</td>\n",
              "      <td>Normal</td>\n",
              "      <td>181500</td>\n",
              "    </tr>\n",
              "    <tr>\n",
              "      <th>2</th>\n",
              "      <td>3</td>\n",
              "      <td>60</td>\n",
              "      <td>RL</td>\n",
              "      <td>68.0</td>\n",
              "      <td>11250</td>\n",
              "      <td>Pave</td>\n",
              "      <td>NaN</td>\n",
              "      <td>IR1</td>\n",
              "      <td>Lvl</td>\n",
              "      <td>AllPub</td>\n",
              "      <td>...</td>\n",
              "      <td>0</td>\n",
              "      <td>NaN</td>\n",
              "      <td>NaN</td>\n",
              "      <td>NaN</td>\n",
              "      <td>0</td>\n",
              "      <td>9</td>\n",
              "      <td>2008</td>\n",
              "      <td>WD</td>\n",
              "      <td>Normal</td>\n",
              "      <td>223500</td>\n",
              "    </tr>\n",
              "    <tr>\n",
              "      <th>3</th>\n",
              "      <td>4</td>\n",
              "      <td>70</td>\n",
              "      <td>RL</td>\n",
              "      <td>60.0</td>\n",
              "      <td>9550</td>\n",
              "      <td>Pave</td>\n",
              "      <td>NaN</td>\n",
              "      <td>IR1</td>\n",
              "      <td>Lvl</td>\n",
              "      <td>AllPub</td>\n",
              "      <td>...</td>\n",
              "      <td>0</td>\n",
              "      <td>NaN</td>\n",
              "      <td>NaN</td>\n",
              "      <td>NaN</td>\n",
              "      <td>0</td>\n",
              "      <td>2</td>\n",
              "      <td>2006</td>\n",
              "      <td>WD</td>\n",
              "      <td>Abnorml</td>\n",
              "      <td>140000</td>\n",
              "    </tr>\n",
              "    <tr>\n",
              "      <th>4</th>\n",
              "      <td>5</td>\n",
              "      <td>60</td>\n",
              "      <td>RL</td>\n",
              "      <td>84.0</td>\n",
              "      <td>14260</td>\n",
              "      <td>Pave</td>\n",
              "      <td>NaN</td>\n",
              "      <td>IR1</td>\n",
              "      <td>Lvl</td>\n",
              "      <td>AllPub</td>\n",
              "      <td>...</td>\n",
              "      <td>0</td>\n",
              "      <td>NaN</td>\n",
              "      <td>NaN</td>\n",
              "      <td>NaN</td>\n",
              "      <td>0</td>\n",
              "      <td>12</td>\n",
              "      <td>2008</td>\n",
              "      <td>WD</td>\n",
              "      <td>Normal</td>\n",
              "      <td>250000</td>\n",
              "    </tr>\n",
              "  </tbody>\n",
              "</table>\n",
              "<p>5 rows × 81 columns</p>\n",
              "</div>\n",
              "    <div class=\"colab-df-buttons\">\n",
              "\n",
              "  <div class=\"colab-df-container\">\n",
              "    <button class=\"colab-df-convert\" onclick=\"convertToInteractive('df-38a3aa11-ec90-4d0d-ba44-505793b52085')\"\n",
              "            title=\"Convert this dataframe to an interactive table.\"\n",
              "            style=\"display:none;\">\n",
              "\n",
              "  <svg xmlns=\"http://www.w3.org/2000/svg\" height=\"24px\" viewBox=\"0 -960 960 960\">\n",
              "    <path d=\"M120-120v-720h720v720H120Zm60-500h600v-160H180v160Zm220 220h160v-160H400v160Zm0 220h160v-160H400v160ZM180-400h160v-160H180v160Zm440 0h160v-160H620v160ZM180-180h160v-160H180v160Zm440 0h160v-160H620v160Z\"/>\n",
              "  </svg>\n",
              "    </button>\n",
              "\n",
              "  <style>\n",
              "    .colab-df-container {\n",
              "      display:flex;\n",
              "      gap: 12px;\n",
              "    }\n",
              "\n",
              "    .colab-df-convert {\n",
              "      background-color: #E8F0FE;\n",
              "      border: none;\n",
              "      border-radius: 50%;\n",
              "      cursor: pointer;\n",
              "      display: none;\n",
              "      fill: #1967D2;\n",
              "      height: 32px;\n",
              "      padding: 0 0 0 0;\n",
              "      width: 32px;\n",
              "    }\n",
              "\n",
              "    .colab-df-convert:hover {\n",
              "      background-color: #E2EBFA;\n",
              "      box-shadow: 0px 1px 2px rgba(60, 64, 67, 0.3), 0px 1px 3px 1px rgba(60, 64, 67, 0.15);\n",
              "      fill: #174EA6;\n",
              "    }\n",
              "\n",
              "    .colab-df-buttons div {\n",
              "      margin-bottom: 4px;\n",
              "    }\n",
              "\n",
              "    [theme=dark] .colab-df-convert {\n",
              "      background-color: #3B4455;\n",
              "      fill: #D2E3FC;\n",
              "    }\n",
              "\n",
              "    [theme=dark] .colab-df-convert:hover {\n",
              "      background-color: #434B5C;\n",
              "      box-shadow: 0px 1px 3px 1px rgba(0, 0, 0, 0.15);\n",
              "      filter: drop-shadow(0px 1px 2px rgba(0, 0, 0, 0.3));\n",
              "      fill: #FFFFFF;\n",
              "    }\n",
              "  </style>\n",
              "\n",
              "    <script>\n",
              "      const buttonEl =\n",
              "        document.querySelector('#df-38a3aa11-ec90-4d0d-ba44-505793b52085 button.colab-df-convert');\n",
              "      buttonEl.style.display =\n",
              "        google.colab.kernel.accessAllowed ? 'block' : 'none';\n",
              "\n",
              "      async function convertToInteractive(key) {\n",
              "        const element = document.querySelector('#df-38a3aa11-ec90-4d0d-ba44-505793b52085');\n",
              "        const dataTable =\n",
              "          await google.colab.kernel.invokeFunction('convertToInteractive',\n",
              "                                                    [key], {});\n",
              "        if (!dataTable) return;\n",
              "\n",
              "        const docLinkHtml = 'Like what you see? Visit the ' +\n",
              "          '<a target=\"_blank\" href=https://colab.research.google.com/notebooks/data_table.ipynb>data table notebook</a>'\n",
              "          + ' to learn more about interactive tables.';\n",
              "        element.innerHTML = '';\n",
              "        dataTable['output_type'] = 'display_data';\n",
              "        await google.colab.output.renderOutput(dataTable, element);\n",
              "        const docLink = document.createElement('div');\n",
              "        docLink.innerHTML = docLinkHtml;\n",
              "        element.appendChild(docLink);\n",
              "      }\n",
              "    </script>\n",
              "  </div>\n",
              "\n",
              "\n",
              "<div id=\"df-ce3f95ca-4d50-45da-8073-72f45c30c889\">\n",
              "  <button class=\"colab-df-quickchart\" onclick=\"quickchart('df-ce3f95ca-4d50-45da-8073-72f45c30c889')\"\n",
              "            title=\"Suggest charts\"\n",
              "            style=\"display:none;\">\n",
              "\n",
              "<svg xmlns=\"http://www.w3.org/2000/svg\" height=\"24px\"viewBox=\"0 0 24 24\"\n",
              "     width=\"24px\">\n",
              "    <g>\n",
              "        <path d=\"M19 3H5c-1.1 0-2 .9-2 2v14c0 1.1.9 2 2 2h14c1.1 0 2-.9 2-2V5c0-1.1-.9-2-2-2zM9 17H7v-7h2v7zm4 0h-2V7h2v10zm4 0h-2v-4h2v4z\"/>\n",
              "    </g>\n",
              "</svg>\n",
              "  </button>\n",
              "\n",
              "<style>\n",
              "  .colab-df-quickchart {\n",
              "      --bg-color: #E8F0FE;\n",
              "      --fill-color: #1967D2;\n",
              "      --hover-bg-color: #E2EBFA;\n",
              "      --hover-fill-color: #174EA6;\n",
              "      --disabled-fill-color: #AAA;\n",
              "      --disabled-bg-color: #DDD;\n",
              "  }\n",
              "\n",
              "  [theme=dark] .colab-df-quickchart {\n",
              "      --bg-color: #3B4455;\n",
              "      --fill-color: #D2E3FC;\n",
              "      --hover-bg-color: #434B5C;\n",
              "      --hover-fill-color: #FFFFFF;\n",
              "      --disabled-bg-color: #3B4455;\n",
              "      --disabled-fill-color: #666;\n",
              "  }\n",
              "\n",
              "  .colab-df-quickchart {\n",
              "    background-color: var(--bg-color);\n",
              "    border: none;\n",
              "    border-radius: 50%;\n",
              "    cursor: pointer;\n",
              "    display: none;\n",
              "    fill: var(--fill-color);\n",
              "    height: 32px;\n",
              "    padding: 0;\n",
              "    width: 32px;\n",
              "  }\n",
              "\n",
              "  .colab-df-quickchart:hover {\n",
              "    background-color: var(--hover-bg-color);\n",
              "    box-shadow: 0 1px 2px rgba(60, 64, 67, 0.3), 0 1px 3px 1px rgba(60, 64, 67, 0.15);\n",
              "    fill: var(--button-hover-fill-color);\n",
              "  }\n",
              "\n",
              "  .colab-df-quickchart-complete:disabled,\n",
              "  .colab-df-quickchart-complete:disabled:hover {\n",
              "    background-color: var(--disabled-bg-color);\n",
              "    fill: var(--disabled-fill-color);\n",
              "    box-shadow: none;\n",
              "  }\n",
              "\n",
              "  .colab-df-spinner {\n",
              "    border: 2px solid var(--fill-color);\n",
              "    border-color: transparent;\n",
              "    border-bottom-color: var(--fill-color);\n",
              "    animation:\n",
              "      spin 1s steps(1) infinite;\n",
              "  }\n",
              "\n",
              "  @keyframes spin {\n",
              "    0% {\n",
              "      border-color: transparent;\n",
              "      border-bottom-color: var(--fill-color);\n",
              "      border-left-color: var(--fill-color);\n",
              "    }\n",
              "    20% {\n",
              "      border-color: transparent;\n",
              "      border-left-color: var(--fill-color);\n",
              "      border-top-color: var(--fill-color);\n",
              "    }\n",
              "    30% {\n",
              "      border-color: transparent;\n",
              "      border-left-color: var(--fill-color);\n",
              "      border-top-color: var(--fill-color);\n",
              "      border-right-color: var(--fill-color);\n",
              "    }\n",
              "    40% {\n",
              "      border-color: transparent;\n",
              "      border-right-color: var(--fill-color);\n",
              "      border-top-color: var(--fill-color);\n",
              "    }\n",
              "    60% {\n",
              "      border-color: transparent;\n",
              "      border-right-color: var(--fill-color);\n",
              "    }\n",
              "    80% {\n",
              "      border-color: transparent;\n",
              "      border-right-color: var(--fill-color);\n",
              "      border-bottom-color: var(--fill-color);\n",
              "    }\n",
              "    90% {\n",
              "      border-color: transparent;\n",
              "      border-bottom-color: var(--fill-color);\n",
              "    }\n",
              "  }\n",
              "</style>\n",
              "\n",
              "  <script>\n",
              "    async function quickchart(key) {\n",
              "      const quickchartButtonEl =\n",
              "        document.querySelector('#' + key + ' button');\n",
              "      quickchartButtonEl.disabled = true;  // To prevent multiple clicks.\n",
              "      quickchartButtonEl.classList.add('colab-df-spinner');\n",
              "      try {\n",
              "        const charts = await google.colab.kernel.invokeFunction(\n",
              "            'suggestCharts', [key], {});\n",
              "      } catch (error) {\n",
              "        console.error('Error during call to suggestCharts:', error);\n",
              "      }\n",
              "      quickchartButtonEl.classList.remove('colab-df-spinner');\n",
              "      quickchartButtonEl.classList.add('colab-df-quickchart-complete');\n",
              "    }\n",
              "    (() => {\n",
              "      let quickchartButtonEl =\n",
              "        document.querySelector('#df-ce3f95ca-4d50-45da-8073-72f45c30c889 button');\n",
              "      quickchartButtonEl.style.display =\n",
              "        google.colab.kernel.accessAllowed ? 'block' : 'none';\n",
              "    })();\n",
              "  </script>\n",
              "</div>\n",
              "\n",
              "    </div>\n",
              "  </div>\n"
            ],
            "application/vnd.google.colaboratory.intrinsic+json": {
              "type": "dataframe",
              "variable_name": "df"
            }
          },
          "metadata": {},
          "execution_count": 34
        }
      ],
      "source": [
        "df = pd.read_csv('train.csv')\n",
        "df.head()"
      ]
    },
    {
      "cell_type": "code",
      "execution_count": null,
      "metadata": {
        "colab": {
          "base_uri": "https://localhost:8080/"
        },
        "id": "Fz4DqcHoo_i7",
        "outputId": "732cf639-70fd-4b62-a943-f437e5af84f3"
      },
      "outputs": [
        {
          "output_type": "stream",
          "name": "stdout",
          "text": [
            "<class 'pandas.core.frame.DataFrame'>\n",
            "RangeIndex: 1460 entries, 0 to 1459\n",
            "Data columns (total 81 columns):\n",
            " #   Column         Non-Null Count  Dtype  \n",
            "---  ------         --------------  -----  \n",
            " 0   Id             1460 non-null   int64  \n",
            " 1   MSSubClass     1460 non-null   int64  \n",
            " 2   MSZoning       1460 non-null   object \n",
            " 3   LotFrontage    1201 non-null   float64\n",
            " 4   LotArea        1460 non-null   int64  \n",
            " 5   Street         1460 non-null   object \n",
            " 6   Alley          91 non-null     object \n",
            " 7   LotShape       1460 non-null   object \n",
            " 8   LandContour    1460 non-null   object \n",
            " 9   Utilities      1460 non-null   object \n",
            " 10  LotConfig      1460 non-null   object \n",
            " 11  LandSlope      1460 non-null   object \n",
            " 12  Neighborhood   1460 non-null   object \n",
            " 13  Condition1     1460 non-null   object \n",
            " 14  Condition2     1460 non-null   object \n",
            " 15  BldgType       1460 non-null   object \n",
            " 16  HouseStyle     1460 non-null   object \n",
            " 17  OverallQual    1460 non-null   int64  \n",
            " 18  OverallCond    1460 non-null   int64  \n",
            " 19  YearBuilt      1460 non-null   int64  \n",
            " 20  YearRemodAdd   1460 non-null   int64  \n",
            " 21  RoofStyle      1460 non-null   object \n",
            " 22  RoofMatl       1460 non-null   object \n",
            " 23  Exterior1st    1460 non-null   object \n",
            " 24  Exterior2nd    1460 non-null   object \n",
            " 25  MasVnrType     588 non-null    object \n",
            " 26  MasVnrArea     1452 non-null   float64\n",
            " 27  ExterQual      1460 non-null   object \n",
            " 28  ExterCond      1460 non-null   object \n",
            " 29  Foundation     1460 non-null   object \n",
            " 30  BsmtQual       1423 non-null   object \n",
            " 31  BsmtCond       1423 non-null   object \n",
            " 32  BsmtExposure   1422 non-null   object \n",
            " 33  BsmtFinType1   1423 non-null   object \n",
            " 34  BsmtFinSF1     1460 non-null   int64  \n",
            " 35  BsmtFinType2   1422 non-null   object \n",
            " 36  BsmtFinSF2     1460 non-null   int64  \n",
            " 37  BsmtUnfSF      1460 non-null   int64  \n",
            " 38  TotalBsmtSF    1460 non-null   int64  \n",
            " 39  Heating        1460 non-null   object \n",
            " 40  HeatingQC      1460 non-null   object \n",
            " 41  CentralAir     1460 non-null   object \n",
            " 42  Electrical     1459 non-null   object \n",
            " 43  1stFlrSF       1460 non-null   int64  \n",
            " 44  2ndFlrSF       1460 non-null   int64  \n",
            " 45  LowQualFinSF   1460 non-null   int64  \n",
            " 46  GrLivArea      1460 non-null   int64  \n",
            " 47  BsmtFullBath   1460 non-null   int64  \n",
            " 48  BsmtHalfBath   1460 non-null   int64  \n",
            " 49  FullBath       1460 non-null   int64  \n",
            " 50  HalfBath       1460 non-null   int64  \n",
            " 51  BedroomAbvGr   1460 non-null   int64  \n",
            " 52  KitchenAbvGr   1460 non-null   int64  \n",
            " 53  KitchenQual    1460 non-null   object \n",
            " 54  TotRmsAbvGrd   1460 non-null   int64  \n",
            " 55  Functional     1460 non-null   object \n",
            " 56  Fireplaces     1460 non-null   int64  \n",
            " 57  FireplaceQu    770 non-null    object \n",
            " 58  GarageType     1379 non-null   object \n",
            " 59  GarageYrBlt    1379 non-null   float64\n",
            " 60  GarageFinish   1379 non-null   object \n",
            " 61  GarageCars     1460 non-null   int64  \n",
            " 62  GarageArea     1460 non-null   int64  \n",
            " 63  GarageQual     1379 non-null   object \n",
            " 64  GarageCond     1379 non-null   object \n",
            " 65  PavedDrive     1460 non-null   object \n",
            " 66  WoodDeckSF     1460 non-null   int64  \n",
            " 67  OpenPorchSF    1460 non-null   int64  \n",
            " 68  EnclosedPorch  1460 non-null   int64  \n",
            " 69  3SsnPorch      1460 non-null   int64  \n",
            " 70  ScreenPorch    1460 non-null   int64  \n",
            " 71  PoolArea       1460 non-null   int64  \n",
            " 72  PoolQC         7 non-null      object \n",
            " 73  Fence          281 non-null    object \n",
            " 74  MiscFeature    54 non-null     object \n",
            " 75  MiscVal        1460 non-null   int64  \n",
            " 76  MoSold         1460 non-null   int64  \n",
            " 77  YrSold         1460 non-null   int64  \n",
            " 78  SaleType       1460 non-null   object \n",
            " 79  SaleCondition  1460 non-null   object \n",
            " 80  SalePrice      1460 non-null   int64  \n",
            "dtypes: float64(3), int64(35), object(43)\n",
            "memory usage: 924.0+ KB\n"
          ]
        }
      ],
      "source": [
        "df.info()"
      ]
    },
    {
      "cell_type": "markdown",
      "metadata": {
        "id": "yB3VQ29QnwXq"
      },
      "source": [
        "Drop ID"
      ]
    },
    {
      "cell_type": "code",
      "execution_count": null,
      "metadata": {
        "id": "dob-swewlbOp"
      },
      "outputs": [],
      "source": [
        "train_ID = df['Id']\n",
        "df.drop(\"Id\", axis = 1, inplace = True)"
      ]
    },
    {
      "cell_type": "markdown",
      "metadata": {
        "id": "Jj5yHoOTokH0"
      },
      "source": [
        "NaN"
      ]
    },
    {
      "cell_type": "code",
      "execution_count": null,
      "metadata": {
        "id": "5f26PWo5omm6"
      },
      "outputs": [],
      "source": [
        "nancatcolumn = df[df.select_dtypes(include='object').columns].isna().sum()\n",
        "nancatcolumn = nancatcolumn[nancatcolumn > 0].index.tolist()\n",
        "df[nancatcolumn] = df[nancatcolumn].fillna('None')"
      ]
    },
    {
      "cell_type": "code",
      "execution_count": null,
      "metadata": {
        "colab": {
          "base_uri": "https://localhost:8080/"
        },
        "id": "iWE5ACYGoyrx",
        "outputId": "7d69c0b1-2eef-40d0-fa05-9450c17940a0"
      },
      "outputs": [
        {
          "output_type": "stream",
          "name": "stdout",
          "text": [
            "<class 'pandas.core.frame.DataFrame'>\n",
            "RangeIndex: 1460 entries, 0 to 1459\n",
            "Data columns (total 80 columns):\n",
            " #   Column         Non-Null Count  Dtype  \n",
            "---  ------         --------------  -----  \n",
            " 0   MSSubClass     1460 non-null   int64  \n",
            " 1   MSZoning       1460 non-null   object \n",
            " 2   LotFrontage    1460 non-null   float64\n",
            " 3   LotArea        1460 non-null   int64  \n",
            " 4   Street         1460 non-null   object \n",
            " 5   Alley          1460 non-null   object \n",
            " 6   LotShape       1460 non-null   object \n",
            " 7   LandContour    1460 non-null   object \n",
            " 8   Utilities      1460 non-null   object \n",
            " 9   LotConfig      1460 non-null   object \n",
            " 10  LandSlope      1460 non-null   object \n",
            " 11  Neighborhood   1460 non-null   object \n",
            " 12  Condition1     1460 non-null   object \n",
            " 13  Condition2     1460 non-null   object \n",
            " 14  BldgType       1460 non-null   object \n",
            " 15  HouseStyle     1460 non-null   object \n",
            " 16  OverallQual    1460 non-null   int64  \n",
            " 17  OverallCond    1460 non-null   int64  \n",
            " 18  YearBuilt      1460 non-null   int64  \n",
            " 19  YearRemodAdd   1460 non-null   int64  \n",
            " 20  RoofStyle      1460 non-null   object \n",
            " 21  RoofMatl       1460 non-null   object \n",
            " 22  Exterior1st    1460 non-null   object \n",
            " 23  Exterior2nd    1460 non-null   object \n",
            " 24  MasVnrType     1460 non-null   object \n",
            " 25  MasVnrArea     1460 non-null   float64\n",
            " 26  ExterQual      1460 non-null   object \n",
            " 27  ExterCond      1460 non-null   object \n",
            " 28  Foundation     1460 non-null   object \n",
            " 29  BsmtQual       1460 non-null   object \n",
            " 30  BsmtCond       1460 non-null   object \n",
            " 31  BsmtExposure   1460 non-null   object \n",
            " 32  BsmtFinType1   1460 non-null   object \n",
            " 33  BsmtFinSF1     1460 non-null   int64  \n",
            " 34  BsmtFinType2   1460 non-null   object \n",
            " 35  BsmtFinSF2     1460 non-null   int64  \n",
            " 36  BsmtUnfSF      1460 non-null   int64  \n",
            " 37  TotalBsmtSF    1460 non-null   int64  \n",
            " 38  Heating        1460 non-null   object \n",
            " 39  HeatingQC      1460 non-null   object \n",
            " 40  CentralAir     1460 non-null   object \n",
            " 41  Electrical     1460 non-null   object \n",
            " 42  1stFlrSF       1460 non-null   int64  \n",
            " 43  2ndFlrSF       1460 non-null   int64  \n",
            " 44  LowQualFinSF   1460 non-null   int64  \n",
            " 45  GrLivArea      1460 non-null   int64  \n",
            " 46  BsmtFullBath   1460 non-null   int64  \n",
            " 47  BsmtHalfBath   1460 non-null   int64  \n",
            " 48  FullBath       1460 non-null   int64  \n",
            " 49  HalfBath       1460 non-null   int64  \n",
            " 50  BedroomAbvGr   1460 non-null   int64  \n",
            " 51  KitchenAbvGr   1460 non-null   int64  \n",
            " 52  KitchenQual    1460 non-null   object \n",
            " 53  TotRmsAbvGrd   1460 non-null   int64  \n",
            " 54  Functional     1460 non-null   object \n",
            " 55  Fireplaces     1460 non-null   int64  \n",
            " 56  FireplaceQu    1460 non-null   object \n",
            " 57  GarageType     1460 non-null   object \n",
            " 58  GarageYrBlt    1460 non-null   float64\n",
            " 59  GarageFinish   1460 non-null   object \n",
            " 60  GarageCars     1460 non-null   int64  \n",
            " 61  GarageArea     1460 non-null   int64  \n",
            " 62  GarageQual     1460 non-null   object \n",
            " 63  GarageCond     1460 non-null   object \n",
            " 64  PavedDrive     1460 non-null   object \n",
            " 65  WoodDeckSF     1460 non-null   int64  \n",
            " 66  OpenPorchSF    1460 non-null   int64  \n",
            " 67  EnclosedPorch  1460 non-null   int64  \n",
            " 68  3SsnPorch      1460 non-null   int64  \n",
            " 69  ScreenPorch    1460 non-null   int64  \n",
            " 70  PoolArea       1460 non-null   int64  \n",
            " 71  PoolQC         1460 non-null   object \n",
            " 72  Fence          1460 non-null   object \n",
            " 73  MiscFeature    1460 non-null   object \n",
            " 74  MiscVal        1460 non-null   int64  \n",
            " 75  MoSold         1460 non-null   int64  \n",
            " 76  YrSold         1460 non-null   int64  \n",
            " 77  SaleType       1460 non-null   object \n",
            " 78  SaleCondition  1460 non-null   object \n",
            " 79  SalePrice      1460 non-null   int64  \n",
            "dtypes: float64(3), int64(34), object(43)\n",
            "memory usage: 912.6+ KB\n"
          ]
        }
      ],
      "source": [
        "nannumcolumn = df[df.select_dtypes(include=['float64', 'int64']).columns].isna().sum()\n",
        "nannumcolumn = nannumcolumn[nannumcolumn > 0].index.tolist()\n",
        "from sklearn.impute import SimpleImputer\n",
        "imputer = SimpleImputer(strategy='median')\n",
        "df[nannumcolumn] = imputer.fit_transform(df[nannumcolumn])\n",
        "df.info()"
      ]
    },
    {
      "cell_type": "markdown",
      "metadata": {
        "id": "i1LxD5ApdQvq"
      },
      "source": [
        "Fix and Add Features"
      ]
    },
    {
      "cell_type": "code",
      "execution_count": null,
      "metadata": {
        "id": "cZuyMXc4dT2M"
      },
      "outputs": [],
      "source": [
        "df['MSSubClass'] = df['MSSubClass'].apply(str)\n",
        "\n",
        "#Changing OverallCond into a categorical variable\n",
        "df['OverallCond'] = df['OverallCond'].astype(str)\n",
        "\n",
        "#Year and month sold are transformed into categorical features.\n",
        "df['YrSold'] = df['YrSold'].astype(str)\n",
        "df['MoSold'] = df['MoSold'].astype(str)"
      ]
    },
    {
      "cell_type": "code",
      "execution_count": null,
      "metadata": {
        "id": "98ZBH-kfg2Fq"
      },
      "outputs": [],
      "source": [
        "df['TotalSF'] = df['TotalBsmtSF'] + df['1stFlrSF'] + df['2ndFlrSF']"
      ]
    },
    {
      "cell_type": "code",
      "execution_count": null,
      "metadata": {
        "id": "o4N9fcrmp4BM"
      },
      "outputs": [],
      "source": [
        "df['Age'] = df['YrSold'].astype(int) - df['YearBuilt']"
      ]
    },
    {
      "cell_type": "code",
      "execution_count": null,
      "metadata": {
        "id": "xj3vnJE2qBPi"
      },
      "outputs": [],
      "source": [
        "df['YearsSinceRemodel'] = df['YrSold'].astype(int) - df['YearRemodAdd']"
      ]
    },
    {
      "cell_type": "code",
      "execution_count": null,
      "metadata": {
        "id": "DHd-DcJYqh_n"
      },
      "outputs": [],
      "source": [
        "df['TotalLivingArea'] = df['TotalBsmtSF'] + df['1stFlrSF'] + df['2ndFlrSF'] + df['GrLivArea']"
      ]
    },
    {
      "cell_type": "code",
      "execution_count": null,
      "metadata": {
        "id": "nLkJLOgDq08d"
      },
      "outputs": [],
      "source": [
        "df['TotalBsmtFinSF'] = df['BsmtFinSF1'] + df['BsmtFinSF2']"
      ]
    },
    {
      "cell_type": "code",
      "execution_count": null,
      "metadata": {
        "id": "qldiB-xzrBxj"
      },
      "outputs": [],
      "source": [
        "df['TotalBsmtBaths'] = df['BsmtFullBath'] + 0.5 * df['BsmtHalfBath']"
      ]
    },
    {
      "cell_type": "code",
      "execution_count": null,
      "metadata": {
        "id": "zjq5Ob61rIEl"
      },
      "outputs": [],
      "source": [
        "df['TotalBaths'] = df['FullBath'] + 0.5 * df['HalfBath']"
      ]
    },
    {
      "cell_type": "code",
      "execution_count": null,
      "metadata": {
        "id": "44tXtTU6rs-s"
      },
      "outputs": [],
      "source": [
        "df['GarageScore'] = df['GarageCars'] * df['GarageArea']"
      ]
    },
    {
      "cell_type": "markdown",
      "metadata": {
        "id": "cHWkHXNtnxZ5"
      },
      "source": [
        "Checking Correlation"
      ]
    },
    {
      "cell_type": "code",
      "execution_count": null,
      "metadata": {
        "colab": {
          "base_uri": "https://localhost:8080/",
          "height": 1000
        },
        "id": "Ji98tDkbgm5p",
        "outputId": "2a4cc7a7-8767-441e-c088-3eb2503e0595"
      },
      "outputs": [
        {
          "output_type": "display_data",
          "data": {
            "text/plain": [
              "<Figure size 2000x1100 with 2 Axes>"
            ],
            "image/png": "[encoded data removed]"
          },
          "metadata": {}
        }
      ],
      "source": [
        "numerical_df = df.select_dtypes(include=['number'])\n",
        "\n",
        "corrmat = numerical_df.corr()\n",
        "f, ax = plt.subplots(figsize=(20, 11))\n",
        "sns.heatmap(corrmat, vmax=1, square=True);"
      ]
    },
    {
      "cell_type": "code",
      "execution_count": null,
      "metadata": {
        "colab": {
          "base_uri": "https://localhost:8080/",
          "height": 572
        },
        "id": "HIjp355si49m",
        "outputId": "61fc7bd1-97aa-4d54-8651-7de09f279046"
      },
      "outputs": [
        {
          "output_type": "display_data",
          "data": {
            "text/plain": [
              "<Figure size 640x480 with 2 Axes>"
            ],
            "image/png": "[encoded data removed]"
          },
          "metadata": {}
        }
      ],
      "source": [
        "k = 10\n",
        "cols = corrmat.nlargest(k, 'SalePrice')['SalePrice'].index\n",
        "cm = np.corrcoef(df[cols].values.T)\n",
        "sns.set(font_scale=1.25)\n",
        "hm = sns.heatmap(cm, cbar=True, annot=True, square=True, fmt='.2f', annot_kws={'size': 10}, yticklabels=cols.values, xticklabels=cols.values)\n",
        "plt.show()"
      ]
    },
    {
      "cell_type": "code",
      "execution_count": null,
      "metadata": {
        "id": "eUjwfv9valGd"
      },
      "outputs": [],
      "source": []
    },
    {
      "cell_type": "code",
      "execution_count": null,
      "metadata": {
        "colab": {
          "base_uri": "https://localhost:8080/",
          "height": 363
        },
        "id": "UmOSbjtUlwTt",
        "outputId": "6e7ccfaa-3b42-440a-98c7-fe6121ce28d9"
      },
      "outputs": [
        {
          "output_type": "execute_result",
          "data": {
            "text/plain": [
              "  Most Correlated Features\n",
              "0                SalePrice\n",
              "1              OverallQual\n",
              "2                  TotalSF\n",
              "3          TotalLivingArea\n",
              "4                GrLivArea\n",
              "5              GarageScore\n",
              "6               GarageCars\n",
              "7               GarageArea\n",
              "8              TotalBsmtSF\n",
              "9                 1stFlrSF"
            ],
            "text/html": [
              "\n",
              "  <div id=\"df-29c43b8e-2714-4859-99f8-cae552330b6f\" class=\"colab-df-container\">\n",
              "    <div>\n",
              "<style scoped>\n",
              "    .dataframe tbody tr th:only-of-type {\n",
              "        vertical-align: middle;\n",
              "    }\n",
              "\n",
              "    .dataframe tbody tr th {\n",
              "        vertical-align: top;\n",
              "    }\n",
              "\n",
              "    .dataframe thead th {\n",
              "        text-align: right;\n",
              "    }\n",
              "</style>\n",
              "<table border=\"1\" class=\"dataframe\">\n",
              "  <thead>\n",
              "    <tr style=\"text-align: right;\">\n",
              "      <th></th>\n",
              "      <th>Most Correlated Features</th>\n",
              "    </tr>\n",
              "  </thead>\n",
              "  <tbody>\n",
              "    <tr>\n",
              "      <th>0</th>\n",
              "      <td>SalePrice</td>\n",
              "    </tr>\n",
              "    <tr>\n",
              "      <th>1</th>\n",
              "      <td>OverallQual</td>\n",
              "    </tr>\n",
              "    <tr>\n",
              "      <th>2</th>\n",
              "      <td>TotalSF</td>\n",
              "    </tr>\n",
              "    <tr>\n",
              "      <th>3</th>\n",
              "      <td>TotalLivingArea</td>\n",
              "    </tr>\n",
              "    <tr>\n",
              "      <th>4</th>\n",
              "      <td>GrLivArea</td>\n",
              "    </tr>\n",
              "    <tr>\n",
              "      <th>5</th>\n",
              "      <td>GarageScore</td>\n",
              "    </tr>\n",
              "    <tr>\n",
              "      <th>6</th>\n",
              "      <td>GarageCars</td>\n",
              "    </tr>\n",
              "    <tr>\n",
              "      <th>7</th>\n",
              "      <td>GarageArea</td>\n",
              "    </tr>\n",
              "    <tr>\n",
              "      <th>8</th>\n",
              "      <td>TotalBsmtSF</td>\n",
              "    </tr>\n",
              "    <tr>\n",
              "      <th>9</th>\n",
              "      <td>1stFlrSF</td>\n",
              "    </tr>\n",
              "  </tbody>\n",
              "</table>\n",
              "</div>\n",
              "    <div class=\"colab-df-buttons\">\n",
              "\n",
              "  <div class=\"colab-df-container\">\n",
              "    <button class=\"colab-df-convert\" onclick=\"convertToInteractive('df-29c43b8e-2714-4859-99f8-cae552330b6f')\"\n",
              "            title=\"Convert this dataframe to an interactive table.\"\n",
              "            style=\"display:none;\">\n",
              "\n",
              "  <svg xmlns=\"http://www.w3.org/2000/svg\" height=\"24px\" viewBox=\"0 -960 960 960\">\n",
              "    <path d=\"M120-120v-720h720v720H120Zm60-500h600v-160H180v160Zm220 220h160v-160H400v160Zm0 220h160v-160H400v160ZM180-400h160v-160H180v160Zm440 0h160v-160H620v160ZM180-180h160v-160H180v160Zm440 0h160v-160H620v160Z\"/>\n",
              "  </svg>\n",
              "    </button>\n",
              "\n",
              "  <style>\n",
              "    .colab-df-container {\n",
              "      display:flex;\n",
              "      gap: 12px;\n",
              "    }\n",
              "\n",
              "    .colab-df-convert {\n",
              "      background-color: #E8F0FE;\n",
              "      border: none;\n",
              "      border-radius: 50%;\n",
              "      cursor: pointer;\n",
              "      display: none;\n",
              "      fill: #1967D2;\n",
              "      height: 32px;\n",
              "      padding: 0 0 0 0;\n",
              "      width: 32px;\n",
              "    }\n",
              "\n",
              "    .colab-df-convert:hover {\n",
              "      background-color: #E2EBFA;\n",
              "      box-shadow: 0px 1px 2px rgba(60, 64, 67, 0.3), 0px 1px 3px 1px rgba(60, 64, 67, 0.15);\n",
              "      fill: #174EA6;\n",
              "    }\n",
              "\n",
              "    .colab-df-buttons div {\n",
              "      margin-bottom: 4px;\n",
              "    }\n",
              "\n",
              "    [theme=dark] .colab-df-convert {\n",
              "      background-color: #3B4455;\n",
              "      fill: #D2E3FC;\n",
              "    }\n",
              "\n",
              "    [theme=dark] .colab-df-convert:hover {\n",
              "      background-color: #434B5C;\n",
              "      box-shadow: 0px 1px 3px 1px rgba(0, 0, 0, 0.15);\n",
              "      filter: drop-shadow(0px 1px 2px rgba(0, 0, 0, 0.3));\n",
              "      fill: #FFFFFF;\n",
              "    }\n",
              "  </style>\n",
              "\n",
              "    <script>\n",
              "      const buttonEl =\n",
              "        document.querySelector('#df-29c43b8e-2714-4859-99f8-cae552330b6f button.colab-df-convert');\n",
              "      buttonEl.style.display =\n",
              "        google.colab.kernel.accessAllowed ? 'block' : 'none';\n",
              "\n",
              "      async function convertToInteractive(key) {\n",
              "        const element = document.querySelector('#df-29c43b8e-2714-4859-99f8-cae552330b6f');\n",
              "        const dataTable =\n",
              "          await google.colab.kernel.invokeFunction('convertToInteractive',\n",
              "                                                    [key], {});\n",
              "        if (!dataTable) return;\n",
              "\n",
              "        const docLinkHtml = 'Like what you see? Visit the ' +\n",
              "          '<a target=\"_blank\" href=https://colab.research.google.com/notebooks/data_table.ipynb>data table notebook</a>'\n",
              "          + ' to learn more about interactive tables.';\n",
              "        element.innerHTML = '';\n",
              "        dataTable['output_type'] = 'display_data';\n",
              "        await google.colab.output.renderOutput(dataTable, element);\n",
              "        const docLink = document.createElement('div');\n",
              "        docLink.innerHTML = docLinkHtml;\n",
              "        element.appendChild(docLink);\n",
              "      }\n",
              "    </script>\n",
              "  </div>\n",
              "\n",
              "\n",
              "<div id=\"df-e3da80d0-6d8b-4296-a666-8c10a9ab046f\">\n",
              "  <button class=\"colab-df-quickchart\" onclick=\"quickchart('df-e3da80d0-6d8b-4296-a666-8c10a9ab046f')\"\n",
              "            title=\"Suggest charts\"\n",
              "            style=\"display:none;\">\n",
              "\n",
              "<svg xmlns=\"http://www.w3.org/2000/svg\" height=\"24px\"viewBox=\"0 0 24 24\"\n",
              "     width=\"24px\">\n",
              "    <g>\n",
              "        <path d=\"M19 3H5c-1.1 0-2 .9-2 2v14c0 1.1.9 2 2 2h14c1.1 0 2-.9 2-2V5c0-1.1-.9-2-2-2zM9 17H7v-7h2v7zm4 0h-2V7h2v10zm4 0h-2v-4h2v4z\"/>\n",
              "    </g>\n",
              "</svg>\n",
              "  </button>\n",
              "\n",
              "<style>\n",
              "  .colab-df-quickchart {\n",
              "      --bg-color: #E8F0FE;\n",
              "      --fill-color: #1967D2;\n",
              "      --hover-bg-color: #E2EBFA;\n",
              "      --hover-fill-color: #174EA6;\n",
              "      --disabled-fill-color: #AAA;\n",
              "      --disabled-bg-color: #DDD;\n",
              "  }\n",
              "\n",
              "  [theme=dark] .colab-df-quickchart {\n",
              "      --bg-color: #3B4455;\n",
              "      --fill-color: #D2E3FC;\n",
              "      --hover-bg-color: #434B5C;\n",
              "      --hover-fill-color: #FFFFFF;\n",
              "      --disabled-bg-color: #3B4455;\n",
              "      --disabled-fill-color: #666;\n",
              "  }\n",
              "\n",
              "  .colab-df-quickchart {\n",
              "    background-color: var(--bg-color);\n",
              "    border: none;\n",
              "    border-radius: 50%;\n",
              "    cursor: pointer;\n",
              "    display: none;\n",
              "    fill: var(--fill-color);\n",
              "    height: 32px;\n",
              "    padding: 0;\n",
              "    width: 32px;\n",
              "  }\n",
              "\n",
              "  .colab-df-quickchart:hover {\n",
              "    background-color: var(--hover-bg-color);\n",
              "    box-shadow: 0 1px 2px rgba(60, 64, 67, 0.3), 0 1px 3px 1px rgba(60, 64, 67, 0.15);\n",
              "    fill: var(--button-hover-fill-color);\n",
              "  }\n",
              "\n",
              "  .colab-df-quickchart-complete:disabled,\n",
              "  .colab-df-quickchart-complete:disabled:hover {\n",
              "    background-color: var(--disabled-bg-color);\n",
              "    fill: var(--disabled-fill-color);\n",
              "    box-shadow: none;\n",
              "  }\n",
              "\n",
              "  .colab-df-spinner {\n",
              "    border: 2px solid var(--fill-color);\n",
              "    border-color: transparent;\n",
              "    border-bottom-color: var(--fill-color);\n",
              "    animation:\n",
              "      spin 1s steps(1) infinite;\n",
              "  }\n",
              "\n",
              "  @keyframes spin {\n",
              "    0% {\n",
              "      border-color: transparent;\n",
              "      border-bottom-color: var(--fill-color);\n",
              "      border-left-color: var(--fill-color);\n",
              "    }\n",
              "    20% {\n",
              "      border-color: transparent;\n",
              "      border-left-color: var(--fill-color);\n",
              "      border-top-color: var(--fill-color);\n",
              "    }\n",
              "    30% {\n",
              "      border-color: transparent;\n",
              "      border-left-color: var(--fill-color);\n",
              "      border-top-color: var(--fill-color);\n",
              "      border-right-color: var(--fill-color);\n",
              "    }\n",
              "    40% {\n",
              "      border-color: transparent;\n",
              "      border-right-color: var(--fill-color);\n",
              "      border-top-color: var(--fill-color);\n",
              "    }\n",
              "    60% {\n",
              "      border-color: transparent;\n",
              "      border-right-color: var(--fill-color);\n",
              "    }\n",
              "    80% {\n",
              "      border-color: transparent;\n",
              "      border-right-color: var(--fill-color);\n",
              "      border-bottom-color: var(--fill-color);\n",
              "    }\n",
              "    90% {\n",
              "      border-color: transparent;\n",
              "      border-bottom-color: var(--fill-color);\n",
              "    }\n",
              "  }\n",
              "</style>\n",
              "\n",
              "  <script>\n",
              "    async function quickchart(key) {\n",
              "      const quickchartButtonEl =\n",
              "        document.querySelector('#' + key + ' button');\n",
              "      quickchartButtonEl.disabled = true;  // To prevent multiple clicks.\n",
              "      quickchartButtonEl.classList.add('colab-df-spinner');\n",
              "      try {\n",
              "        const charts = await google.colab.kernel.invokeFunction(\n",
              "            'suggestCharts', [key], {});\n",
              "      } catch (error) {\n",
              "        console.error('Error during call to suggestCharts:', error);\n",
              "      }\n",
              "      quickchartButtonEl.classList.remove('colab-df-spinner');\n",
              "      quickchartButtonEl.classList.add('colab-df-quickchart-complete');\n",
              "    }\n",
              "    (() => {\n",
              "      let quickchartButtonEl =\n",
              "        document.querySelector('#df-e3da80d0-6d8b-4296-a666-8c10a9ab046f button');\n",
              "      quickchartButtonEl.style.display =\n",
              "        google.colab.kernel.accessAllowed ? 'block' : 'none';\n",
              "    })();\n",
              "  </script>\n",
              "</div>\n",
              "\n",
              "  <div id=\"id_95ad953e-4356-43da-8ed6-75c404a5b712\">\n",
              "    <style>\n",
              "      .colab-df-generate {\n",
              "        background-color: #E8F0FE;\n",
              "        border: none;\n",
              "        border-radius: 50%;\n",
              "        cursor: pointer;\n",
              "        display: none;\n",
              "        fill: #1967D2;\n",
              "        height: 32px;\n",
              "        padding: 0 0 0 0;\n",
              "        width: 32px;\n",
              "      }\n",
              "\n",
              "      .colab-df-generate:hover {\n",
              "        background-color: #E2EBFA;\n",
              "        box-shadow: 0px 1px 2px rgba(60, 64, 67, 0.3), 0px 1px 3px 1px rgba(60, 64, 67, 0.15);\n",
              "        fill: #174EA6;\n",
              "      }\n",
              "\n",
              "      [theme=dark] .colab-df-generate {\n",
              "        background-color: #3B4455;\n",
              "        fill: #D2E3FC;\n",
              "      }\n",
              "\n",
              "      [theme=dark] .colab-df-generate:hover {\n",
              "        background-color: #434B5C;\n",
              "        box-shadow: 0px 1px 3px 1px rgba(0, 0, 0, 0.15);\n",
              "        filter: drop-shadow(0px 1px 2px rgba(0, 0, 0, 0.3));\n",
              "        fill: #FFFFFF;\n",
              "      }\n",
              "    </style>\n",
              "    <button class=\"colab-df-generate\" onclick=\"generateWithVariable('most_corr')\"\n",
              "            title=\"Generate code using this dataframe.\"\n",
              "            style=\"display:none;\">\n",
              "\n",
              "  <svg xmlns=\"http://www.w3.org/2000/svg\" height=\"24px\"viewBox=\"0 0 24 24\"\n",
              "       width=\"24px\">\n",
              "    <path d=\"M7,19H8.4L18.45,9,17,7.55,7,17.6ZM5,21V16.75L18.45,3.32a2,2,0,0,1,2.83,0l1.4,1.43a1.91,1.91,0,0,1,.58,1.4,1.91,1.91,0,0,1-.58,1.4L9.25,21ZM18.45,9,17,7.55Zm-12,3A5.31,5.31,0,0,0,4.9,8.1,5.31,5.31,0,0,0,1,6.5,5.31,5.31,0,0,0,4.9,4.9,5.31,5.31,0,0,0,6.5,1,5.31,5.31,0,0,0,8.1,4.9,5.31,5.31,0,0,0,12,6.5,5.46,5.46,0,0,0,6.5,12Z\"/>\n",
              "  </svg>\n",
              "    </button>\n",
              "    <script>\n",
              "      (() => {\n",
              "      const buttonEl =\n",
              "        document.querySelector('#id_95ad953e-4356-43da-8ed6-75c404a5b712 button.colab-df-generate');\n",
              "      buttonEl.style.display =\n",
              "        google.colab.kernel.accessAllowed ? 'block' : 'none';\n",
              "\n",
              "      buttonEl.onclick = () => {\n",
              "        google.colab.notebook.generateWithVariable('most_corr');\n",
              "      }\n",
              "      })();\n",
              "    </script>\n",
              "  </div>\n",
              "\n",
              "    </div>\n",
              "  </div>\n"
            ],
            "application/vnd.google.colaboratory.intrinsic+json": {
              "type": "dataframe",
              "variable_name": "most_corr",
              "summary": "{\n  \"name\": \"most_corr\",\n  \"rows\": 10,\n  \"fields\": [\n    {\n      \"column\": \"Most Correlated Features\",\n      \"properties\": {\n        \"dtype\": \"string\",\n        \"num_unique_values\": 10,\n        \"samples\": [\n          \"TotalBsmtSF\",\n          \"OverallQual\",\n          \"GarageScore\"\n        ],\n        \"semantic_type\": \"\",\n        \"description\": \"\"\n      }\n    }\n  ]\n}"
            }
          },
          "metadata": {},
          "execution_count": 50
        }
      ],
      "source": [
        "most_corr = pd.DataFrame(cols)\n",
        "most_corr.columns = ['Most Correlated Features']\n",
        "most_corr"
      ]
    },
    {
      "cell_type": "markdown",
      "metadata": {
        "id": "fAIvA2DHpctx"
      },
      "source": [
        "Encoding Object Type Data"
      ]
    },
    {
      "cell_type": "code",
      "execution_count": null,
      "metadata": {
        "id": "Ubry8BUNpeb4"
      },
      "outputs": [],
      "source": [
        "from sklearn.preprocessing import LabelEncoder\n",
        "from sklearn.model_selection import train_test_split\n",
        "\n",
        "dfcatcolumns = df.select_dtypes(include='object').columns.tolist()\n",
        "encode = LabelEncoder()\n",
        "for col in dfcatcolumns:\n",
        "  df[col] = encode.fit_transform(df[col])"
      ]
    },
    {
      "cell_type": "markdown",
      "metadata": {
        "id": "5V7zUjTVraxp"
      },
      "source": [
        "Train df and dfor"
      ]
    },
    {
      "cell_type": "code",
      "execution_count": null,
      "metadata": {
        "id": "8dEKyo-_qSKG"
      },
      "outputs": [],
      "source": [
        "features = most_corr['Most Correlated Features'].tolist()\n",
        "features.remove('SalePrice')\n",
        "X = df[features]\n",
        "y = df['SalePrice']\n",
        "from sklearn.model_selection import train_test_split\n",
        "X_train, X_test, y_train, y_test = train_test_split(X, y, test_size = 0.30, random_state = 0)"
      ]
    },
    {
      "cell_type": "code",
      "execution_count": null,
      "metadata": {
        "id": "l8dothmKry7j"
      },
      "outputs": [],
      "source": [
        "from sklearn.model_selection import train_test_split\n",
        "from sklearn.linear_model import LinearRegression\n",
        "from sklearn.metrics import mean_squared_error, r2_score\n",
        "from sklearn.preprocessing import StandardScaler\n",
        "from sklearn.metrics import mean_absolute_error"
      ]
    },
    {
      "cell_type": "markdown",
      "metadata": {
        "id": "Cttlk3sFruCs"
      },
      "source": [
        "Linear Regression"
      ]
    },
    {
      "cell_type": "code",
      "execution_count": null,
      "metadata": {
        "id": "_imptEKBsEsa"
      },
      "outputs": [],
      "source": [
        "scaler = StandardScaler()\n",
        "scaler.fit(X_train)\n",
        "\n",
        "X_train_scaled = scaler.transform(X_train)\n",
        "X_test_scaled = scaler.transform(X_test)\n",
        "model = LinearRegression()\n",
        "model.fit(X_train_scaled, y_train)\n",
        "y_predlr = model.predict(X_test_scaled)"
      ]
    },
    {
      "cell_type": "code",
      "execution_count": null,
      "metadata": {
        "colab": {
          "base_uri": "https://localhost:8080/"
        },
        "id": "5Ti_easTtlN6",
        "outputId": "ee808ffc-2882-4e2f-d28a-1ec8b994e101"
      },
      "outputs": [
        {
          "output_type": "stream",
          "name": "stdout",
          "text": [
            "Mean Squared Error (MSE): 1968913995.259549\n",
            "Root Mean Squared Error (RMSE): 44372.44635198232\n",
            "R-squared (R2): 0.7099843161710861\n",
            "Mean Absolute Error (MAE): 25260.81802266962\n"
          ]
        }
      ],
      "source": [
        "mse_lr = mean_squared_error(y_test, y_predlr)\n",
        "rmse_lr = np.sqrt(mse_lr)\n",
        "r2_lr = r2_score(y_test, y_predlr)\n",
        "mae_lr = mean_absolute_error(y_test, y_predlr)\n",
        "\n",
        "print('Mean Squared Error (MSE):', mse_lr)\n",
        "print('Root Mean Squared Error (RMSE):', rmse_lr)\n",
        "print('R-squared (R2):', r2_lr)\n",
        "print('Mean Absolute Error (MAE):', mae_lr)"
      ]
    },
    {
      "cell_type": "code",
      "execution_count": null,
      "metadata": {
        "colab": {
          "base_uri": "https://localhost:8080/"
        },
        "id": "_i3wgGwIv7xi",
        "outputId": "850b68b2-032f-4232-84bd-9727b7dd1431"
      },
      "outputs": [
        {
          "output_type": "stream",
          "name": "stdout",
          "text": [
            "[267126.08770583 156309.69958947 115328.59702973 227231.69122878\n",
            " 121100.77133428 116019.07533881 268422.68447827 148236.00209894\n",
            " 495433.56988528 158460.38519702 201832.6396995  189197.36884061\n",
            " 217641.14053467 104376.31452238 142814.08203005 141647.96588296\n",
            " 211823.59615586  93144.19379583 133856.94052931 191830.86571836\n",
            " 153409.38398171 133646.50798912 113327.91527046 153711.35321457\n",
            " 189958.76968119 222560.82518076 164916.1640421   61768.93147304\n",
            " 311394.85863947 118142.50832989 233769.17622723 197482.18326222\n",
            " 140852.4802074  295946.84341432 325052.18467562 178230.92806024\n",
            " 268474.4474657  116472.93671711 225838.29976632 299812.3705967\n",
            " 225657.88504868 133221.21294569 195043.66045347 309044.32697924\n",
            " 334759.70164554 178475.50800322 123782.30475136 105223.55983316\n",
            " 176479.62786303  57530.16677949 348239.43973415 135678.96442905\n",
            " 186452.16682927  75539.18549249 228268.62062192 115956.18056494\n",
            " 117228.70607608 264327.28814393 138203.262752    95326.45120663\n",
            " 150796.31876484 118362.23793233 131686.02785444 141094.6294505\n",
            " 205040.50514115 189596.06104568 107466.51241207 206028.19732277\n",
            " 129077.19242233 197700.19322137 178283.60755877 117189.21340855\n",
            "  51708.39089413 234539.79906946  79734.75458832 292893.38012101\n",
            " 111984.09690108  93236.2965984  260584.29120997 162875.32484582\n",
            " 131181.04798571 102969.08795982 134241.45873465 135887.33733413\n",
            " 213251.07548935 203606.46707813 128821.2444607  203606.31179971\n",
            " 167266.46432259 143257.14642326 175764.28467199 172370.8802807\n",
            " 157190.95003567 209308.18840043 219053.71945483 159157.8649143\n",
            " 219633.12108434 183865.21439161  92918.70512434 152395.08759247\n",
            " 244321.26709084 188354.78032857 101948.09392467 155327.79346483\n",
            " 122556.77843606 271079.61363652 136354.10294233  88355.41340665\n",
            " 159492.28841368 142865.18217372  80506.45513837  94304.50122652\n",
            " 192406.1990875  121501.26768137 181925.64106194 165561.8130647\n",
            " 410348.08358305 117947.97177518 191053.51961075 297952.75228123\n",
            " 167228.82680415 180574.2459889  130972.83035905 213584.06459315\n",
            " 222685.27921994 213419.90011375 345310.87645057 202165.10543842\n",
            " 197041.00644434 185022.59840593 259176.8443181  232070.64923969\n",
            " 158157.10704091 187469.27779104  80168.54884349 235037.58355187\n",
            " 151148.47698194 205031.52515253  83406.09048651 168947.67154111\n",
            " 147831.66129999 119835.62707442 244130.56228662 131333.43672786\n",
            " 122415.98025098 158094.96234697 256148.12166468 119132.41497623\n",
            " 286068.80719051 216112.75750968 191328.79315302 335015.02763091\n",
            " 296224.82745255 183210.72548452 196510.13005321 275077.63151046\n",
            " 119170.8222944  205891.67470688 126554.42211049 169371.04596932\n",
            "  98275.1310816  146460.049665   195902.67793366 106641.86770101\n",
            " 283096.30868069 133851.93935378 138913.46321918 289966.75076911\n",
            " 203208.7967314  178366.65799387 201562.71477927 164050.65745651\n",
            " 183232.82186705 164270.66645451 128507.92637873  95877.00503316\n",
            " 121612.43897513 253384.37256775 139082.8368084  157023.50815778\n",
            " 273133.82237914 203992.0400222  139962.71885946 290165.27558211\n",
            "  96259.79657624 178465.28744848 114699.16934366 197547.90063123\n",
            " 227152.11132948 133646.50798912 126786.15340676 157258.19360518\n",
            " 220353.79922347 123352.83322455 128056.81970808 155118.83742566\n",
            "  59851.79975944 131000.2934003  177970.76987787 133346.67912099\n",
            " 134243.25460758 213390.28937303 101861.9285182  119582.14159431\n",
            " 149305.74401188 293766.65312541 160385.50546944 319979.67145278\n",
            " 294381.30742322  60082.57950698 142143.78017052 246738.71160823\n",
            "  51039.86285899  97270.84394255 334269.66753221 224837.72874481\n",
            " 209899.18570094 278044.48650472 290406.78039967  61768.93147304\n",
            " 214982.63702867 188452.7274401  149652.16430773 102351.71655371\n",
            " 209570.11464851 263764.78967214 255666.41100381 220306.32658959\n",
            " 124756.46658139 195361.52009371  51039.86285899 165059.93337548\n",
            "  82162.85198286 123655.95244479 209928.98239999 146996.99156415\n",
            " 148944.14601045 100138.71021687  71649.35740538 192250.57302449\n",
            " 115566.41619028 176417.89663789 205248.59952354 211422.21097115\n",
            " 171624.1396452  200234.57103803 224974.88383103 191651.85601803\n",
            " 119564.42256306 218198.16663356 182677.11709338 299594.22897569\n",
            " 104243.12445873 369922.21939232 224244.8454618  245610.12499129\n",
            "  98852.79015356 241484.37976081 367691.05050069 692567.94239798\n",
            " 227378.34778741 106191.17246121 154234.22690343  73958.11678823\n",
            " 403968.72347909 293558.08954289 315248.36703465  49673.26645218\n",
            " 207134.03216449 289621.50889738 125086.98457347 219950.96857012\n",
            " 133479.00048627 191751.93877155 168113.01646129 227289.30703051\n",
            " 216767.14727104 185801.26692656 207804.63038754  99271.8140673\n",
            " 121832.36076011 336136.03164889 149011.45976694 138070.70370557\n",
            " 205821.21085921 228939.36778281 132930.02171998 256230.06304068\n",
            " 408357.71294315 204181.49127402  59663.47886739 100902.38696253\n",
            " 323030.97900401 105223.55983316 119524.3749461  292082.37550332\n",
            " 259696.87029594 187286.99837923 168783.75399132 179192.54904106\n",
            "  70561.70828148 148607.34610772 188446.32981531 180339.49029042\n",
            " 180121.88827185 180798.55048578 134444.60679041 168201.56269054\n",
            " 178373.90854132 190639.85277103 105865.85772562 146825.16396941\n",
            " 206178.99401932 127940.30663993 123205.84741631 133646.50798912\n",
            " 305418.51701198 108898.18463477 202807.14883967 188321.67068408\n",
            " 145210.19819654 247348.7861534  137587.94607039 258709.11963735\n",
            " 155259.11173038 225633.78678572 126869.88815663 323350.52325793\n",
            " 215928.04505626 132042.28363502 109744.02287425 229806.70367046\n",
            " 178750.40759326 197462.66147705 194659.08074795 135403.70196699\n",
            " 116596.39082632 195333.35186605 162382.41892941 119375.96638542\n",
            " 328273.15031061 164865.76237034 199504.37695217 208319.17637281\n",
            " 170994.42226425 133975.51307258  90473.76720798  96598.35846287\n",
            "  82559.55203468 128378.17855811 208162.88030367 342401.74878082\n",
            " 106367.8801076   76910.97529715 182680.35244109 373138.40834012\n",
            " 311720.18854214 141016.06330553 249511.20036214 216864.37127234\n",
            " 352305.30246821 178693.19063054 220465.34628735 274476.7544765\n",
            "  98316.68601998 183625.74458146 169282.6776409   79970.30713892\n",
            " 150935.31660543 168541.95513624 367111.87217138 106118.50278972\n",
            " 167156.29599486 127372.06976644 159169.14927216  67259.60237953\n",
            " 196878.66498838 248686.91201882 103174.87842853 256025.9304487\n",
            " 157949.89875895  91130.52534151 134349.08892318 152976.38792388\n",
            " 111543.15226167  73587.6127621  136899.2687978  194233.24327549\n",
            " 267861.80235583 370263.37544169 121055.55176539 117459.88624498\n",
            " 222212.38494951  57209.66391456 127431.96225057 156293.63606545\n",
            " 175150.18880631 167014.03311588 139320.74802055 167325.61900172\n",
            " 315962.80867744 225032.58300107 135169.08083339  59851.79975944\n",
            " 149838.82368336 278510.75818052  94011.1846531  279956.76151312\n",
            " 266029.50732766 279921.75202302 136731.48401203 113575.2326768\n",
            " 199458.53427689 119811.77918924 144493.0720233  122630.69953931\n",
            " 211276.72058738 114493.37887495 258631.87186051 133346.67912099\n",
            " 273780.81983774 341171.25981993  84842.2067301  163317.54408531\n",
            " 144464.1420594   84841.83713954 280113.44380044 115114.36745504\n",
            " 202228.32330365 118925.47650152 149889.23487781 206973.40474847\n",
            " 196437.04149376 202191.59710845 201965.31437342 331177.52138671\n",
            " 224790.92059592 372648.98395836]\n"
          ]
        }
      ],
      "source": [
        "print(y_predlr)"
      ]
    },
    {
      "cell_type": "code",
      "source": [
        "import pickle\n",
        "filename = 'linear_regression_model.pkl'\n",
        "pickle.dump(y_predlr, open(filename, 'wb'))\n"
      ],
      "metadata": {
        "id": "Qff4ccH9vix3"
      },
      "execution_count": null,
      "outputs": []
    },
    {
      "cell_type": "markdown",
      "metadata": {
        "id": "bOCJf1FQt5WD"
      },
      "source": [
        "Decision Tree"
      ]
    },
    {
      "cell_type": "code",
      "execution_count": null,
      "metadata": {
        "id": "WBIIV-OctmEO"
      },
      "outputs": [],
      "source": [
        "from sklearn.tree import DecisionTreeRegressor\n",
        "\n",
        "dt_regressor = DecisionTreeRegressor(random_state=42)\n",
        "dt_regressor.fit(X_train, y_train)\n",
        "y_preddt = dt_regressor.predict(X_test)"
      ]
    },
    {
      "cell_type": "code",
      "execution_count": null,
      "metadata": {
        "colab": {
          "base_uri": "https://localhost:8080/"
        },
        "id": "mXp3hoYyt7Oo",
        "outputId": "23182802-f45d-466e-fdec-ad90f3fdf4cb"
      },
      "outputs": [
        {
          "output_type": "stream",
          "name": "stdout",
          "text": [
            "Mean Squared Error (MSE): 1806871221.3259299\n",
            "Root Mean Squared Error (RMSE): 42507.3078578958\n",
            "R-squared (R2): 0.7338527766549061\n",
            "Mean Absolute Error (MAE): 29617.408784518375\n"
          ]
        }
      ],
      "source": [
        "mse_dt = mean_squared_error(y_test, y_preddt)\n",
        "rmse_dt = np.sqrt(mse_dt)\n",
        "r2_dt = r2_score(y_test, y_preddt)\n",
        "mae_dt = mean_absolute_error(y_test, y_preddt)\n",
        "\n",
        "print('Mean Squared Error (MSE):', mse_dt)\n",
        "print('Root Mean Squared Error (RMSE):', rmse_dt)\n",
        "print('R-squared (R2):', r2_dt)\n",
        "print('Mean Absolute Error (MAE):', mae_dt)"
      ]
    },
    {
      "cell_type": "code",
      "execution_count": null,
      "metadata": {
        "colab": {
          "base_uri": "https://localhost:8080/"
        },
        "id": "3YsphsZ8wNcW",
        "outputId": "efd2a42a-0590-44b7-b522-dcd1d0e843bf"
      },
      "outputs": [
        {
          "output_type": "stream",
          "name": "stdout",
          "text": [
            "[256000.         140200.         144000.         222500.\n",
            "  85000.         137000.         174000.         103600.\n",
            " 755000.          55993.         180000.         135000.\n",
            " 190000.         130000.         142125.         145250.\n",
            " 193000.         108000.         164900.         122000.\n",
            " 153900.         140714.28571429 138000.         135000.\n",
            " 215000.         227000.         167900.          75500.\n",
            " 337500.         133500.         190000.         274725.\n",
            " 134900.         287000.         305900.         189000.\n",
            " 264132.         131000.         236000.         276000.\n",
            " 190000.         159500.         176485.         372402.\n",
            " 285000.         125000.         105500.         100000.\n",
            " 192000.          84000.         446261.         145000.\n",
            " 158000.          55000.         220000.         120500.\n",
            " 167500.         235000.         155000.         109500.\n",
            " 143500.         138500.         157900.         154000.\n",
            " 167000.         187000.         119500.         216000.\n",
            " 110000.         185000.         178000.         113000.\n",
            "  52000.         226000.          82000.         372402.\n",
            " 108500.         129900.         260000.         170000.\n",
            " 147000.         133500.         144000.         156000.\n",
            " 190000.         213500.         132250.         202500.\n",
            " 171500.         139000.         178000.         200000.\n",
            " 185000.         210000.         179900.         150000.\n",
            " 265900.         187000.         141000.         153000.\n",
            " 302000.         254900.         118858.         179900.\n",
            "  73000.         336000.         128000.         125000.\n",
            " 183200.         135000.         107500.         107000.\n",
            " 165000.         140714.28571429 203000.         177000.\n",
            " 437154.         139000.         244000.         252000.\n",
            "  84500.         165000.         156000.         190000.\n",
            " 220000.         210000.         402861.         194500.\n",
            " 194500.         146000.         213500.         198900.\n",
            " 170000.         146000.         130000.         240000.\n",
            "  91500.         213500.         100000.         167900.\n",
            " 140000.         122900.         256000.         152000.\n",
            " 100000.         185000.         174000.         139000.\n",
            " 328900.         265900.         175500.         337500.\n",
            " 377500.         154300.          91500.         260000.\n",
            " 139600.         210000.          84500.         168500.\n",
            " 111250.         157000.         215200.          93000.\n",
            " 235128.          97500.         179900.         383970.\n",
            " 224000.         192000.         158000.         167900.\n",
            " 185000.         134000.         156000.         115000.\n",
            " 123500.         250000.         158000.         144900.\n",
            " 267000.         197900.         140714.28571429 318000.\n",
            " 120500.         112000.          94500.         195400.\n",
            " 140000.         140714.28571429 156000.         150000.\n",
            " 233170.         123000.         135000.         149000.\n",
            " 113000.         140000.         187000.         147000.\n",
            " 155000.         179900.         133900.          80000.\n",
            " 179500.         190000.         150000.         350000.\n",
            " 283463.          76500.         155000.         392500.\n",
            "  93500.         109500.         326000.         133900.\n",
            " 227680.         262280.         293077.          75500.\n",
            " 250580.         175000.         140000.         130000.\n",
            " 192500.         279500.         261500.         190000.\n",
            " 118000.         167500.          93500.         132000.\n",
            "  88000.         141000.         210000.         135500.\n",
            " 138887.         129900.         101800.         136500.\n",
            " 128000.         181000.         210000.         193000.\n",
            " 176432.         160000.         220000.         178000.\n",
            " 107000.         179600.         176500.         252000.\n",
            "  98000.         582933.         220000.         335000.\n",
            "  87000.         232600.         410000.         184750.\n",
            " 227000.         113000.         184000.          55000.\n",
            " 402861.         328900.         278000.         113000.\n",
            " 269790.         318000.         135000.         200000.\n",
            "  97500.         215000.         179500.         236000.\n",
            " 227000.         135900.         220000.         147000.\n",
            " 123000.         378500.          91500.         140200.\n",
            " 194500.         141000.         113000.         228000.\n",
            " 466500.         133900.          75500.          85000.\n",
            " 326000.         100000.         143750.         392500.\n",
            " 232000.         176000.         171500.         178000.\n",
            "  82166.66666667 122000.         180000.         166000.\n",
            " 187000.         166000.         143500.         121500.\n",
            " 189000.         180000.         122900.         164500.\n",
            " 197900.         135000.         121600.         140714.28571429\n",
            " 336000.         140000.         190000.         220000.\n",
            " 119500.         392500.         149900.         266500.\n",
            " 169000.         239000.         147000.         377500.\n",
            " 215000.         129000.         119000.         197900.\n",
            " 159000.         254000.         175500.         145000.\n",
            " 139600.         178000.         161750.         109000.\n",
            " 326000.         165000.         212000.         220000.\n",
            " 153900.         152000.         123000.         116000.\n",
            " 106500.         147000.         212000.         446261.\n",
            " 115000.         106500.         161500.         402861.\n",
            " 336000.         200100.         236500.         169000.\n",
            " 446261.         165150.         233170.         245000.\n",
            " 119000.         160000.         168500.          82000.\n",
            " 163000.         171500.         437154.          95000.\n",
            " 172500.         157900.         132000.          34900.\n",
            " 208900.         392500.         144000.         245000.\n",
            " 128000.          82000.         127000.          91500.\n",
            "  94750.         107000.         132000.         215200.\n",
            " 232000.         423000.         141000.         123000.\n",
            " 190000.          75500.         157900.         163990.\n",
            " 132000.         200000.          60000.         174000.\n",
            " 315500.         220000.         152000.         113000.\n",
            " 129000.         228000.         104900.         361919.\n",
            " 235000.         174000.         179900.         128000.\n",
            " 176000.         179500.         127000.         115000.\n",
            " 176000.          89475.         250000.         147000.\n",
            " 267000.         446261.         144000.         146000.\n",
            " 153337.         147000.         180000.          93000.\n",
            " 311500.         136500.         153000.         212000.\n",
            " 156000.         190000.         167000.         305900.\n",
            " 220000.         437154.        ]\n"
          ]
        }
      ],
      "source": [
        "print(y_preddt)"
      ]
    },
    {
      "cell_type": "code",
      "source": [
        "filename = 'decision_tree_model.pkl'\n",
        "pickle.dump(y_preddt, open(filename, 'wb'))"
      ],
      "metadata": {
        "id": "BMV0JB44wAji"
      },
      "execution_count": null,
      "outputs": []
    },
    {
      "cell_type": "markdown",
      "metadata": {
        "id": "kEmNyEm3uOV7"
      },
      "source": [
        "Random Forest"
      ]
    },
    {
      "cell_type": "code",
      "execution_count": null,
      "metadata": {
        "id": "Y7WFeEXxuEED"
      },
      "outputs": [],
      "source": [
        "from sklearn.ensemble import RandomForestRegressor\n",
        "\n",
        "rf_regressor = RandomForestRegressor(random_state=42)\n",
        "rf_regressor.fit(X_train, y_train)\n",
        "y_predrf = rf_regressor.predict(X_test)"
      ]
    },
    {
      "cell_type": "code",
      "execution_count": null,
      "metadata": {
        "colab": {
          "base_uri": "https://localhost:8080/"
        },
        "id": "AXfR6efQuSZF",
        "outputId": "901cc5ef-2d46-4f31-f4bd-bcb61d6471ff"
      },
      "outputs": [
        {
          "output_type": "stream",
          "name": "stdout",
          "text": [
            "Mean Squared Error (MSE): 1037181984.121033\n",
            "Root Mean Squared Error (RMSE): 32205.309874631435\n",
            "R-squared (R2): 0.8472259107791863\n",
            "Mean Absolute Error (MAE): 21035.32643142866\n"
          ]
        }
      ],
      "source": [
        "mse_rf = mean_squared_error(y_test, y_predrf)\n",
        "rmse_rf = np.sqrt(mse_rf)\n",
        "r2_rf = r2_score(y_test, y_predrf)\n",
        "mae_rf = mean_absolute_error(y_test, y_predrf)\n",
        "\n",
        "print('Mean Squared Error (MSE):', mse_rf)\n",
        "print('Root Mean Squared Error (RMSE):', rmse_rf)\n",
        "print('R-squared (R2):', r2_rf)\n",
        "print('Mean Absolute Error (MAE):', mae_rf)"
      ]
    },
    {
      "cell_type": "code",
      "execution_count": null,
      "metadata": {
        "colab": {
          "base_uri": "https://localhost:8080/"
        },
        "id": "EJ8S4J9nwS-a",
        "outputId": "9d560e1a-0655-46b8-9eb6-3d6bec9b8d0d"
      },
      "outputs": [
        {
          "output_type": "stream",
          "name": "stdout",
          "text": [
            "[224740.8        140801.34       117833.77       237895.5\n",
            "  91953.90619048 122284.5        238941.39       136851.86\n",
            " 651759.18       123814.67609524 193780.43       155882.\n",
            " 222518.7        126414.         139417.54       157205.\n",
            " 212051.11       103295.52       143512.         175051.\n",
            " 147514.5        140685.44113566 129593.01515152 154223.\n",
            " 207060.5        203886.95       173197.33333333  69946.44333333\n",
            " 329555.35       117506.95       167985.5        182156.7\n",
            " 137546.92802988 293392.26       355512.04       179278.1\n",
            " 264632.93       133104.         235473.52       298809.3\n",
            " 209812.9        136200.26666667 180342.69       306166.62\n",
            " 351371.76       152018.         128067.         126302.\n",
            " 185593.5         93246.11       422165.99       140718.24\n",
            " 169001.82        66456.         231080.77       114063.\n",
            " 123923.32       232095.6        152891.5        109512.93\n",
            " 149627.5        132295.         144821.99       151414.74\n",
            " 192515.         181301.         114837.5        200370.78\n",
            " 122659.         186395.2        170523.22       120627.5\n",
            "  88850.24333333 213763.23        94860.75       285042.4\n",
            " 123219.         111398.         272580.09       150597.4\n",
            " 131067.         124239.13       136157.54       146428.5\n",
            " 196542.8        209608.98       103282.         197045.44\n",
            " 163289.35       143269.5        181981.         180475.5\n",
            " 173087.95       212275.08       195786.59       142834.\n",
            " 210678.4        173352.         129391.68181818 135827.5\n",
            " 270203.54       191234.57       102043.31952381 161263.07\n",
            "  92514.91       307870.5        142244.87       123858.76\n",
            " 175178.7        115602.88        95308.43333333 121207.76\n",
            " 185900.5        134204.82307692 167651.35       173943.82\n",
            " 481426.96       132055.5        183482.4        264935.06\n",
            " 123997.         167150.1        147053.5        207904.\n",
            " 222790.9        209368.5        408232.48       206470.5\n",
            " 188767.65       169648.66       219398.18       195760.78\n",
            " 159692.         175873.         112423.75       241921.28\n",
            " 134515.68       217800.44       115163.02       172941.33333333\n",
            " 142560.5        121904.24       211856.6        141824.5\n",
            " 122753.         172508.85       234636.3        138593.5\n",
            " 315577.22       211318.         178797.58       324939.91\n",
            " 317241.45       170018.5        165186.         285878.2\n",
            " 124718.34666667 189077.8        112178.25       168539.86666667\n",
            " 113560.5        146265.22       201758.         106492.\n",
            " 253167.78       137612.08       132299.53       282041.8\n",
            " 209666.55       181556.         184987.5        156031.\n",
            " 181370.6        150326.24       144921.          92451.68952381\n",
            " 125537.         244888.         120104.29090909 147295.75\n",
            " 282965.53       183261.60714286 134320.10422035 302221.33\n",
            " 121003.5        168738.5         92891.60555556 195883.\n",
            " 206609.72       140685.44113566 142219.         143226.5\n",
            " 230922.6        131985.5        132683.29       148042.5\n",
            "  85225.41619048 130389.         188797.5        139892.45\n",
            " 145468.5        188602.35       121707.42333333 104017.\n",
            " 153072.18       207648.07       148616.75       330687.61\n",
            " 290247.14        76808.         156801.         273580.18\n",
            "  90071.49333333  97485.         319842.25       198765.\n",
            " 206048.28       285375.         293315.87        69946.44333333\n",
            " 206829.92       169926.         150377.18       123114.15\n",
            " 191562.35       242917.11       251888.         204038.\n",
            " 127834.         176037.59380952  90071.49333333 142823.73\n",
            "  94421.5        144285.         207430.         130798.59\n",
            " 154454.77333333 127654.66        83087.82       175945.\n",
            " 121056.36       178859.5        203135.28       210376.\n",
            " 168422.9        170435.19666667 214783.65       176758.69047619\n",
            " 117556.04       208208.76       169625.         265390.96\n",
            " 103677.         453186.49       228613.85       277879.46\n",
            "  93239.625      207586.15       409651.95       382516.2\n",
            " 213119.65       125337.11       137873.87        75768.5\n",
            " 439300.17       325107.2        314580.52        79352.68285714\n",
            " 216355.25       307505.44       129358.34       244360.89\n",
            " 136550.22       187122.6        153763.11       228713.7\n",
            " 192605.85714286 161786.24       222863.6        114855.18\n",
            " 125839.66666667 383141.1        131380.22       140504.68\n",
            " 210902.22       189985.8        117136.08       300530.47\n",
            " 459578.54       192310.4         68252.44333333  93809.01666667\n",
            " 333471.76       126302.         125298.80333333 292471.46\n",
            " 244295.8        173801.3        161630.22       165366.45\n",
            "  82208.53007937 136705.67090909 176455.37       164652.82\n",
            " 185100.5        165792.82       135507.35666667 167141.\n",
            " 178611.35       176592.45       105987.40333333 148924.\n",
            " 199779.5        122291.57       122344.29       140685.44113566\n",
            " 328997.76       137671.16       184813.76       189968.4\n",
            " 113838.79       268501.51       134651.76       250489.36\n",
            " 151642.32       240147.64       134992.         341706.02\n",
            " 195960.8        135023.         118587.5        219818.06\n",
            " 180528.3        180871.92       178685.78       145603.87\n",
            " 139936.19       179787.01666667 124256.34       141458.5\n",
            " 330089.27       164479.8        185640.         223462.55\n",
            " 171831.         149317.03       115835.82       102485.2\n",
            " 101794.3        130730.5        202119.5        397260.26\n",
            " 116627.5        104084.5        164598.98       413223.07\n",
            " 325093.51       135402.53       254614.79       212385.1\n",
            " 403604.92       170130.         242599.4        257242.46\n",
            " 101523.         174706.5        169172.31666667  91685.34\n",
            " 149649.19       162669.18       453347.26       101091.12\n",
            " 143267.         138856.75       144417.5         61572.\n",
            " 184629.5        318962.93       111679.07       254232.\n",
            " 151615.17       109158.98666667 140209.06333333 135063.5\n",
            " 123605.59       113544.25       136908.         201339.\n",
            " 234021.9        410931.4        144404.75       120911.12\n",
            " 212679.2         66377.66333333 137543.25       168454.4\n",
            " 155896.99333333 175456.         140041.5        172727.\n",
            " 315555.14       221827.1        145415.09        85225.41619048\n",
            " 146612.5        235548.3        105849.67       307121.96\n",
            " 248333.79       238620.57       131896.91       119874.12\n",
            " 179885.77       140896.48       141148.75       125463.\n",
            " 176291.19        89623.46190476 263037.72       139892.45\n",
            " 281190.52       393009.59       120147.44       152450.75\n",
            " 151878.4        113871.59333333 266231.3        129072.9\n",
            " 207026.57       128970.01       144007.         203326.6\n",
            " 136068.5        191524.05       190556.         353198.7\n",
            " 222072.9        447055.55      ]\n"
          ]
        }
      ],
      "source": [
        "print(y_predrf)"
      ]
    },
    {
      "cell_type": "code",
      "source": [
        "filename = 'random_forest_model.pkl'\n",
        "pickle.dump(y_predrf, open(filename, 'wb'))"
      ],
      "metadata": {
        "id": "42Upo9ntwIKB"
      },
      "execution_count": null,
      "outputs": []
    },
    {
      "cell_type": "markdown",
      "metadata": {
        "id": "IsH2gGrVvGcO"
      },
      "source": [
        "Gradient Boost"
      ]
    },
    {
      "cell_type": "code",
      "execution_count": null,
      "metadata": {
        "id": "rnGdsT0cu99w"
      },
      "outputs": [],
      "source": [
        "from sklearn.ensemble import GradientBoostingRegressor\n",
        "\n",
        "gb_regressor = GradientBoostingRegressor(random_state=42)\n",
        "gb_regressor.fit(X_train, y_train)\n",
        "y_predgb = gb_regressor.predict(X_test)"
      ]
    },
    {
      "cell_type": "code",
      "execution_count": null,
      "metadata": {
        "colab": {
          "base_uri": "https://localhost:8080/"
        },
        "id": "N8gA765uvJvk",
        "outputId": "d24114c5-e694-492a-9658-58af0fd32df7"
      },
      "outputs": [
        {
          "output_type": "stream",
          "name": "stdout",
          "text": [
            "Mean Squared Error (MSE): 972592377.5116358\n",
            "Root Mean Squared Error (RMSE): 31186.41334798915\n",
            "R-squared (R2): 0.8567397844040195\n",
            "Mean Absolute Error (MAE): 20900.2155865613\n"
          ]
        }
      ],
      "source": [
        "mse_gb = mean_squared_error(y_test, y_predgb)\n",
        "rmse_gb = np.sqrt(mse_gb)\n",
        "r2_gb = r2_score(y_test, y_predgb)\n",
        "mae_gb = mean_absolute_error(y_test, y_predgb)\n",
        "\n",
        "print('Mean Squared Error (MSE):', mse_gb)\n",
        "print('Root Mean Squared Error (RMSE):', rmse_gb)\n",
        "print('R-squared (R2):', r2_gb)\n",
        "print('Mean Absolute Error (MAE):', mae_gb)"
      ]
    },
    {
      "cell_type": "code",
      "execution_count": null,
      "metadata": {
        "colab": {
          "base_uri": "https://localhost:8080/"
        },
        "id": "iga_0KPuwWRD",
        "outputId": "20b3459b-9b74-4ce4-ec64-a6101ec3bd73"
      },
      "outputs": [
        {
          "output_type": "stream",
          "name": "stdout",
          "text": [
            "[199760.99379996 147821.69575334 120496.98115576 234022.36760465\n",
            " 101649.78652444 120695.3572335  234232.87837566 142975.06785096\n",
            " 714831.514061   138186.0002519  188106.3532534  166810.68286413\n",
            " 216313.88074121 119735.5579146  134251.30552865 147508.58615938\n",
            " 213059.25565418  95772.98239776 138901.98473757 172217.98354163\n",
            " 154752.56805749 142911.76171767 120138.0864818  144121.65541239\n",
            " 190256.75160793 208504.32637071 168758.07000807  72220.84984927\n",
            " 310157.39771978 129859.37369223 161083.57620558 191733.36589315\n",
            " 142012.2736146  296495.74153541 357633.0595359  175559.49670491\n",
            " 272406.31927656 129045.57724242 236205.37041217 306635.06159184\n",
            " 201121.83664164 128533.00009797 205893.94901184 315410.64042344\n",
            " 377815.21545158 161778.16402658 124431.51399272 122434.15188091\n",
            " 175713.32577369  92500.15960817 422154.52110939 140867.62931801\n",
            " 184780.82254188  82134.07563902 228828.28751531 118401.86554348\n",
            " 119746.47454628 235620.0170113  140867.62931801 107056.45047476\n",
            " 143356.3509592  130543.97826106 130479.10993534 142818.54248676\n",
            " 196307.97530902 182146.58730966 119735.5579146  196612.34787462\n",
            " 129990.52264327 192506.57614727 164036.24440341 123520.01890943\n",
            "  89543.43761611 212815.5802636   95977.63520444 285181.38278131\n",
            " 123056.41105519 109567.99680039 263066.02560628 140207.34062948\n",
            " 132881.92480411 122050.57990425 130022.12387529 133841.72412301\n",
            " 190540.70354516 190447.30394309 114923.34718683 192345.71816851\n",
            " 165215.34677935 134251.30552865 169959.1457586  174982.79296549\n",
            " 164801.68465065 211767.01670434 184771.60296592 144301.5631882\n",
            " 212154.68912772 180325.57899965 117058.14551715 149537.42316007\n",
            " 250214.47746609 177498.64097472 102322.37834788 153390.13706901\n",
            " 125034.96690805 302194.60974255 141707.01770642 111230.86611124\n",
            " 166804.74042117 111903.68238141 103557.80035332 118129.63720233\n",
            " 187928.80128664 132128.17028857 173392.01668185 169066.96560843\n",
            " 475295.9951924  133242.57222737 183642.01204094 281529.7975311\n",
            " 131996.89335398 166892.41158723 133328.93097836 213855.97262918\n",
            " 228573.00261849 206600.08912984 404174.70018924 192410.89268305\n",
            " 184394.67490065 176767.35223049 187161.77647413 184183.95353721\n",
            " 156110.28005572 178627.02379892 107321.92290491 241382.31003112\n",
            " 141821.39327431 190717.56262362 107705.49488157 168758.07000807\n",
            " 138952.95526547 117150.52524436 192011.83766194 140867.62931801\n",
            " 146683.66550776 164801.68465065 222381.183709   133242.57222737\n",
            " 303642.02856283 209749.72766177 182381.46025361 355540.54630355\n",
            " 316964.38008148 166735.71022699 182265.95651186 260902.22156576\n",
            " 123848.99019205 206878.01106411 120824.72901038 157682.61338454\n",
            " 119013.71885845 144617.41053769 192024.56542123 121313.65140502\n",
            " 259981.67626539 128798.45746118 126359.1166285  269134.93433451\n",
            " 189530.06281557 176605.50592387 182364.98443371 160175.17293432\n",
            " 195465.75443896 160120.68489922 129548.29661209  90395.44579075\n",
            " 130543.97826106 218440.475414   128055.42053234 153751.82443113\n",
            " 286676.58654873 196281.44792019 140649.37903347 292063.44407946\n",
            " 118907.25671032 170179.35513557  96146.7097932  184907.4680453\n",
            " 196059.0343122  142911.76171767 129548.29661209 144301.5631882\n",
            " 229184.38770615 132369.13165947 129622.45091354 147995.72014038\n",
            "  85113.16165198 121385.8968334  173345.85246146 140505.94195589\n",
            " 138901.98473757 198712.99835349 122299.71724116 120824.72901038\n",
            " 134554.09546041 241773.28357466 144650.74358959 329734.0101184\n",
            " 281717.38571792  70448.25064458 143990.42117497 284825.27019268\n",
            "  94507.99312595  92794.20073268 315462.03445192 205957.55983035\n",
            " 197523.86418537 264244.68085409 282592.47478547  72220.84984927\n",
            " 200111.51531524 179793.80912373 137305.77359163 119351.98593794\n",
            " 193141.64859481 241421.50026514 260107.90578517 226413.15536429\n",
            " 130543.97826106 178605.16064092  94507.99312595 153109.03404458\n",
            "  94429.6111022  133242.57222737 210138.7890531  141310.73958414\n",
            " 135239.14426996 115599.18815772  78867.82382053 183038.76745983\n",
            " 119832.8475035  168939.99743357 203381.33231823 210341.48223192\n",
            " 165215.34677935 182917.6356634  210973.82232517 186488.1250697\n",
            " 118135.92733407 200111.51531524 174235.31777366 281529.7975311\n",
            " 105276.78383654 435536.18649173 210659.34441208 258360.2684442\n",
            "  89411.25896295 210335.49463554 427057.53797754 221018.73947157\n",
            " 213971.06604855 125884.15387099 149629.75020066  75283.61811764\n",
            " 484732.75498029 302085.27023331 322995.7635671   75108.66108688\n",
            " 217296.22080509 286674.78121386 134668.961682   213837.14626867\n",
            " 141389.51468457 184402.11163124 154381.99835021 236000.85232309\n",
            " 196540.95351032 165264.63830146 226559.31737527 109548.89763029\n",
            " 132369.13165947 398704.23590525 138983.70540901 141773.79271027\n",
            " 188694.1592714  187517.22095643 124517.01398758 264997.58475919\n",
            " 495284.82426381 196271.0432437   75936.83155127  95691.6860268\n",
            " 344458.48504772 122434.15188091 130961.14067947 287363.10765491\n",
            " 243193.64260872 179694.28933349 164323.16662918 161868.76438035\n",
            "  78393.74529085 141621.80132135 185456.62262219 171800.00775393\n",
            " 180857.36805777 176039.37266904 129932.57463779 161717.28700634\n",
            " 175559.49670491 180028.87020308 116209.73508207 144285.1046746\n",
            " 203176.81422915 136566.79354312 134081.96061578 142911.76171767\n",
            " 327687.41812908 135550.682371   190235.86439051 193516.82875232\n",
            " 124532.05627796 256887.45860041 127640.85967568 259875.50173388\n",
            " 153492.26048997 219060.92151105 132164.61357039 345902.24127074\n",
            " 184103.38105447 139898.15811852 119890.19495272 216710.40379789\n",
            " 176594.9526971  192981.51003734 182381.46025361 140867.62931801\n",
            " 134271.25172762 175721.92210231 137413.18482967 130543.97826106\n",
            " 266171.16018492 166304.47547192 192001.8819471  226559.31737527\n",
            " 169581.15147692 142051.11272288 109551.42046997 114275.6739563\n",
            " 101831.62867489 132881.92480411 204038.17572166 405757.57345896\n",
            " 119735.5579146  104530.2226412  171800.00775393 426681.51665279\n",
            " 338624.11557456 143872.18655879 252646.4043864  208785.73198039\n",
            " 429558.69640896 174209.95317418 227795.56855266 263492.83908823\n",
            "  96270.66234641 173280.02843159 160881.59585512  98226.95334283\n",
            " 154685.86535335 165215.34677935 450352.67096949 106107.65073754\n",
            " 169080.45467931 133553.37681484 158775.47163802  78244.87737435\n",
            " 188593.36745772 290923.62181939 122050.57990425 255795.42828025\n",
            " 153390.13706901 111922.42468797 136879.59582894 147650.00418949\n",
            " 123056.41105519 107058.26517228 144648.26368429 192024.56542123\n",
            " 248867.13690875 409572.35569454 133242.57222737 118182.66521516\n",
            " 198761.15992595  62216.34928416 135193.48539612 164801.68465065\n",
            " 163715.17237536 168237.19804283 141773.79271027 171974.23885817\n",
            " 321384.38168671 231184.21198871 139491.68282345  85113.16165198\n",
            " 139302.13566686 239915.56464138 107855.79246907 308881.71226222\n",
            " 224263.18776167 224849.66550351 127820.44453482 121394.43586232\n",
            " 191593.08892265 128100.47887203 144562.80942725 131204.25143183\n",
            " 199582.34171133  94907.00612191 259784.92324394 140505.94195589\n",
            " 268939.68835043 417491.93382233 110404.08884788 164600.48664179\n",
            " 145941.33434373 112133.36215385 251101.27711166 122163.98469428\n",
            " 206586.16975083 133242.57222737 150638.90048319 203525.38257702\n",
            " 136967.20209244 189195.48194598 195728.07486805 352905.58808239\n",
            " 231184.21198871 435057.19626195]\n"
          ]
        }
      ],
      "source": [
        "print(y_predgb)"
      ]
    },
    {
      "cell_type": "code",
      "source": [
        "filename = 'gradient_boost_model.pkl'\n",
        "pickle.dump(y_predgb, open(filename, 'wb'))"
      ],
      "metadata": {
        "id": "KS2cLA5-wOXX"
      },
      "execution_count": null,
      "outputs": []
    },
    {
      "cell_type": "markdown",
      "metadata": {
        "id": "xV3kUrK5vViX"
      },
      "source": [
        "SVM"
      ]
    },
    {
      "cell_type": "code",
      "execution_count": null,
      "metadata": {
        "id": "nyCGMAsgvSIM"
      },
      "outputs": [],
      "source": [
        "from sklearn.svm import SVR\n",
        "from sklearn.pipeline import make_pipeline\n",
        "\n",
        "svr_regressor = make_pipeline(StandardScaler(), SVR())\n",
        "svr_regressor.fit(X_train, y_train)\n",
        "y_predsv = svr_regressor.predict(X_test)"
      ]
    },
    {
      "cell_type": "code",
      "execution_count": null,
      "metadata": {
        "colab": {
          "base_uri": "https://localhost:8080/"
        },
        "id": "mS3rTSjvvYy3",
        "outputId": "95ffc5c6-db3a-4a06-dba3-4b2908081101"
      },
      "outputs": [
        {
          "output_type": "stream",
          "name": "stdout",
          "text": [
            "Mean Squared Error (MSE): 7129915599.77894\n",
            "Root Mean Squared Error (RMSE): 84438.82756042352\n",
            "R-squared (R2): -0.05021720262582985\n",
            "Mean Absolute Error (MAE): 56382.27617202679\n"
          ]
        }
      ],
      "source": [
        "mse_sv = mean_squared_error(y_test, y_predsv)\n",
        "rmse_sv = np.sqrt(mse_sv)\n",
        "r2_sv = r2_score(y_test, y_predsv)\n",
        "mae_sv = mean_absolute_error(y_test, y_predsv)\n",
        "\n",
        "print('Mean Squared Error (MSE):', mse_sv)\n",
        "print('Root Mean Squared Error (RMSE):', rmse_sv)\n",
        "print('R-squared (R2):', r2_sv)\n",
        "print('Mean Absolute Error (MAE):', mae_sv)"
      ]
    },
    {
      "cell_type": "code",
      "execution_count": null,
      "metadata": {
        "colab": {
          "base_uri": "https://localhost:8080/"
        },
        "id": "_TUTm1OAwZ81",
        "outputId": "7a990c01-4a57-49dd-de37-5252c6145d3e"
      },
      "outputs": [
        {
          "output_type": "stream",
          "name": "stdout",
          "text": [
            "[162984.36382223 162839.04534996 162757.23996345 163093.54478837\n",
            " 162786.03025711 162757.30805225 163075.0928491  162842.19116417\n",
            " 162953.893152   162871.01803392 163025.70840607 163039.17482023\n",
            " 163065.7856376  162740.58473766 162795.5575384  162858.49054426\n",
            " 163046.31825669 162808.77471627 162822.34055018 162917.17168216\n",
            " 162925.64322359 162814.04755669 162808.26718447 162873.68949015\n",
            " 163019.21666956 163028.67193801 162915.91863325 162835.29939094\n",
            " 163069.83568394 162760.51918685 163020.38316132 162995.41550655\n",
            " 162829.89712779 163068.37582131 163031.36560298 162916.30780297\n",
            " 163086.75914976 162801.29036492 163074.88726517 163063.90603306\n",
            " 163045.48313691 162876.08972774 162996.15856973 163054.95921799\n",
            " 163033.25577472 162980.08501969 162858.26584585 162741.83031241\n",
            " 162966.05907542 162832.19151454 163038.2294199  162855.750108\n",
            " 163014.52369357 162812.39423698 163096.56006434 162926.45474765\n",
            " 162834.10748915 163041.64694639 162865.152627   162746.32818402\n",
            " 162858.24361235 162763.46511332 162822.223657   162877.8424586\n",
            " 163070.45110509 163028.8197409  162743.49600147 163020.95063092\n",
            " 162846.52665791 162994.62108094 162916.88276734 162762.21613846\n",
            " 162873.67943177 163078.00157838 162747.17168128 163063.52494964\n",
            " 162747.81212799 162744.31146033 163085.33950108 162881.6050943\n",
            " 162858.65237002 162742.58892276 162831.97889928 162869.58890089\n",
            " 162955.92963097 163032.47770996 162939.4974158  163032.79601317\n",
            " 162932.33083141 162797.07308578 162961.6406488  162946.70273666\n",
            " 162886.96813628 163039.7159487  163034.63436392 162867.46314077\n",
            " 163082.36310613 163001.76772843 162797.00597656 162923.87632513\n",
            " 163096.48427481 162956.23571916 162838.50474501 162879.18950425\n",
            " 162825.04481042 163082.09474025 162856.02845914 162749.05326016\n",
            " 162891.81100094 162824.1980467  162787.35529677 162758.80668418\n",
            " 163027.54531628 162806.05811535 162931.40494586 162917.5277833\n",
            " 162974.08901386 162762.50523476 162992.61760509 163022.10857653\n",
            " 162850.48245331 162926.57288883 162844.47305405 163053.87434708\n",
            " 163080.66529081 163065.13535681 163021.16277225 163024.7867436\n",
            " 163002.13993414 163013.88039025 162999.22349069 163019.45432493\n",
            " 162951.54492094 163022.86198521 162745.5506471  163098.05245683\n",
            " 162819.46041711 163037.97667427 162745.36103032 162932.98038804\n",
            " 162813.53907722 162823.95114375 163016.37767678 162838.47126302\n",
            " 162873.70708396 162890.15164866 163087.37900646 162765.97812677\n",
            " 163080.68953341 163073.42063663 163036.1181182  163018.20620474\n",
            " 163076.71594342 162933.43474495 162904.6519618  163046.86712835\n",
            " 162869.62374695 162967.96154477 162820.34829611 162895.82946791\n",
            " 162819.92639875 162901.99289968 162983.41917783 162829.65571012\n",
            " 163071.26378469 162828.43955466 162886.55809261 163054.749744\n",
            " 163031.35308703 162974.93128663 163029.35872704 162913.28988503\n",
            " 163001.58911005 162916.26874262 162832.19234199 162778.00687621\n",
            " 162772.37656395 163048.69255009 162796.13904438 162883.55686558\n",
            " 163110.81227852 163015.13061797 162830.84106716 163079.87986822\n",
            " 162811.54236129 162974.7985977  162792.07810898 163000.10184007\n",
            " 163058.99144681 162814.04755669 162823.91154223 162855.88664787\n",
            " 163083.14289208 162828.16785127 162846.88038454 162880.04167391\n",
            " 162783.31368929 162779.77517121 162971.69589794 162845.69768989\n",
            " 162823.81268968 163006.4455924  162875.0327679  162808.86002761\n",
            " 162873.05284857 162972.42246894 162884.53948442 163081.12096949\n",
            " 163078.609782   162827.21131779 162883.67608487 163094.93883256\n",
            " 162861.82986407 162807.48937873 163041.54897168 163076.91092037\n",
            " 163056.11130978 163046.66446706 163072.09326422 162835.29939094\n",
            " 163071.86852247 163025.7426711  162833.4578155  162741.01501358\n",
            " 163052.72660629 163046.88428323 163110.49012199 163073.93083873\n",
            " 162785.09148394 162997.84233466 162861.82986407 162889.29245167\n",
            " 162807.16170305 162782.50940736 163044.21772497 162806.83591876\n",
            " 162865.41602436 162742.88791666 162865.55726284 163039.22440765\n",
            " 162763.3265452  162965.50284233 163027.2706823  163045.90811171\n",
            " 162953.95662179 162953.31391862 163049.30209151 162969.28395233\n",
            " 162764.6042351  163074.67238924 163002.28724396 163016.20891379\n",
            " 162801.85597181 163008.53780681 163046.49959067 163071.17352649\n",
            " 162805.21885591 163085.38328655 162987.24088263 162951.7097889\n",
            " 163049.28422084 162795.20860081 162899.82932276 162860.5849858\n",
            " 162974.60021368 163068.43980895 163006.09477657 162816.02833858\n",
            " 162960.53251007 163079.7224303  162786.61582136 163002.07964203\n",
            " 162807.98232986 163035.53982704 162904.19762937 163081.51639936\n",
            " 163005.10877074 162902.6426492  163027.06838936 162803.95144502\n",
            " 162822.17739861 163040.53630675 162817.78387243 162827.12381811\n",
            " 163032.46829759 163001.45662975 162779.52502697 163086.50127421\n",
            " 162960.08065953 162975.68138215 162841.1235971  162764.2715496\n",
            " 163059.78297126 162741.83031241 162802.10193617 163067.21079199\n",
            " 163061.67464397 162961.0155471  162940.19951735 162921.09952726\n",
            " 162779.75178938 162848.81852259 162956.45956575 162994.70962447\n",
            " 162982.14095081 162996.7010424  162851.30739176 162994.627976\n",
            " 162916.91279259 162975.30592221 162874.15269505 162860.9738319\n",
            " 163033.51443158 162792.2291034  162776.33513747 162814.04755669\n",
            " 163084.70741186 162824.80343134 163027.18628614 163007.79347798\n",
            " 162822.31979166 163095.20847837 162780.50259908 163027.75315159\n",
            " 162939.03853691 163088.71506386 162834.57805554 163059.36845139\n",
            " 163047.47445632 162861.91095466 162745.46573205 163050.40579427\n",
            " 162975.93044461 163007.20223258 163045.31890001 162854.11815258\n",
            " 162851.08254404 162936.92878477 162833.67665572 162766.28893012\n",
            " 163048.57266649 162921.80485292 162999.03691334 163028.38299569\n",
            " 162948.53956158 162813.44281399 162752.08453129 162849.46474293\n",
            " 162800.33750331 162841.70445955 163032.14399971 163047.7415919\n",
            " 162742.15139223 162831.64162548 163003.78360596 163009.12421433\n",
            " 163067.36070622 162846.5375219  163099.32903531 163062.77956019\n",
            " 163018.2798635  162975.34395022 163083.44163641 163087.6928553\n",
            " 162806.31701305 162987.16740821 162895.68655312 162751.03728128\n",
            " 162921.35890944 162938.01820138 162997.17739053 162754.61125116\n",
            " 162978.57836752 162795.9438314  162894.55916309 162824.57292144\n",
            " 163053.16506747 163092.10223993 162743.64297642 163099.82685114\n",
            " 162888.10652334 162820.61034934 162813.10194166 162857.75111544\n",
            " 162753.09879809 162786.23248849 162863.36022854 162976.62074607\n",
            " 163060.43365919 162965.96292354 162772.35921518 162764.76662033\n",
            " 163048.49863458 162844.91586144 162795.08754168 162881.01596915\n",
            " 162908.22405241 162924.96470751 162850.50047174 162925.05367962\n",
            " 163056.54517545 163091.68877289 162824.55650474 162783.31368929\n",
            " 162843.69282757 163036.77947943 162774.29482997 163071.77579139\n",
            " 163033.69821714 163048.5659748  162905.39215715 162753.98385338\n",
            " 163010.91368594 162910.01251101 162855.08325811 162836.65141455\n",
            " 163055.03843542 162792.11331648 163085.70595429 162845.69768989\n",
            " 163095.878781   163041.13655876 162747.65771023 162906.27088998\n",
            " 162892.5039563  162810.34665245 163006.20189839 162860.4094709\n",
            " 163011.71654236 162769.44611594 162919.55896132 163029.68575448\n",
            " 162963.77994912 163026.26800326 163060.40570029 163021.05635568\n",
            " 163089.93616168 162987.77006853]\n"
          ]
        }
      ],
      "source": [
        "print(y_predsv)"
      ]
    },
    {
      "cell_type": "code",
      "source": [
        "filename = 'svm_model.pkl'\n",
        "pickle.dump(y_predsv, open(filename, 'wb'))"
      ],
      "metadata": {
        "id": "HWjHex10wTXz"
      },
      "execution_count": null,
      "outputs": []
    },
    {
      "cell_type": "code",
      "execution_count": null,
      "metadata": {
        "id": "jclIhnQswcq7"
      },
      "outputs": [],
      "source": [
        "from sklearn.linear_model import Lasso, ElasticNet, Ridge\n",
        "from sklearn.kernel_ridge import KernelRidge\n",
        "from sklearn.ensemble import GradientBoostingRegressor\n",
        "from xgboost import XGBRegressor\n",
        "from lightgbm import LGBMRegressor"
      ]
    },
    {
      "cell_type": "markdown",
      "metadata": {
        "id": "byzRs56KNNbc"
      },
      "source": [
        "Lasso"
      ]
    },
    {
      "cell_type": "code",
      "execution_count": null,
      "metadata": {
        "colab": {
          "base_uri": "https://localhost:8080/"
        },
        "id": "5zarLJCUNO_z",
        "outputId": "0f9489a3-45c0-4bfa-d49e-b3e935808a6f"
      },
      "outputs": [
        {
          "output_type": "stream",
          "name": "stderr",
          "text": [
            "/usr/local/lib/python3.10/dist-packages/sklearn/linear_model/_coordinate_descent.py:631: ConvergenceWarning: Objective did not converge. You might want to increase the number of iterations, check the scale of the features or consider increasing regularisation. Duality gap: 6.318e+11, tolerance: 6.234e+08\n",
            "  model = cd_fast.enet_coordinate_descent(\n"
          ]
        }
      ],
      "source": [
        "lasso = Lasso()\n",
        "lasso.fit(X_train, y_train)\n",
        "y_predl = lasso.predict(X_test)"
      ]
    },
    {
      "cell_type": "code",
      "execution_count": null,
      "metadata": {
        "colab": {
          "base_uri": "https://localhost:8080/"
        },
        "id": "2FrTTbK_NWZ9",
        "outputId": "69bb407f-476a-446b-da8f-703483040f6a"
      },
      "outputs": [
        {
          "output_type": "stream",
          "name": "stdout",
          "text": [
            "Mean Squared Error (MSE): 1968883090.6532736\n",
            "Root Mean Squared Error (RMSE): 44372.09810965979\n",
            "R-squared (R2): 0.709988868335652\n",
            "Mean Absolute Error (MAE): 25261.392801243113\n"
          ]
        }
      ],
      "source": [
        "mse_l = mean_squared_error(y_test, y_predl)\n",
        "rmse_l = np.sqrt(mse_l)\n",
        "r2_l = r2_score(y_test, y_predl)\n",
        "mae_l = mean_absolute_error(y_test, y_predl)\n",
        "\n",
        "print('Mean Squared Error (MSE):', mse_l)\n",
        "print('Root Mean Squared Error (RMSE):', rmse_l)\n",
        "print('R-squared (R2):', r2_l)\n",
        "print('Mean Absolute Error (MAE):', mae_l)"
      ]
    },
    {
      "cell_type": "code",
      "execution_count": null,
      "metadata": {
        "colab": {
          "base_uri": "https://localhost:8080/"
        },
        "id": "T0ZYinzcNfhn",
        "outputId": "2df6e7dc-b6b4-402b-943c-4d7117d24ec4"
      },
      "outputs": [
        {
          "output_type": "stream",
          "name": "stdout",
          "text": [
            "[267130.23229055 156305.5773329  115324.47430678 227230.83007455\n",
            " 121096.22972123 116017.88825282 268424.07312964 148225.20983431\n",
            " 495423.73417802 158460.79040952 201835.85597016 189201.98482291\n",
            " 217640.22382482 104374.76884125 142812.29779904 141646.70085783\n",
            " 211820.11597673  93135.11920036 133856.12820201 191826.29353107\n",
            " 153405.74964759 133652.33885058 113332.20304626 153717.12258814\n",
            " 189957.86549487 222560.91766464 164918.77806003  61759.56002326\n",
            " 311394.26088958 118138.70334793 233769.51419081 197483.4907066\n",
            " 140856.71224813 295941.28706121 325050.7069965  178233.33670992\n",
            " 268471.83974378 116479.0400338  225832.73048772 299802.73034675\n",
            " 225657.78623661 133222.09929093 195048.95543225 309041.52043914\n",
            " 334754.6684699  178473.26394507 123780.06780323 105221.62975703\n",
            " 176482.51263008  57527.86371118 348237.08562005 135683.49614616\n",
            " 186451.70789607  75529.94432876 228268.51404258 115985.8962308\n",
            " 117234.83590795 264323.47230671 138208.95476088  95325.75496345\n",
            " 150800.14959447 118360.93569112 131680.86550902 141100.21894056\n",
            " 205041.4869724  189601.70695513 107465.88525608 206022.49095628\n",
            " 129078.37998335 197701.31251193 178285.17604982 117189.59786828\n",
            "  51713.52504446 234538.27928358  79734.28455729 292890.06984934\n",
            " 111982.27958232  93258.98216304 260580.71254512 162872.15118668\n",
            " 131180.43954302 102966.49570388 134229.68449224 135886.77341959\n",
            " 213314.00965401 203607.58965906 128820.57528931 203609.28510133\n",
            " 167271.31452393 143254.26778542 175764.06864366 172369.57888488\n",
            " 157194.51049368 209307.30033942 219060.82636994 159153.67192128\n",
            " 219631.94017482 183870.49479239  92926.28680978 152403.14764548\n",
            " 244318.58641483 188345.24193811 101944.98251719 155330.59427001\n",
            " 122560.25213351 271077.88348749 136357.77834352  88354.65503466\n",
            " 159496.76453856 142850.82852868  80502.82315605  94305.30971469\n",
            " 192406.49239816 121507.92658245 181924.72015483 165564.6687058\n",
            " 410338.24587897 117946.16208996 191042.12526488 297939.91025364\n",
            " 167215.15466594 180572.39947579 130975.46682732 213583.15173467\n",
            " 222688.49797318 213422.62705805 345312.1133993  202164.8686412\n",
            " 197040.83309197 185026.43323172 259186.94600572 232070.39438771\n",
            " 158155.44074903 187474.09185787  80168.78872355 235037.26068882\n",
            " 151144.54538354 205032.40146604  83406.33811082 168948.86858879\n",
            " 147828.44239653 119838.7313518  244135.64768935 131338.93386324\n",
            " 122425.77766004 158098.18479731 256155.41128804 119130.52494762\n",
            " 286065.71655988 216114.5286081  191330.10463605 335002.71112028\n",
            " 296217.74184218 183197.45918696 196502.20936705 275073.44229479\n",
            " 119171.45983081 205892.74546049 126543.8974603  169373.21455868\n",
            "  98279.09447087 146464.16388545 195898.19965897 106645.91025143\n",
            " 283094.85454115 133839.2768576  138917.44863021 289960.60229851\n",
            " 203211.44158388 178368.85150935 201554.08639712 164052.13813955\n",
            " 183232.49824788 164272.48827581 128512.22790363  95873.19146812\n",
            " 121611.67483024 253380.90038048 139075.37920455 157027.48945467\n",
            " 273128.96029878 203990.94619227 139966.44773087 290166.07493247\n",
            "  96264.94224357 178464.58383682 114694.42347879 197545.64842572\n",
            " 227159.03351333 133652.33885058 126791.73739366 157254.28468289\n",
            " 220355.01511983 123355.18786363 128057.39853903 155119.41668563\n",
            "  59851.7100895  130996.84986959 177971.71683673 133351.5047321\n",
            " 134241.35688742 213391.65401985 101845.79898298 119571.5509765\n",
            " 149291.49774313 293766.37339686 160378.82935679 319978.04402955\n",
            " 294383.09415819  60074.95826461 142146.39245651 246739.22835751\n",
            "  51048.9724561   97260.04222834 334263.98789218 224834.67027353\n",
            " 209899.90035148 278040.60255128 290405.31132723  61759.56002326\n",
            " 214981.8350266  188454.01171148 149646.92565778 102350.2170554\n",
            " 209573.98696218 263759.25463533 255665.34709869 220307.17395516\n",
            " 124754.5910183  195363.74485656  51048.9724561  165057.22501095\n",
            "  82153.67348837 123653.1897162  209929.15554291 146992.17645335\n",
            " 148930.66852664 100136.32005631  71637.98861044 192254.42579603\n",
            " 115564.1482725  176418.61161597 205248.62148349 211417.84868966\n",
            " 171629.03107631 200236.14296071 224973.08439149 191650.35466433\n",
            " 119562.19558768 218195.04398325 182677.95933245 299580.32043875\n",
            " 104232.38871214 369920.35545221 224243.6898939  245613.21457915\n",
            "  98841.67671492 241490.8621632  367683.9969482  692538.81112875\n",
            " 227376.8912441  106188.62569241 154229.12214848  73945.48188669\n",
            " 403948.21789123 293569.51757373 315245.97881547  49674.13330281\n",
            " 207128.79544802 289622.13490237 125084.09065328 219944.34699833\n",
            " 133476.87748059 191757.42581045 168156.49229632 227283.84480205\n",
            " 216764.57539602 185795.07789956 207805.05343153  99263.57488702\n",
            " 121835.56012282 336135.58388516 149007.76759087 138067.49582041\n",
            " 205818.08646102 228944.35978056 132925.66620034 256231.80054347\n",
            " 408361.55919873 204176.06817369  59653.56479006 100898.90922879\n",
            " 323030.22815767 105221.62975703 119531.28901317 292079.39912037\n",
            " 259696.16197459 187292.21996903 168788.83959523 179192.42362587\n",
            "  70559.72023904 148611.19327168 188448.46969904 180344.46418106\n",
            " 180124.12591454 180803.80641943 134448.34537316 168203.90121751\n",
            " 178376.47450466 190641.90397532 105864.64824652 146825.45130407\n",
            " 206179.40336414 127935.23656067 123202.37191622 133652.33885058\n",
            " 305417.67287283 108907.39597627 202812.5114264  188324.81036624\n",
            " 145197.35597712 247349.30867484 137584.5560444  258764.19739981\n",
            " 155254.75649053 225628.1740838  126872.27788697 323350.16477595\n",
            " 215917.66579268 132032.27626075 109742.7764174  229804.74532954\n",
            " 178753.74502832 197466.68059061 194659.15745662 135408.71811187\n",
            " 116601.42136612 195329.82605592 162376.54321832 119374.79835568\n",
            " 328268.25493794 164872.47304862 199500.57156522 208319.56543313\n",
            " 170996.51541969 133971.39901819  90473.75563298  96603.70288653\n",
            "  82556.94537811 128379.88135063 208158.52237636 342396.77205058\n",
            " 106366.71614505  76907.17655382 182683.81598722 373133.18049695\n",
            " 311717.7656897  141012.79480265 249510.6694447  216869.52362542\n",
            " 352286.2572723  178694.01837914 220466.303689   274479.50789848\n",
            "  98305.89420091 183617.51050308 169284.53885563  79968.05632948\n",
            " 150940.73275103 168545.54993125 367113.03838199 106117.44596836\n",
            " 167161.32744508 127369.70839718 159170.15647952  67250.28287925\n",
            " 196880.00175671 248688.1915558  103171.92192004 256018.67215978\n",
            " 157951.10656697  91192.72108608 134348.33664456 152965.79867278\n",
            " 111539.49675471  73591.03161635 136901.96133855 194228.73478842\n",
            " 267860.24618311 370238.94564421 121053.35950771 117458.14999219\n",
            " 222213.17758521  57200.10957615 127430.4253971  156297.75928089\n",
            " 175149.09160597 167012.85517261 139317.29673384 167329.86262706\n",
            " 315955.62482014 225032.54461332 135164.38194948  59851.7100895\n",
            " 149831.11807139 278501.95139846  94006.80427722 279951.18677357\n",
            " 266021.65643456 279917.15613702 136731.35754083 113573.41214361\n",
            " 199461.05389672 119882.0906188  144566.30193446 122631.56870112\n",
            " 211280.12082511 114488.99726263 258625.79027415 133351.5047321\n",
            " 273768.71981356 341163.15858243  84840.84293132 163320.88356846\n",
            " 144467.79272025  84832.87469534 280115.77727761 115115.37316153\n",
            " 202229.85785907 118921.93661672 149895.6616197  206969.90026729\n",
            " 196435.56862225 202195.73336223 201969.38431514 331175.88415138\n",
            " 224791.82151719 372646.71744308]\n"
          ]
        }
      ],
      "source": [
        "print(y_predl)"
      ]
    },
    {
      "cell_type": "code",
      "source": [
        "filename = 'lasso_model.pkl'\n",
        "pickle.dump(y_predl, open(filename, 'wb'))"
      ],
      "metadata": {
        "id": "JNh0gIGhwXSC"
      },
      "execution_count": null,
      "outputs": []
    },
    {
      "cell_type": "markdown",
      "metadata": {
        "id": "JcqEMN_INpTQ"
      },
      "source": [
        "Elastic Net"
      ]
    },
    {
      "cell_type": "code",
      "execution_count": null,
      "metadata": {
        "colab": {
          "base_uri": "https://localhost:8080/"
        },
        "id": "bvujxLFUNkpu",
        "outputId": "99df0ffc-45ed-4587-cf19-4dd7950fa839"
      },
      "outputs": [
        {
          "output_type": "stream",
          "name": "stderr",
          "text": [
            "/usr/local/lib/python3.10/dist-packages/sklearn/linear_model/_coordinate_descent.py:631: ConvergenceWarning: Objective did not converge. You might want to increase the number of iterations, check the scale of the features or consider increasing regularisation. Duality gap: 7.034e+11, tolerance: 6.234e+08\n",
            "  model = cd_fast.enet_coordinate_descent(\n"
          ]
        }
      ],
      "source": [
        "elastic_net = ElasticNet()\n",
        "elastic_net.fit(X_train, y_train)\n",
        "y_prede = elastic_net.predict(X_test)"
      ]
    },
    {
      "cell_type": "code",
      "execution_count": null,
      "metadata": {
        "colab": {
          "base_uri": "https://localhost:8080/"
        },
        "id": "R419FtSeNyHw",
        "outputId": "f0be51e3-b7e0-4ba1-d250-fadbb4d5889d"
      },
      "outputs": [
        {
          "output_type": "stream",
          "name": "stdout",
          "text": [
            "Mean Squared Error (MSE): 2096149029.5089307\n",
            "Root Mean Squared Error (RMSE): 45783.72013618957\n",
            "R-squared (R2): 0.6912429412031229\n",
            "Mean Absolute Error (MAE): 25106.565973318993\n"
          ]
        }
      ],
      "source": [
        "mse_e = mean_squared_error(y_test, y_prede)\n",
        "rmse_e = np.sqrt(mse_e)\n",
        "r2_e = r2_score(y_test, y_prede)\n",
        "mae_e = mean_absolute_error(y_test, y_prede)\n",
        "\n",
        "print('Mean Squared Error (MSE):', mse_e)\n",
        "print('Root Mean Squared Error (RMSE):', rmse_e)\n",
        "print('R-squared (R2):', r2_e)\n",
        "print('Mean Absolute Error (MAE):', mae_e)"
      ]
    },
    {
      "cell_type": "code",
      "execution_count": null,
      "metadata": {
        "colab": {
          "base_uri": "https://localhost:8080/"
        },
        "id": "OhSndQHSN8fi",
        "outputId": "6aa0770f-768f-4e8a-be33-abb3995fff0f"
      },
      "outputs": [
        {
          "output_type": "stream",
          "name": "stdout",
          "text": [
            "[278605.27947264 152351.71017271 115053.15921886 226118.53983658\n",
            " 113023.02529221 117410.51150383 261422.90595674 142715.86383176\n",
            " 499530.16726489 147628.9364384  196256.8575667  203507.97457445\n",
            " 215327.34849171 103921.57636007 136974.21473328 146498.3440818\n",
            " 206207.22653321  97377.99082781 137736.86163172 183291.90241122\n",
            " 161824.13647967 130196.19192837 117325.50956435 154859.33989147\n",
            " 194330.97384164 210352.52281894 166708.87975181  61694.14064689\n",
            " 298902.11651413 120157.49864671 252221.82757037 191247.80172848\n",
            " 137809.41520439 293086.69291314 324641.28676602 171014.51826639\n",
            " 249089.66170694 121386.93612461 224013.54122705 295899.33157246\n",
            " 227818.96801764 133689.38182115 189117.00654478 306062.89176336\n",
            " 337784.94561854 188132.44194144 127418.42360926 105011.4507464\n",
            " 179878.81174793  56356.35952406 343003.2532909  142754.71167328\n",
            " 188497.93622515  77355.38600407 224671.1436445  139948.06853067\n",
            " 121150.38205369 257327.6237356  145933.98668435  94005.99095871\n",
            " 148475.17285862 120049.50640806 133525.87243068 149187.17086412\n",
            " 208427.31991962 193635.1748008  107804.53131636 200672.38793127\n",
            " 135800.94895384 193172.18505824 170843.89254205 118557.36045423\n",
            "  63727.29098292 221481.9065972   85490.71907746 287540.38588081\n",
            " 112297.63942703  91789.81404991 263707.13300469 159492.0334533\n",
            " 136256.04577808 102326.32698267 135578.11453895 141608.62330522\n",
            " 226057.42099528 197701.66359531 156173.56319018 198203.62284756\n",
            " 168080.6112532  137270.59469489 178502.98659259 174159.71167155\n",
            " 158277.20900695 205913.07074937 217643.42690997 155078.16524125\n",
            " 215203.45510924 188286.50880201 105664.36653415 163501.5991399\n",
            " 242871.18479136 178321.41979381  93609.21069783 155719.72292299\n",
            " 116452.43297921 265556.0819199  144677.04896851  96828.60101224\n",
            " 160877.06009815 132103.28802739  75208.7704494  103879.99447089\n",
            " 196096.35724323 128040.92628633 174238.539871   167430.32049633\n",
            " 397701.11873548 119483.23443088 190420.06495191 292583.16399213\n",
            " 148384.69690526 172374.57501026 136900.1748939  209189.43257851\n",
            " 219920.21608436 209229.48375677 337954.26070157 195653.90430779\n",
            " 189899.84803743 186166.3025207  264262.11727211 230081.3344002\n",
            " 163260.56257327 190996.09737039  87720.68496924 232813.6561797\n",
            " 146286.86596948 199251.94165195  91398.49645118 170677.2014177\n",
            " 142066.83384625 121544.97603738 252928.72087916 138085.52858561\n",
            " 139412.74231927 159203.97589107 249253.16509593 120813.03654078\n",
            " 268923.96762388 212004.21497492 194425.39351066 321990.04418663\n",
            " 279364.67236167 190116.33917019 175725.64146046 280777.85729712\n",
            " 132356.58614317 191454.72488455 124292.40679277 158461.64562355\n",
            " 110760.89795725 154875.35213784 189354.48947227 120276.59133883\n",
            " 277056.79992461 132163.84615911 141162.89418433 296608.69013193\n",
            " 197663.4252669  181646.14197445 203233.19103898 163886.32482933\n",
            " 184794.79689337 163724.01767518 134554.86839831  94059.08618963\n",
            " 123151.58000483 266019.85563186 131247.1079528  156243.26112389\n",
            " 265930.21161296 195718.12384242 137269.41540665 285787.86392586\n",
            " 108794.75676337 179167.42526419 105578.96787941 189797.25376132\n",
            " 226002.91871451 130196.19192837 132949.03009074 151093.06124232\n",
            " 216633.62720933 127938.49913351 131467.88027544 153137.21593005\n",
            "  64588.01029836 120183.96885869 181273.28666839 141659.83783595\n",
            " 136244.75754558 198264.94708085  98300.33881364 116362.66230812\n",
            " 150084.75739805 323903.51976033 156003.12932782 309890.63049815\n",
            " 290701.01480425  70860.06208708 149569.93064918 235021.32296252\n",
            "  63527.22337629  90987.47995725 323242.98579946 231103.70099635\n",
            " 204596.25937657 283423.60281017 285344.58689777  61694.14064689\n",
            " 209546.94618494 191154.37391074 142584.85481921 101831.70340894\n",
            " 204434.91418403 267037.06137955 246501.61917225 225172.10556597\n",
            " 125398.40665995 187127.83840109  63527.22337629 154213.86913689\n",
            "  84888.64326449 125784.8259309  206722.88201112 142170.21141812\n",
            " 151096.28430418  99150.50441701  66123.33726664 196160.88948836\n",
            " 117911.79802913 178987.93188525 201327.21706961 207207.0254315\n",
            " 173036.70155611 183316.79478988 209793.74679451 185416.21765697\n",
            " 120577.19509029 213107.88984371 182936.58534619 294037.42258283\n",
            "  98917.2244419  358247.67576249 209822.60932629 246029.32327398\n",
            "  91722.90771923 241913.33217873 375181.56767194 722544.24925859\n",
            " 215156.8068405  118376.38013534 161676.00000211  72352.80519404\n",
            " 387059.84221769 282471.56224862 314297.99444205  53210.59737381\n",
            " 200834.98176401 285116.24361807 127967.83835988 214640.39859044\n",
            " 137593.42700189 194824.98488029 162333.98641223 225556.65019506\n",
            " 199854.97710419 175001.25566593 204976.81818292 107313.23421512\n",
            " 126680.68416459 327014.26469891 145353.53140796 142420.39709631\n",
            " 199019.23598468 248707.51813694 126445.32542177 246978.85590337\n",
            " 403462.39059868 202547.01870996  57597.54498378 100674.28502434\n",
            " 312020.92925304 105011.4507464  124592.82422149 286123.04574567\n",
            " 261275.28847305 180295.16580561 168587.74457738 171425.54489\n",
            "  77033.54574869 146765.16753359 182896.89222235 182948.88216192\n",
            " 182294.62740427 183502.98897164 140066.19042577 178674.86541765\n",
            " 171246.43459956 183082.55362712 101732.34652933 145148.10883033\n",
            " 201892.99211059 130535.15809252 126343.40497209 130196.19192837\n",
            " 304607.62073876 122159.0968945  197733.74887297 191614.37311682\n",
            " 133485.54565587 235715.17560493 130736.40503866 257125.35089568\n",
            " 160835.33207951 223009.17183741 131944.44115547 312539.47104767\n",
            " 217304.09031905 133939.28491928 110273.74146765 216507.28150917\n",
            " 183280.61607331 191515.81930081 197869.44408534 142573.78998369\n",
            " 131407.23240137 176008.09631792 148834.53746431 121187.01709475\n",
            " 316688.90673259 165861.17969389 191406.2690292  205578.4686101\n",
            " 171562.90015629 138653.2179267  100149.20247587  92950.84290232\n",
            "  75273.24664761 133702.55096506 203597.97542608 335608.96396097\n",
            " 106455.58954851  67598.44343329 185563.78647342 356950.49431374\n",
            " 312308.05682374 145712.2395246  238457.41071224 226161.4702172\n",
            " 330690.76547282 178735.16751458 216787.58361416 268609.69181023\n",
            "  92176.94162995 192860.70748279 158332.14583927  85288.1983579\n",
            " 163004.5116889  167730.10487012 364608.82282467 107176.44347272\n",
            " 181062.70544957 130080.43267894 157849.44707522  67938.81442855\n",
            " 200648.7514341  238013.2539519  102491.20150724 244306.48687029\n",
            " 158074.47381431 104014.08868492 139548.14902249 147315.25090586\n",
            " 111861.64422326  91208.83786255 143640.45770585 187492.7745307\n",
            " 270268.96795565 368668.88717995 122939.73787095 117176.64373015\n",
            " 224389.39102552  56053.72246334 130304.19583499 157217.85342215\n",
            " 164510.47200315 167998.56988049 142490.76877771 169636.16595251\n",
            " 304615.32822248 221700.11236194 139236.56679441  64588.01029836\n",
            " 143999.51376573 282888.76117256 102442.13993152 275417.32091747\n",
            " 268634.40593566 272462.44690912 136691.6544643  115449.83959376\n",
            " 194339.99727664 134308.81964583 140192.4744097  126954.37743828\n",
            " 204786.15115818 105414.09335483 261178.47664064 141659.83783595\n",
            " 265825.74570996 333824.01472709  92724.85799034 164664.07705196\n",
            " 152029.65269232  91289.03587846 284847.05304291 129066.86921869\n",
            " 196208.19697958 120266.38842262 159415.74515736 202442.96627405\n",
            " 199683.89119108 197032.97728958 205873.09945443 331517.66584435\n",
            " 221680.73644892 367675.63762744]\n"
          ]
        }
      ],
      "source": [
        "print(y_prede)"
      ]
    },
    {
      "cell_type": "code",
      "source": [
        "filename = 'elastic_net_model.pkl'\n",
        "pickle.dump(y_prede, open(filename, 'wb'))"
      ],
      "metadata": {
        "id": "1Oj8azf8waIR"
      },
      "execution_count": null,
      "outputs": []
    },
    {
      "cell_type": "markdown",
      "metadata": {
        "id": "buceKztZOmtT"
      },
      "source": [
        "Kernel Ridge"
      ]
    },
    {
      "cell_type": "code",
      "execution_count": null,
      "metadata": {
        "id": "Hz9pxb64OAkf"
      },
      "outputs": [],
      "source": [
        "kernel_ridge = KernelRidge()\n",
        "kernel_ridge.fit(X_train, y_train)\n",
        "y_predkr = kernel_ridge.predict(X_test)"
      ]
    },
    {
      "cell_type": "code",
      "execution_count": null,
      "metadata": {
        "colab": {
          "base_uri": "https://localhost:8080/"
        },
        "id": "fNK0FrYuOsLo",
        "outputId": "ce3bef85-d576-4fc8-ba54-9d67e1ad0e25"
      },
      "outputs": [
        {
          "output_type": "stream",
          "name": "stdout",
          "text": [
            "Kernel Ridge - Mean Squared Error (MSE): 2059877100.082046\n",
            "Kernel Ridge - Root Mean Squared Error (RMSE): 45385.868947085786\n",
            "Kernel Ridge - R-squared (R2): 0.6965856978912561\n",
            "Kernel Ridge - Mean Absolute Error (MAE): 25671.70598306177\n"
          ]
        }
      ],
      "source": [
        "mse_kr = mean_squared_error(y_test, y_predkr)\n",
        "rmse_kr = np.sqrt(mse_kr)\n",
        "r2_kr = r2_score(y_test, y_predkr)\n",
        "mae_kr = mean_absolute_error(y_test, y_predkr)\n",
        "\n",
        "print('Kernel Ridge - Mean Squared Error (MSE):', mse_kr)\n",
        "print('Kernel Ridge - Root Mean Squared Error (RMSE):', rmse_kr)\n",
        "print('Kernel Ridge - R-squared (R2):', r2_kr)\n",
        "print('Kernel Ridge - Mean Absolute Error (MAE):', mae_kr)"
      ]
    },
    {
      "cell_type": "code",
      "execution_count": null,
      "metadata": {
        "colab": {
          "base_uri": "https://localhost:8080/"
        },
        "id": "uCDhcqGkOs1S",
        "outputId": "996c9281-c67b-4b8d-ed02-4b9c96d62906"
      },
      "outputs": [
        {
          "output_type": "stream",
          "name": "stdout",
          "text": [
            "[248764.93701172 157958.32495117 120940.54614258 219257.68334961\n",
            " 128230.99121094 125418.12329102 268505.48486328 142813.22875977\n",
            " 467102.89648438 158178.85656738 192349.84838867 192313.71142578\n",
            " 211158.078125   114783.66113281 144593.28564453 146999.95507812\n",
            " 203267.03100586 129566.17236328 141034.34179688 188859.54980469\n",
            " 165905.35107422 138444.17199707 126997.41625977 159178.04858398\n",
            " 192556.28222656 209109.52954102 169709.28076172 102601.22167969\n",
            " 300800.23217773 127538.08886719 258624.22192383 189615.26147461\n",
            " 144852.46142578 301754.69677734 320983.79150391 175378.55712891\n",
            " 240213.90893555 129189.10791016 220746.92480469 279392.42773438\n",
            " 209031.5534668  134466.69946289 185901.63452148 308635.60131836\n",
            " 334866.76708984 176809.33081055 137878.64367676 115251.13647461\n",
            " 179572.00732422  69715.18811035 336267.88916016 146197.35717773\n",
            " 185945.64819336 114435.85717773 214717.2331543  153714.23449707\n",
            " 127243.70324707 271858.38256836 148041.55249023 108586.71484375\n",
            " 152514.05810547 127241.44677734 131854.61083984 150563.68603516\n",
            " 198425.56201172 186733.5168457  118956.72644043 202233.05200195\n",
            " 144047.20410156 193274.43896484 175660.16064453 127910.78198242\n",
            "  74582.27661133 216274.92456055  96108.95605469 295074.49609375\n",
            " 120545.89941406 101108.78100586 249641.765625   159643.88012695\n",
            " 143791.14733887 112424.61560059 165696.26074219 147835.875\n",
            " 221903.47558594 194478.53710938 185666.32983398 193948.54882812\n",
            " 167710.06713867 143450.04248047 180338.79931641 177377.02441406\n",
            " 162933.19946289 204054.45776367 225645.01318359 155083.74853516\n",
            " 208835.17700195 184139.26196289 114087.77905273 161005.265625\n",
            " 230669.37084961 185237.94067383 100280.91003418 161110.43603516\n",
            " 128510.02539062 252591.73413086 149507.72753906 105274.22180176\n",
            " 164190.15893555 164267.71801758  89970.39978027 112482.48095703\n",
            " 191650.02685547 134791.01318359 179373.55249023 170075.48486328\n",
            " 390788.92822266 126186.91137695 179719.81201172 312010.59155273\n",
            " 177866.91503906 178341.40307617 142682.68432617 204619.95043945\n",
            " 210327.02099609 202392.45629883 328136.55566406 193537.70336914\n",
            " 189189.22558594 179706.36645508 289359.75610352 245792.90600586\n",
            " 160037.19921875 185138.20068359  99730.3861084  221662.90332031\n",
            " 152972.11206055 195777.58105469 102481.04907227 173149.47412109\n",
            " 146376.73950195 127215.14294434 228997.65722656 142174.51953125\n",
            " 138229.20898438 163796.22900391 250488.91943359 127077.87548828\n",
            " 255520.90429688 204944.0625     189468.41723633 335396.96557617\n",
            " 265420.69311523 206858.54150391 182825.03637695 263724.50585938\n",
            " 136263.43896484 194015.13549805 153156.69604492 162929.98486328\n",
            " 119741.72546387 155611.7265625  192853.86791992 126932.37866211\n",
            " 284422.0078125  160114.39111328 138836.2902832  304347.12109375\n",
            " 193699.85717773 181033.88037109 200918.83007812 166269.63793945\n",
            " 182956.6472168  165721.34863281 140080.83227539 108609.52600098\n",
            " 129761.43920898 248731.51367188 136193.69897461 159171.65112305\n",
            " 253295.59521484 191389.50415039 145237.16906738 287879.59399414\n",
            " 117665.71594238 178333.84887695 121881.12304688 189992.13061523\n",
            " 231107.79345703 138444.17199707 138229.24755859 151206.57836914\n",
            " 208693.84765625 135713.42602539 137427.67089844 158459.90795898\n",
            "  82078.97497559 127959.28271484 181820.34838867 146734.73291016\n",
            " 137412.73388672 197215.23071289  92409.28808594 147164.46606445\n",
            " 175276.06420898 352209.55908203 152678.13867188 309847.8112793\n",
            " 289941.28979492 106275.31713867 152320.46704102 224484.08959961\n",
            "  71819.67150879 127989.41540527 326802.64379883 218775.74707031\n",
            " 199747.56567383 264694.875      290805.53369141 102601.22167969\n",
            " 203745.69750977 186996.48461914 148051.11889648 113417.98754883\n",
            " 197260.66430664 280828.3894043  235949.1784668  210533.61816406\n",
            " 129304.47583008 183997.80200195  71819.67150879 164635.77954102\n",
            " 120128.45776367 129695.54296875 203956.91015625 149619.12084961\n",
            " 177235.98681641 110309.51635742  99114.50695801 189535.47998047\n",
            " 129343.73242188 179662.18432617 199894.52709961 206586.36669922\n",
            " 171455.23193359 185660.93359375 206580.15673828 188485.53295898\n",
            " 128440.65332031 208274.07250977 179032.26245117 314685.1796875\n",
            " 133981.63366699 347617.64648438 207142.08569336 230390.52685547\n",
            " 127477.37976074 243623.94116211 366143.34570312 627456.17871094\n",
            " 213257.36987305 125662.84448242 159997.31225586 109099.94091797\n",
            " 397929.71191406 270871.86425781 288670.43945312  74791.703125\n",
            " 202220.42895508 287613.64550781 136109.09448242 208770.71630859\n",
            " 143392.91015625 186192.25415039 178738.46679688 221730.36523438\n",
            " 198513.7331543  178961.484375   203128.42797852 106607.47070312\n",
            " 134641.10400391 322164.33105469 154964.07861328 145465.50317383\n",
            " 197516.53710938 226469.38574219 138284.02380371 234042.54125977\n",
            " 381372.57470703 192871.83007812  97797.17297363 114503.17834473\n",
            " 311040.43212891 115251.13647461 130627.02905273 292548.04956055\n",
            " 270391.62158203 179235.29052734 166374.33764648 176946.24194336\n",
            "  92762.77636719 151978.57324219 184895.08789062 178945.4440918\n",
            " 179777.63989258 179173.15039062 143198.58520508 174078.29125977\n",
            " 175505.02758789 182717.00390625 110783.75158691 154078.07006836\n",
            " 199435.42724609 133513.63696289 134061.81274414 138444.17199707\n",
            " 304041.56884766 123205.49389648 192149.68823242 186049.99633789\n",
            " 162716.11499023 225008.40283203 137942.7878418  230767.07373047\n",
            " 161707.98242188 219223.04589844 138746.4987793  310924.28759766\n",
            " 210267.92016602 126743.29589844 120025.1595459  212887.17211914\n",
            " 182840.30664062 188352.44262695 192693.06567383 145821.35449219\n",
            " 134358.30737305 181805.11425781 159386.9777832  128230.39355469\n",
            " 320642.1652832  165107.60351562 191315.70263672 203630.01049805\n",
            " 171713.47753906 143248.12963867 111789.59277344 100830.14868164\n",
            "  89647.25134277 140713.00158691 203932.98999023 334054.70800781\n",
            " 117282.32666016  81747.45153809 182138.41503906 352869.35644531\n",
            " 311787.95507812 149820.38842773 228331.53051758 213454.96240234\n",
            " 313965.91552734 175847.81787109 209060.59008789 271879.32299805\n",
            " 128888.23681641 180068.82324219 163050.90576172  93648.93225098\n",
            " 163918.77758789 166232.37451172 348932.17089844 121905.44995117\n",
            " 177579.37866211 133397.30908203 161829.34472656 107320.12585449\n",
            " 194082.08691406 227102.6315918  112093.45910645 236442.01806641\n",
            " 163485.18701172 104576.53051758 147445.14160156 144589.97583008\n",
            " 118205.95019531 100692.45458984 147776.01074219 191506.20678711\n",
            " 278516.39404297 387829.24755859 128286.21386719 124917.09423828\n",
            " 206286.27148438  97882.24194336 134591.78100586 161651.92211914\n",
            " 169980.24633789 172508.63745117 140650.19775391 170860.0715332\n",
            " 313568.7253418  213283.27978516 143277.72680664  82078.97497559\n",
            " 142560.67993164 297656.74438477 108840.42797852 262847.71044922\n",
            " 285547.01611328 285418.97070312 136119.12280273 126919.88085938\n",
            " 192205.62182617 120705.56176758 134498.80883789 135996.52893066\n",
            " 195930.30615234 122212.27563477 249295.01757812 146734.73291016\n",
            " 257911.77539062 337287.09423828 101461.1036377  167374.68383789\n",
            " 153106.64111328  90920.03686523 260091.66162109 135106.29418945\n",
            " 192638.51269531 124614.07226562 157949.77050781 202597.39575195\n",
            " 223183.98754883 192636.10229492 195086.70361328 326458.06738281\n",
            " 212806.03710938 355708.15185547]\n"
          ]
        }
      ],
      "source": [
        "print(y_predkr)"
      ]
    },
    {
      "cell_type": "code",
      "source": [
        "filename = 'kernel_ridge_model.pkl'\n",
        "pickle.dump(y_predkr, open(filename, 'wb'))"
      ],
      "metadata": {
        "id": "v0lPnOENwdh0"
      },
      "execution_count": null,
      "outputs": []
    },
    {
      "cell_type": "markdown",
      "metadata": {
        "id": "psrJFWE7O0Ps"
      },
      "source": [
        "XGBoost"
      ]
    },
    {
      "cell_type": "code",
      "execution_count": null,
      "metadata": {
        "id": "ttTllxJ_Ot0X"
      },
      "outputs": [],
      "source": [
        "xgb_regressor = XGBRegressor()\n",
        "xgb_regressor.fit(X_train, y_train)\n",
        "y_predxg = xgb_regressor.predict(X_test)"
      ]
    },
    {
      "cell_type": "code",
      "execution_count": null,
      "metadata": {
        "colab": {
          "base_uri": "https://localhost:8080/"
        },
        "id": "QY8V4dfLO3xe",
        "outputId": "d1e57fdf-cbc5-4c31-e67e-54cdaf94a5a5"
      },
      "outputs": [
        {
          "output_type": "stream",
          "name": "stdout",
          "text": [
            "XGBoost - Mean Squared Error (MSE): 1162685836.0704439\n",
            "XGBoost - Root Mean Squared Error (RMSE): 34098.179365919874\n",
            "XGBoost - R-squared (R2): 0.8287395342620276\n",
            "XGBoost - Mean Absolute Error (MAE): 22779.607751855023\n"
          ]
        }
      ],
      "source": [
        "mse_xg = mean_squared_error(y_test, y_predxg)\n",
        "rmse_xg = np.sqrt(mse_xg)\n",
        "r2_xg = r2_score(y_test, y_predxg)\n",
        "mae_xg = mean_absolute_error(y_test, y_predxg)\n",
        "\n",
        "print('XGBoost - Mean Squared Error (MSE):', mse_xg)\n",
        "print('XGBoost - Root Mean Squared Error (RMSE):', rmse_xg)\n",
        "print('XGBoost - R-squared (R2):', r2_xg)\n",
        "print('XGBoost - Mean Absolute Error (MAE):', mae_xg)\n"
      ]
    },
    {
      "cell_type": "code",
      "execution_count": null,
      "metadata": {
        "colab": {
          "base_uri": "https://localhost:8080/"
        },
        "id": "u0EL0K61O6ck",
        "outputId": "edc8c56c-20e1-4eee-9a4b-ade154eaaf5e"
      },
      "outputs": [
        {
          "output_type": "stream",
          "name": "stdout",
          "text": [
            "[253218.62  146303.58  100218.71  226608.75   95144.13  131627.56\n",
            " 236106.33  146157.75  709240.7   114223.37  198496.33  151191.6\n",
            " 198241.08  123736.516 139598.47  172138.39  213360.12   97339.23\n",
            " 142930.7   164072.17  154342.61  141472.02  126978.16  152841.1\n",
            " 210360.12  181317.    182324.4    75098.83  346405.78  122607.016\n",
            " 188830.7   179100.03  145510.48  311633.94  366383.72  184382.02\n",
            " 285509.84  124650.59  230673.88  293125.44  224333.08  131189.94\n",
            " 196121.23  290229.5   355436.56  141723.45  134231.83  125861.44\n",
            " 176207.45   94419.375 479115.56  131369.61  175889.56   61375.\n",
            " 222046.83  110010.586 126828.52  234381.03  152682.1    94623.73\n",
            " 144672.39  138505.3   129262.78  150125.25  185396.38  188548.05\n",
            " 114536.875 211666.95  125801.69  192930.33  173807.58  105704.32\n",
            "  74758.34  219692.31   93741.54  295656.34  140583.69  115051.25\n",
            " 255539.03  152808.22  127469.49  129113.49  136562.6   151268.97\n",
            " 204380.9   195853.8   111150.38  198782.88  158641.02  140778.7\n",
            " 189264.28  191230.23  170144.55  213729.67  208238.56  136006.53\n",
            " 207751.16  170430.1   117080.266 146161.14  265863.25  183264.17\n",
            " 106929.15  147169.4   100397.23  303781.88  120086.63  119593.94\n",
            " 180159.38  114665.85  107051.83  121452.33  181139.83  150166.1\n",
            " 152592.06  179773.16  521277.7   134786.1   172113.03  255490.14\n",
            " 131638.39  177869.36  148131.7   210455.67  225815.84  194659.78\n",
            " 464125.2   201678.4   189571.86  172950.42  219814.06  198506.31\n",
            " 160614.1   171598.11  110802.68  231370.9   129739.13  208557.47\n",
            " 109910.414 180711.92  148889.83  142733.48  218921.02  138264.23\n",
            " 132482.39  170144.55  211334.3   139904.73  321223.4   213921.27\n",
            " 172984.17  348750.53  339909.6   173440.17  174156.95  283221.84\n",
            " 119241.445 193489.22  113549.06  163322.77  113810.91  157142.19\n",
            " 199641.25  104616.45  244212.92  127953.66  122453.28  270808.25\n",
            " 209478.17  170754.73  184837.05  158724.75  183705.25  161539.6\n",
            " 150608.17   91941.45  123937.836 250252.34  127845.26  152337.38\n",
            " 260379.72  188119.4   123185.92  312356.44  130696.98  154344.9\n",
            "  91105.84  198750.98  210593.08  141472.02  151583.36  158252.55\n",
            " 230108.44  141241.27  131960.62  154422.62   89969.58  132738.45\n",
            " 185543.7   123256.17  144986.39  185338.28  130101.984 107773.61\n",
            " 157852.3   239324.89  146034.06  279432.47  286679.88   60465.984\n",
            " 149335.78  320095.2    94187.445  88722.02  296896.44  219424.58\n",
            " 203051.86  297387.1   287436.22   75098.83  210059.2   155670.56\n",
            " 157959.55  120095.836 188511.31  243254.88  253777.28  230509.3\n",
            " 133201.61  165540.25   94187.445 154625.95   95401.234 132357.23\n",
            " 208625.69  144345.78  155461.27  129910.25   94134.625 189276.39\n",
            " 126396.17  175960.84  215657.73  209154.73  170410.38  176543.67\n",
            " 229753.02  174128.83  105811.84  186697.78  185583.88  262468.3\n",
            " 104278.74  458523.03  238608.14  294271.94   88474.336 191625.25\n",
            " 336396.38  188995.56  195686.84  143414.77  144325.42   68149.19\n",
            " 466958.47  315406.34  308953.9    74957.65  205530.34  314264.\n",
            " 104839.14  231453.08  136798.77  192998.98  162336.05  230911.02\n",
            " 192474.88  165091.2   236384.72   94914.375 132143.03  365553.6\n",
            " 140499.73  145109.14  189516.89  190496.08  116338.336 303400.38\n",
            " 584815.06  212449.69   75825.25   92425.68  326905.53  125861.44\n",
            " 125986.5   306983.16  239024.84  178339.36  152198.05  166728.58\n",
            "  66741.9   141311.14  189932.66  174977.73  200360.97  181132.55\n",
            " 139957.78  169119.    182335.19  179597.62  124833.96  160900.23\n",
            " 207238.06  112221.82  123413.53  141472.02  343330.12  134856.08\n",
            " 193552.33  234152.34  110966.305 301087.25  141811.6   261105.95\n",
            " 149985.78  224822.06  118559.13  356078.22  190676.45  135833.3\n",
            " 123331.414 226455.62  173145.1   192823.42  167016.75  140720.92\n",
            " 144662.31  180048.62  129477.04  136938.92  262236.94  169305.03\n",
            " 190606.48  236384.72  177150.75  138749.11  114737.18  114388.83\n",
            " 105711.47  124067.22  209929.22  389989.9   119115.38  107253.73\n",
            " 170211.77  449620.9   324896.62  140609.31  249420.47  206460.16\n",
            " 418636.97  169921.94  238519.28  248122.56   88584.2   170666.89\n",
            " 168430.02   84237.87  161343.47  167240.97  440397.38   96247.68\n",
            " 176983.42  130209.1   151219.9    70071.61  197443.16  348098.25\n",
            " 120703.75  248147.7   153104.58  107226.88  138021.9   153382.4\n",
            " 127952.3    88084.055 134443.73  207283.55  224636.27  433658.47\n",
            " 132703.78  118508.195 228932.73   65903.32  143839.81  172200.4\n",
            " 157868.55  183054.33  137768.97  178477.36  359194.6   227309.47\n",
            " 154853.52   89969.58  152069.77  225084.97  106710.195 312083.34\n",
            " 211191.08  227423.81  136451.53  119338.34  183852.73  130155.\n",
            " 156010.69  128300.51  177416.11   89679.6   261103.55  123256.17\n",
            " 291304.5   418115.34  120719.81  149847.67  163389.64  112208.086\n",
            " 196722.72  120563.12  204969.28  128651.4   154486.75  200367.44\n",
            " 143348.66  202346.36  210112.86  338486.7   236105.8   473654.94 ]\n"
          ]
        }
      ],
      "source": [
        "print(y_predxg)"
      ]
    },
    {
      "cell_type": "code",
      "source": [
        "filename = 'XGBoost_model.pkl'\n",
        "pickle.dump(y_predxg, open(filename, 'wb'))"
      ],
      "metadata": {
        "id": "GY5S8Yuwwhfw"
      },
      "execution_count": null,
      "outputs": []
    },
    {
      "cell_type": "markdown",
      "metadata": {
        "id": "h_q_XIs9PFlB"
      },
      "source": [
        "LightGBM"
      ]
    },
    {
      "cell_type": "code",
      "execution_count": null,
      "metadata": {
        "colab": {
          "base_uri": "https://localhost:8080/"
        },
        "id": "E34wmAfaO7zT",
        "outputId": "910e08d0-a258-4849-d3a4-990770f0eff9"
      },
      "outputs": [
        {
          "output_type": "stream",
          "name": "stdout",
          "text": [
            "[LightGBM] [Info] Auto-choosing row-wise multi-threading, the overhead of testing was 0.000717 seconds.\n",
            "You can set `force_row_wise=true` to remove the overhead.\n",
            "And if memory is not enough, you can set `force_col_wise=true`.\n",
            "[LightGBM] [Info] Total Bins 1795\n",
            "[LightGBM] [Info] Number of data points in the train set: 1022, number of used features: 9\n",
            "[LightGBM] [Info] Start training from score 180586.228963\n"
          ]
        }
      ],
      "source": [
        "lgbm_regressor = LGBMRegressor()\n",
        "lgbm_regressor.fit(X_train, y_train)\n",
        "y_predlgbm = lgbm_regressor.predict(X_test)"
      ]
    },
    {
      "cell_type": "code",
      "execution_count": null,
      "metadata": {
        "colab": {
          "base_uri": "https://localhost:8080/"
        },
        "id": "85DWORa8PIzb",
        "outputId": "74eebbdc-3d4d-4599-d3ee-dd938a19f33e"
      },
      "outputs": [
        {
          "output_type": "stream",
          "name": "stdout",
          "text": [
            "LightGBM - Mean Squared Error (MSE): 1314769786.8370874\n",
            "LightGBM - Root Mean Squared Error (RMSE): 36259.754368129514\n",
            "LightGBM - R-squared (R2): 0.8063379813820215\n",
            "LightGBM - Mean Absolute Error (MAE): 22890.27435436724\n"
          ]
        }
      ],
      "source": [
        "mse_lgbm = mean_squared_error(y_test, y_predlgbm)\n",
        "rmse_lgbm = np.sqrt(mse_lgbm)\n",
        "r2_lgbm = r2_score(y_test, y_predlgbm)\n",
        "mae_lgbm = mean_absolute_error(y_test, y_predlgbm)\n",
        "\n",
        "print('LightGBM - Mean Squared Error (MSE):', mse_lgbm)\n",
        "print('LightGBM - Root Mean Squared Error (RMSE):', rmse_lgbm)\n",
        "print('LightGBM - R-squared (R2):', r2_lgbm)\n",
        "print('LightGBM - Mean Absolute Error (MAE):', mae_lgbm)"
      ]
    },
    {
      "cell_type": "code",
      "execution_count": null,
      "metadata": {
        "colab": {
          "base_uri": "https://localhost:8080/"
        },
        "id": "jbM4lJsUPOkw",
        "outputId": "a71d83ea-1b24-47fe-eefc-305a5bc476f6"
      },
      "outputs": [
        {
          "output_type": "stream",
          "name": "stdout",
          "text": [
            "[215525.39107159 153209.36994829 111810.55321188 235472.96824301\n",
            " 101524.25978752 125530.40098141 245601.71051703 146774.57834907\n",
            " 514779.87833716 123362.57191868 190002.57226013 156651.66521628\n",
            " 226661.68681704 125551.24223562 137657.8334409  157912.38848711\n",
            " 205844.01815583  90236.25828296 141848.74203268 174097.04255334\n",
            " 151272.78352176 142227.86854281 115610.10516405 142045.47208475\n",
            " 212083.35128013 210935.40360515 182377.99092429  61362.63263359\n",
            " 348379.90351803 122136.91116712 130369.40898047 168618.76638\n",
            " 138622.31778034 324680.96042412 400847.02057933 181075.2994386\n",
            " 308621.84979339 127199.54585446 238975.57713923 279040.77081362\n",
            " 203771.91288806 139368.85129327 183670.69726088 296712.16647534\n",
            " 424633.31390708 153582.81496959 126110.44058052 128495.89462633\n",
            " 180281.61270457  87659.67585808 435745.89133035 145881.82177146\n",
            " 179117.09542596  64543.61330772 224806.52845923 101014.47575784\n",
            " 121477.03045108 231807.31686603 158548.16401894 108884.32146199\n",
            " 144028.97743708 134733.35013179 130993.37398676 147058.80686689\n",
            " 199261.38680685 188356.82561525 117643.21286964 201184.59927789\n",
            " 131210.60440135 179514.05932831 176640.35141074 120240.54965016\n",
            "  87940.59222881 206292.98153131  92681.45024484 258053.43255257\n",
            " 127387.57953846 114857.49225831 277217.1602368  155275.30416289\n",
            " 130121.86357241 119230.50232469 137348.97396541 139000.11469721\n",
            " 211591.94434498 205939.71283059 110216.26493207 195078.31596195\n",
            " 161629.81736329 138689.3953033  179752.81504096 196068.14359282\n",
            " 175109.68158283 218676.19860447 189359.39994181 128594.9704715\n",
            " 219427.33647135 170457.61035024 112637.71003602 138956.94657908\n",
            " 266420.26319652 190148.91563852  96972.50867452 157599.89489877\n",
            " 105944.56093781 278483.8631709  131154.24191338 115774.61731603\n",
            " 165243.25435477 116098.0718473   89832.09776111 121226.13903183\n",
            " 195172.45447676 135243.12974563 160687.27068748 177562.18325788\n",
            " 455130.78506963 136172.29207855 186203.64464198 273339.58824103\n",
            " 126829.30422801 174671.42611712 141000.2131823  217068.28756779\n",
            " 241878.61662617 193022.53507672 413626.56430868 213270.64523815\n",
            " 191053.52690824 179882.45516732 198987.18275235 200657.96392086\n",
            " 167650.63726129 178296.59352716 107473.75555193 236916.18585156\n",
            " 131707.77408701 216012.08073589 113291.85217787 172984.53505286\n",
            " 153262.07322727 121605.69169408 175389.43778386 141501.98195129\n",
            " 128840.01666036 177463.4411105  216947.35514756 139063.04875832\n",
            " 296411.92052256 207063.06078104 180207.33298845 346366.87094829\n",
            " 312966.72099887 154705.82517598 195971.10021618 283722.76829115\n",
            " 125398.46220181 211612.28183142 121835.06038599 167180.07673836\n",
            " 112420.36530147 152509.00068268 204022.04307362 107900.21636265\n",
            " 251210.59814585 126535.66049658 131348.248163   254494.69945212\n",
            " 203128.56039286 181908.53865077 170510.44716118 161498.92946218\n",
            " 182154.89856618 163658.09595288 138240.80946762  88224.12727867\n",
            " 128653.76408824 209561.16283591 130277.19165331 146502.44224867\n",
            " 262880.08637062 196350.46135855 134583.16155775 303544.63677908\n",
            " 116456.91353518 160334.05552456  88390.67630814 193922.25861679\n",
            " 200089.66950413 142227.86854281 134945.82342668 145011.00340153\n",
            " 235110.83584319 129474.76302777 136394.02805212 149127.24748113\n",
            "  74261.77908908 133811.02169861 182588.34801711 137802.53043779\n",
            " 139074.91852122 198560.71960896 132215.95598848 107124.74601816\n",
            " 160836.53866837 174742.51481745 133496.18998974 323828.25132347\n",
            " 287823.59823567  86750.22001758 152601.21033756 274791.26448146\n",
            "  94169.45034186  92843.84180999 318849.89658139 208797.69817646\n",
            " 205289.81519667 287024.51173047 282582.92040032  61362.63263359\n",
            " 201366.72576081 163770.69286116 138987.04107786 118436.2155776\n",
            " 191758.99073206 232230.54355151 280467.37357832 229714.41610969\n",
            " 130021.78630298 185474.58795504  94169.45034186 150544.80108273\n",
            "  86750.22001758 126765.382559   197209.42914459 132797.99367751\n",
            " 159619.92077386 126797.38034261  78099.95150486 186120.34002398\n",
            " 121673.73021375 185117.59008082 212129.38406313 216924.30386472\n",
            " 158604.11697213 195145.30439053 225078.8166509  183943.96153951\n",
            " 120690.41545421 212599.23480109 172064.70856925 273339.58824103\n",
            " 101811.16985489 434412.50397995 226126.64513777 264708.41147942\n",
            "  92907.50890397 203532.51904242 444779.89031016 479992.6086613\n",
            " 214811.06965484 135864.62434595 149017.26534891  66164.37059967\n",
            " 432243.84847425 302090.902289   370379.33510069  58745.35950099\n",
            " 215341.56804148 304504.09684773 129990.4873069  238717.9586842\n",
            " 143202.22195748 186095.92485055 149575.97444556 219566.40804318\n",
            " 192072.57933326 155606.82541898 228490.67733364 113413.24465047\n",
            " 140439.53504769 404625.36996483 131563.17812121 140331.02584364\n",
            " 211523.49042556 188563.95219699 122565.09017026 264061.72434132\n",
            " 413991.44392927 190099.0010028   64405.82041699  90731.58713573\n",
            " 361547.29611341 128495.89462633 129410.22142777 289711.82048429\n",
            " 229276.23980927 174470.76191069 151678.06721078 158272.31918945\n",
            "  62511.96532965 134285.91399355 175001.5212332  169891.30926788\n",
            " 191259.56023071 175373.19075281 139968.84440609 164875.90279454\n",
            " 177280.03089518 178250.61966268 110293.30317425 137097.56821293\n",
            " 201514.50888318 111370.90336379 122245.42911512 142227.86854281\n",
            " 323822.06528685 137244.91011513 176932.37983446 197673.298196\n",
            " 114538.1693239  272310.22514037 139634.50856597 283448.16905845\n",
            " 147814.82262592 242105.71404714 126712.55798457 360382.1705219\n",
            " 197102.52567207 138892.35518864 125538.37672922 219874.72364714\n",
            " 175871.41347155 183488.4583009  183083.64536766 150193.7247612\n",
            " 145734.41387406 194949.11035764 132858.0222527  135035.77118445\n",
            " 309474.1064387  165731.16819713 182477.00673935 226586.19445942\n",
            " 180370.39030526 149035.79656882 110465.84818709 111986.0549221\n",
            " 103132.9633851  130190.48533233 214070.01134442 379828.38743892\n",
            " 124247.28151524 105027.82336397 171083.2903241  432484.76545916\n",
            " 330069.55687413 138025.54451703 262757.93770737 215009.42940733\n",
            " 410994.46279451 177376.85011978 242193.46047162 251760.71147688\n",
            "  96088.26162212 154568.69455963 170107.02996485  87234.07745574\n",
            " 154856.25483797 160105.60020792 431989.75164099 104040.70182275\n",
            " 158752.90039316 129257.28985142 144375.92026158  66770.83039809\n",
            " 188528.67492809 305068.6656345  112860.21238547 244489.24334882\n",
            " 152531.958578   102245.02007835 140186.70507316 148687.220342\n",
            " 117396.28199373 117968.11205194 139785.76026269 203064.65660758\n",
            " 233046.88955166 368957.99808614 139053.73184213 118196.59789138\n",
            " 213442.60911195  55942.23699112 137682.65051429 169889.05409582\n",
            " 158129.1967763  179629.94438021 129225.64937179 181469.82539806\n",
            " 355545.99341124 230032.86459674 145864.16089319  74261.77908908\n",
            " 151745.0414321  241685.92378625 105807.10434687 290566.1248448\n",
            " 231873.48788302 231812.0107983  121937.52700563 120525.08989376\n",
            " 177736.51528767 131730.71989447 153104.1335255  132698.88832759\n",
            " 172109.6055914   88390.67630814 261853.61063352 137802.53043779\n",
            " 246796.12051837 422000.84086858 110768.19787038 152389.05338887\n",
            " 164578.17380588 118184.57151823 267048.63207498 122725.65884478\n",
            " 207143.89857423 126055.98377991 140693.0509902  206435.98490672\n",
            " 111141.69785917 197986.29939547 194152.37371024 418253.9976614\n",
            " 237038.6864943  470925.43028852]\n"
          ]
        }
      ],
      "source": [
        "print(y_predlgbm)"
      ]
    },
    {
      "cell_type": "code",
      "source": [
        "filename = 'LGBM_model.pkl'\n",
        "pickle.dump(y_predlgbm, open(filename, 'wb'))"
      ],
      "metadata": {
        "id": "UGvmSbgWwlx7"
      },
      "execution_count": null,
      "outputs": []
    },
    {
      "cell_type": "markdown",
      "metadata": {
        "id": "WK4ax6haP0I6"
      },
      "source": [
        "Ridge Regression"
      ]
    },
    {
      "cell_type": "code",
      "execution_count": null,
      "metadata": {
        "id": "dssCv2zCQNgZ"
      },
      "outputs": [],
      "source": [
        "from sklearn.linear_model import Ridge, BayesianRidge\n",
        "from sklearn.svm import NuSVR, LinearSVR\n",
        "from sklearn.ensemble import ExtraTreesRegressor, AdaBoostRegressor\n",
        "from sklearn.neural_network import MLPRegressor"
      ]
    },
    {
      "cell_type": "code",
      "execution_count": null,
      "metadata": {
        "id": "YM-pgWmvPQQX"
      },
      "outputs": [],
      "source": [
        "ridge = Ridge()\n",
        "ridge.fit(X_train, y_train)\n",
        "y_pred_ridge = ridge.predict(X_test)"
      ]
    },
    {
      "cell_type": "code",
      "execution_count": null,
      "metadata": {
        "colab": {
          "base_uri": "https://localhost:8080/"
        },
        "id": "-xWqPdTNP4S7",
        "outputId": "90738ec4-c5c8-4b04-e2fb-26dcf4781815"
      },
      "outputs": [
        {
          "output_type": "stream",
          "name": "stdout",
          "text": [
            "Ridge - Mean Squared Error (MSE): 1968767709.2244647\n",
            "Ridge - Root Mean Squared Error (RMSE): 44370.79793315041\n",
            "Ridge - R-squared (R2): 0.7100058637067336\n",
            "Ridge - Mean Absolute Error (MAE): 25258.492459569177\n"
          ]
        }
      ],
      "source": [
        "mse_ridge = mean_squared_error(y_test, y_pred_ridge)\n",
        "rmse_ridge = np.sqrt(mse_ridge)\n",
        "r2_ridge = r2_score(y_test, y_pred_ridge)\n",
        "mae_ridge = mean_absolute_error(y_test, y_pred_ridge)\n",
        "\n",
        "print('Ridge - Mean Squared Error (MSE):', mse_ridge)\n",
        "print('Ridge - Root Mean Squared Error (RMSE):', rmse_ridge)\n",
        "print('Ridge - R-squared (R2):', r2_ridge)\n",
        "print('Ridge - Mean Absolute Error (MAE):', mae_ridge)"
      ]
    },
    {
      "cell_type": "code",
      "execution_count": null,
      "metadata": {
        "colab": {
          "base_uri": "https://localhost:8080/"
        },
        "id": "QHacKnK7P5hw",
        "outputId": "1ee604d0-da52-4825-b212-2b6e9f5cf321"
      },
      "outputs": [
        {
          "output_type": "stream",
          "name": "stdout",
          "text": [
            "[267180.22589087 156291.00015627 115312.09625071 227234.50195408\n",
            " 121065.401305   116018.02785844 268407.13928805 148175.97015816\n",
            " 495433.21080786 158435.15063187 201830.15165631 189255.80109982\n",
            " 217641.58940607 104367.96540744 142791.89345224 141657.11945512\n",
            " 211801.80639612  93124.66787616 133865.50062101 191803.11154348\n",
            " 153415.99859269 133659.43971932 113352.80323856 153748.19923878\n",
            " 189975.80130332 222537.05777773 164940.26027251  61734.62442612\n",
            " 311356.75028691 118135.1446702  233819.06518822 197479.99244956\n",
            " 140859.14915906 295925.23510497 325044.27315802 178228.63999867\n",
            " 268408.63572072 116509.38229066 225820.3633016  299771.60343827\n",
            " 225665.76379678 133224.97781189 195050.06522399 309022.36070547\n",
            " 334761.96039217 178494.25209508 123774.74520487 105213.68067286\n",
            " 176509.42347966  57517.65242268 348228.95894935 135714.56534751\n",
            " 186451.83559245  75511.36571808 228257.10483231 116148.83600274\n",
            " 117273.86398173 264298.92226272 138246.46486241  95319.66866084\n",
            " 150803.89139995 118361.4916561  131666.57824868 141138.46090878\n",
            " 205053.05648103 189631.32065571 107465.18158317 205994.36296591\n",
            " 129103.17342081 197702.2079676  178276.58067701 117196.96758651\n",
            "  51760.70991477 234495.10087464  79748.68743727 292861.77819278\n",
            " 111976.93864506  93228.96419269 260589.81754671 162853.35647932\n",
            " 131185.76761057 102954.40087089 134208.5765906  135894.27412808\n",
            " 213276.18758855 203592.90674395 128892.51898264 203603.19375266\n",
            " 167287.90670051 143228.74515432 175778.58927381 172375.79018765\n",
            " 157217.35693943 209304.80515129 219078.25399153 159128.39269982\n",
            " 219613.14301461 183906.43435335  92982.80333593 152466.1257575\n",
            " 244303.25510181 188298.59140882 101916.38053201 155347.44154927\n",
            " 122550.77054488 271071.60494734 136396.69201049  88374.16133616\n",
            " 159522.66234565 142789.26909387  80473.77896551  94334.88127252\n",
            " 192427.84211949 121549.57351344 181906.32757491 165586.4556383\n",
            " 410270.95344366 117944.08718315 191012.57830776 297888.04098735\n",
            " 167126.85587593 180548.21013905 130995.7718213  213578.33496203\n",
            " 222691.5158197  213419.40746313 345297.12047788 202143.18902884\n",
            " 197017.39149768 185042.26621619 259234.17578067 232059.90997407\n",
            " 158178.20530408 187498.95547455  80189.72752073 235028.68229165\n",
            " 151127.02158708 205017.17057974  83428.66061488 168964.85485663\n",
            " 147802.5657589  119851.0470318  244180.71788204 131372.66961321\n",
            " 122504.27240598 158119.77857746 256159.85556433 119128.55326598\n",
            " 286007.62029756 216107.95457206 191340.32035985 334921.98313192\n",
            " 296145.34202662 183194.93817686 196431.91239978 275092.33100347\n",
            " 119204.35513781 205864.4050635  126511.52038998 169358.25339871\n",
            "  98321.05122537 146497.79844673 195870.48078498 106691.72947872\n",
            " 283070.9576172  133808.48306421 138937.42755383 289968.84885235\n",
            " 203203.65941892 178392.62093002 201522.22321132 164063.02737233\n",
            " 183231.74143303 164273.50801674 128539.23296952  95861.41167444\n",
            " 121614.93389656 253416.28812388 139032.81427256 157035.81115076\n",
            " 273099.35218975 203973.52221495 139973.35425851 290155.35095008\n",
            "  96311.54565465 178470.82443159 114658.61426672 197512.54752823\n",
            " 227177.47546712 133659.43971932 126823.9768292  157226.16972721\n",
            " 220347.57228518 123370.5397795  128068.84188137 155111.10745238\n",
            "  59862.60438225 130957.92515901 177992.15042829 133395.19484571\n",
            " 134242.49240046 213353.03141542 101767.26954598 119535.95517886\n",
            " 149268.57536192 293865.34123535 160342.02962634 319952.6136055\n",
            " 294378.24691508  60086.59362289 142171.25155587 246708.94208576\n",
            "  51113.32603258  97214.14650328 334213.02568679 224852.58990488\n",
            " 209885.68998822 278057.22986367 290384.40811764  61734.62442612\n",
            " 214961.92039247 188462.89971027 149620.7811804  102343.16003854\n",
            " 209573.0493574  263758.82230612 255642.43187468 220323.44683452\n",
            " 124751.74748528 195347.79650537  51113.32603258 165019.91387791\n",
            "  82138.15266864 123648.87062267 209930.39820552 146970.75708545\n",
            " 148912.20086096 100124.02751151  71595.82019325 192276.82403455\n",
            " 115570.76384295 176435.25561929 205246.63823335 211398.62126684\n",
            " 171647.63495746 200192.84024473 224923.14324972 191635.04926077\n",
            " 119563.2655447  218166.74865529 182679.39219917 299523.76535001\n",
            " 104189.7117144  369902.47169303 224197.75495676 245625.46087275\n",
            "  98793.10596414 241512.89590881 367701.49343707 692534.72417002\n",
            " 227346.28933889 106222.81442261 154241.89048138  73915.43677678\n",
            " 403829.84359122 293579.03765478 315246.32988462  49685.42975263\n",
            " 207111.46707057 289610.39761678 125091.60706056 219920.75205739\n",
            " 133489.58845182 191784.85213926 168068.70526218 227271.4799231\n",
            " 216717.32052475 185757.25267807 207811.32025825  99258.00585161\n",
            " 121854.66006294 336109.11381515 148996.51398895 138076.40824058\n",
            " 205784.52893172 229016.52280319 132900.21496491 256212.80403043\n",
            " 408362.84787483 204172.12040334  59622.20869811 100892.33194637\n",
            " 322996.83240277 105213.68067286 119565.74631372 292051.07267385\n",
            " 259695.19143279 187289.74892662 168804.68207297 179176.42582896\n",
            "  70574.97059353 148621.0428916  188450.29446254 180367.09147136\n",
            " 180146.9275139  180827.85085981 134473.13938368 168237.61889904\n",
            " 178372.79205107 190625.81127207 105845.69877121 146824.79782939\n",
            " 206177.07877058 127929.07406588 123206.16543273 133659.43971932\n",
            " 305421.4842366  108974.12361868 202816.76884413 188356.90581766\n",
            " 145133.14275113 247319.30404173 137554.19840501 258701.05471303\n",
            " 155261.59755298 225609.20062944 126889.27235662 323318.7451678\n",
            " 215880.27550281 131996.3431968  109740.01916844 229771.77738231\n",
            " 178784.36248477 197462.87788542 194665.03210605 135441.92119673\n",
            " 116655.14595979 195270.11093982 162329.48346758 119376.35522823\n",
            " 328218.33583938 164896.6993187  199472.6536893  208326.11366637\n",
            " 171001.86577174 133978.53913845  90505.31519554  96611.22350803\n",
            "  82529.24750676 128394.76807947 208138.68751711 342375.62467787\n",
            " 106362.95477312  76869.47097657 182701.12312888 373071.19747606\n",
            " 311725.41224076 141027.31881938 249477.78995104 216922.50597471\n",
            " 352175.1954568  178705.72677349 220457.89630773 274471.06981046\n",
            "  98260.48128495 183628.70427308 169268.21878056  79973.68610442\n",
            " 151004.7643957  168554.02433211 367119.22970387 106123.700936\n",
            " 167228.2500728  127368.8791098  159165.52582357  67227.88202988\n",
            " 196892.49578106 248663.37244012 103158.14781501 255957.82906306\n",
            " 157960.22583353  91199.12776145 134370.31657534 152914.80845708\n",
            " 111525.8154989   73652.71995997 136925.00225075 194200.24185542\n",
            " 267858.85243743 370147.42711209 121050.72314486 117456.67248909\n",
            " 222224.31594876  57171.61248764 127433.61587638 156321.23300531\n",
            " 175111.63980186 167016.64586408 139314.42365626 167358.26171246\n",
            " 315910.97581386 225021.42230407 135169.80152734  59862.60438225\n",
            " 149785.24869623 278494.08652896  94020.32934665 279937.22428074\n",
            " 266009.60327054 279877.69159715 136736.38607673 113578.58207208\n",
            " 199459.84242603 119854.92559773 144496.73038818 122640.18459585\n",
            " 211274.88199914 114454.86732261 258626.46771937 133395.19484571\n",
            " 273715.85506172 341131.04506053  84855.95507023 163341.06415471\n",
            " 144497.56015198  84811.17046883 280138.67448061 115150.63355941\n",
            " 202229.07865367 118911.8851677  149941.50605998 206953.22473302\n",
            " 196433.7520658  202194.68068947 201994.1941028  331171.24953371\n",
            " 224784.9588297  372626.93177166]\n"
          ]
        }
      ],
      "source": [
        "print(y_pred_ridge)"
      ]
    },
    {
      "cell_type": "code",
      "source": [
        "filename = 'ridge_model.pkl'\n",
        "pickle.dump(y_pred_ridge, open(filename, 'wb'))"
      ],
      "metadata": {
        "id": "JAlCPt0Dwqvt"
      },
      "execution_count": null,
      "outputs": []
    },
    {
      "cell_type": "markdown",
      "metadata": {
        "id": "R_tQTPyKQbs7"
      },
      "source": [
        "Bayesian Ridge"
      ]
    },
    {
      "cell_type": "code",
      "execution_count": null,
      "metadata": {
        "id": "KOaLrQxaP7oQ"
      },
      "outputs": [],
      "source": [
        "bayesian_ridge = BayesianRidge()\n",
        "bayesian_ridge.fit(X_train, y_train)\n",
        "y_pred_bayesian_ridge = bayesian_ridge.predict(X_test)"
      ]
    },
    {
      "cell_type": "code",
      "execution_count": null,
      "metadata": {
        "colab": {
          "base_uri": "https://localhost:8080/"
        },
        "id": "FQ9Wf4EAQDJQ",
        "outputId": "a65e939c-feae-44ca-aae4-0d6af9b0131a"
      },
      "outputs": [
        {
          "output_type": "stream",
          "name": "stdout",
          "text": [
            "Bayesian Ridge - Mean Squared Error (MSE): 2688132064.2312937\n",
            "Bayesian Ridge - Root Mean Squared Error (RMSE): 51847.19919370085\n",
            "Bayesian Ridge - R-squared (R2): 0.6040454480452313\n",
            "Bayesian Ridge - Mean Absolute Error (MAE): 28659.970205921774\n"
          ]
        }
      ],
      "source": [
        "mse_br = mean_squared_error(y_test, y_pred_bayesian_ridge)\n",
        "rmse_br = np.sqrt(mse_br)\n",
        "r2_br = r2_score(y_test, y_pred_bayesian_ridge)\n",
        "mae_br = mean_absolute_error(y_test, y_pred_bayesian_ridge)\n",
        "\n",
        "print('Bayesian Ridge - Mean Squared Error (MSE):', mse_br)\n",
        "print('Bayesian Ridge - Root Mean Squared Error (RMSE):', rmse_br)\n",
        "print('Bayesian Ridge - R-squared (R2):', r2_br)\n",
        "print('Bayesian Ridge - Mean Absolute Error (MAE):', mae_br)"
      ]
    },
    {
      "cell_type": "code",
      "execution_count": null,
      "metadata": {
        "colab": {
          "base_uri": "https://localhost:8080/"
        },
        "id": "tZ8z9R7sQfIg",
        "outputId": "cd2ebb48-0533-47c1-e85b-f82a6cd7c49a"
      },
      "outputs": [
        {
          "output_type": "stream",
          "name": "stdout",
          "text": [
            "[296993.81449256 145818.30177355 117583.04898097 223015.69646446\n",
            "  99682.29937669 120812.95025789 246720.94237894 141046.76565\n",
            " 507525.6532751  126495.67765319 183858.96028491 227581.53248193\n",
            " 209738.18634077 104277.66263743 126791.40062111 156389.05802823\n",
            " 196958.61519016 108210.82580561 145321.68714837 166964.09978334\n",
            " 180945.75430007 120035.95189816 122783.17537617 150984.24265496\n",
            " 201724.89405835 185571.32774055 166688.42098875  64888.86950955\n",
            " 275149.59817382 126225.25224868 286052.85403546 176981.05931608\n",
            " 129775.37165827 288573.57033953 324041.51172662 154292.19348458\n",
            " 215216.69150211 126941.24988576 222818.11737031 293951.44082106\n",
            " 232546.30962334 135064.75418424 174263.59107675 301749.0845378\n",
            " 343028.085991   208020.51380335 137902.47820206 106283.96334636\n",
            " 182684.35391406  56261.28974077 331233.9393873  153641.4334546\n",
            " 193904.69092896  83902.39477282 218721.58423635 162294.76634013\n",
            " 122691.58556395 244343.91239929 157009.51347472  91837.18672537\n",
            " 142058.32625357 124129.12435412 142079.70970427 161015.23593195\n",
            " 214865.48381711 197363.08907415 108626.73078685 194072.01202076\n",
            " 147297.60866917 182024.95441242 154447.64071257 120063.81020755\n",
            "  83831.96197515 198878.21142363  96764.30020104 279268.27329561\n",
            " 114345.27675367  93477.33528204 270160.0151091  155420.64009613\n",
            " 147957.43341252 103548.17564876 141523.45118103 154455.72685693\n",
            " 260624.85323969 186526.21457993 206795.94609465 186334.82189487\n",
            " 166591.46991486 128049.65221826 182482.95550962 177613.65177771\n",
            " 156135.9844791  198435.00743828 209420.15955689 150866.83117003\n",
            " 208733.57935427 191592.81276196 124905.53047952 177415.33624398\n",
            " 243176.57172154 164557.14137104  79898.95460843 153186.24315764\n",
            " 103426.04161047 253790.75549091 157000.4586041  113729.36728406\n",
            " 158783.45796189 117117.14110104  68746.89501853 121054.76359154\n",
            " 201163.94288975 135174.04932061 159481.47538556 167514.98895065\n",
            " 379948.46319151 123853.42339977 196831.95951568 289247.45258012\n",
            " 119063.01065156 157630.81404112 147334.53269525 199917.5671213\n",
            " 212671.74040993 199792.63142382 322223.12169955 184547.52420976\n",
            " 177588.28921913 185970.67409924 263698.37280456 226190.1720682\n",
            " 172113.99635123 194510.34506624 101792.19307064 229627.13088388\n",
            " 138134.18873282 188520.72111994 106275.95515799 171786.0439691\n",
            " 133582.47657913 123529.0285128  265600.86395297 147537.29397318\n",
            " 164477.98021401 157407.62456016 230415.31471189 125542.73813814\n",
            " 239577.49941787 203548.4534129  200205.02667701 305843.62365174\n",
            " 254023.21120699 206262.72329712 139695.62772067 291579.11698208\n",
            " 158326.07753847 162020.60170359 123862.09750317 135058.53150399\n",
            " 132680.5142677  168581.27437611 179628.49364343 144233.03594665\n",
            " 266177.78704896 133062.23303894 143119.93693659 310296.80125552\n",
            " 185819.48588265 184885.60438546 215053.68449145 161494.45932224\n",
            " 189187.36132663 162366.37449125 143756.66404936  92291.56594556\n",
            " 126232.6206286  290432.5501119  121861.14718625 152591.82987548\n",
            " 255177.39179784 179778.06065232 129195.65739602 276289.9294239\n",
            " 129773.70681335 180134.90699193  90775.4777772  178168.69586321\n",
            " 218333.82404003 120035.95189816 141245.13493366 142380.80332374\n",
            " 209370.20595462 136133.39849979 137937.04850759 150247.72879183\n",
            "  73820.28761972 102138.76033734 185329.01611516 152866.57615976\n",
            " 141281.64811172 169357.01603785 109340.267365   114234.99610404\n",
            " 155554.44498738 373722.80975963 154029.97187258 289695.63834667\n",
            " 281737.96084129  93040.90917801 162772.43806394 213005.13843148\n",
            "  80967.34368172  83428.27162684 305882.59361972 243659.11936656\n",
            " 194864.79254336 293946.0959542  276258.33126763  64888.86950955\n",
            " 200850.01069923 196233.84734987 131156.89940884 102049.24651664\n",
            " 192187.07812    274197.05512808 229248.36615049 234378.86975218\n",
            " 127881.25244318 170556.79574813  80967.34368172 135734.27729765\n",
            "  93048.14110199 132327.42905273 198862.17069187 135035.51063348\n",
            " 158804.68695794  99505.39695408  60384.76185655 201216.1783851\n",
            " 122184.41319421 182084.6080806  192378.29312615 201468.92618379\n",
            " 172608.40828932 150934.59528479 183459.24905271 173632.76807837\n",
            " 122970.79414855 207126.75616996 183756.2399704  291203.29376115\n",
            "  93055.37302597 332916.33229499 184392.42686762 244743.93641497\n",
            "  82777.15301684 237427.89545019 389381.13008013 799809.15679913\n",
            " 191891.5980851  141332.66424867 177897.75206003  73484.22732617\n",
            " 369341.9187417  252481.66810142 312629.16096047  59146.54944431\n",
            " 188927.8455409  275512.07231813 133556.14073567 206998.74298142\n",
            " 145052.27278654 196787.85618865 162491.86396035 224588.95028806\n",
            " 168900.47224583 156652.00349147 196946.62986334 129952.92807949\n",
            " 134646.58522594 309297.89589029 138599.27837865 151534.7965541\n",
            " 189897.61780137 282456.01045694 115921.35272792 228512.15604124\n",
            " 390101.90597619 200112.34240249  57445.05730313 101627.07334268\n",
            " 291081.30388295 106283.96334636 129671.10686545 276456.33582307\n",
            " 264220.6460012  163553.44077022 164901.86510158 155895.06647908\n",
            "  89824.90826611 140218.44254584 168951.19035563 184642.28503822\n",
            " 183176.62771911 185119.93596166 148861.71292451 197658.26910302\n",
            " 154518.93801312 168051.47555717  96462.96993976 141345.82870065\n",
            " 192144.59940528 138923.87900521 133468.92741697 120035.95189816\n",
            " 301012.75399922 140695.87080497 184362.11809518 193317.42651873\n",
            " 116689.66602189 213847.5098039  120491.16983405 264988.70828783\n",
            " 174124.23599051 221259.65301863 141005.38751904 291677.87769544\n",
            " 229919.27757491 148216.88954051 112148.55899868 191287.07319246\n",
            " 187980.34527288 177737.83033236 204934.18720874 153211.04979804\n",
            " 156610.40784919 141641.77224109 125513.73503935 125337.77148712\n",
            " 297738.00239963 163082.12534133 178114.90221671 197706.54415697\n",
            " 172027.35914387 148999.80827033 117091.80537317  82853.11443741\n",
            "  63555.21354373 143845.83281372 197113.59914176 322722.42555971\n",
            " 107419.54738283  53297.30017037 189116.6850695  329368.26087575\n",
            " 311437.50728194 154388.78681196 218633.85508078 237983.07948949\n",
            " 302736.99327945 176956.00866954 209837.95453055 254965.74123378\n",
            "  84872.33683671 214628.46453904 135127.57868867  97735.08498769\n",
            " 179158.33769399 164195.74635524 356485.49374148 108110.33999586\n",
            " 201213.67621066 137243.0305457  155800.02147355  72470.21186136\n",
            " 207631.82683842 217307.87988709 104047.8186928  229159.35567139\n",
            " 156629.2667562  131607.53100193 147355.77303519 145785.6311061\n",
            " 116060.3880029  121140.49792589 155517.5688845  177448.26936485\n",
            " 275345.79415809 382708.90576521 128386.70115145 116920.1571959\n",
            " 228394.77189968  57380.64970623 136840.86630154 154511.70608915\n",
            " 146559.49806293 169963.03482897 151573.00115655 169348.29326049\n",
            " 285325.40755685 216251.57671321 148563.54726002  73820.28761972\n",
            " 140519.16223063 294318.22600205 121061.1079026  267941.43893909\n",
            " 276525.23208255 261294.19322396 136607.5497688  118841.70251008\n",
            " 182140.7505484  173098.35466058 140625.18191793 135990.39417249\n",
            " 190306.12838477  90275.83473316 268145.97842461 152866.57615976\n",
            " 258570.07192179 321832.00122679 109215.15377086 163773.38027535\n",
            " 164532.37955358 113686.14732774 292114.28508124 156253.57644529\n",
            " 181959.26423259 126226.72785896 173144.41234534 195319.93336095\n",
            " 206703.23482977 184610.59027125 210584.27045105 332402.36908103\n",
            " 215820.63086882 358840.21185073]\n"
          ]
        }
      ],
      "source": [
        "print(y_pred_bayesian_ridge)"
      ]
    },
    {
      "cell_type": "code",
      "source": [
        "filename = 'beysian_ridge_model.pkl'\n",
        "pickle.dump(y_pred_bayesian_ridge, open(filename, 'wb'))"
      ],
      "metadata": {
        "id": "niiT40L4wuYj"
      },
      "execution_count": null,
      "outputs": []
    },
    {
      "cell_type": "markdown",
      "metadata": {
        "id": "atkRSGjcQonT"
      },
      "source": [
        "NuSVR"
      ]
    },
    {
      "cell_type": "code",
      "execution_count": null,
      "metadata": {
        "id": "j19OVdmBQg9Y"
      },
      "outputs": [],
      "source": [
        "nusvr = NuSVR()\n",
        "nusvr.fit(X_train, y_train)\n",
        "y_pred_nusvr = nusvr.predict(X_test)"
      ]
    },
    {
      "cell_type": "code",
      "execution_count": null,
      "metadata": {
        "colab": {
          "base_uri": "https://localhost:8080/"
        },
        "id": "ai0aSi0MQpiQ",
        "outputId": "72c01731-ff07-4ce8-c504-b88c6567f352"
      },
      "outputs": [
        {
          "output_type": "stream",
          "name": "stdout",
          "text": [
            "NuSVR - Mean Squared Error (MSE): 6861632698.988223\n",
            "NuSVR - Root Mean Squared Error (RMSE): 82834.97268055458\n",
            "NuSVR - R-squared (R2): -0.010699860009669493\n",
            "NuSVR - Mean Absolute Error (MAE): 56809.33699241752\n"
          ]
        }
      ],
      "source": [
        "mse_nusvr = mean_squared_error(y_test, y_pred_nusvr)\n",
        "rmse_nusvr = np.sqrt(mse_nusvr)\n",
        "r2_nusvr = r2_score(y_test, y_pred_nusvr)\n",
        "mae_nusvr = mean_absolute_error(y_test, y_pred_nusvr)\n",
        "\n",
        "print('NuSVR - Mean Squared Error (MSE):', mse_nusvr)\n",
        "print('NuSVR - Root Mean Squared Error (RMSE):', rmse_nusvr)\n",
        "print('NuSVR - R-squared (R2):', r2_nusvr)\n",
        "print('NuSVR - Mean Absolute Error (MAE):', mae_nusvr)"
      ]
    },
    {
      "cell_type": "code",
      "execution_count": null,
      "metadata": {
        "colab": {
          "base_uri": "https://localhost:8080/"
        },
        "id": "ccBpwEV-Qquf",
        "outputId": "024f998f-8a66-4fda-d715-c83c0c9a4268"
      },
      "outputs": [
        {
          "output_type": "stream",
          "name": "stdout",
          "text": [
            "[172740.7599204  172574.19901157 172521.44713371 172691.75051944\n",
            " 172498.16951762 172522.54979621 172676.35642975 172550.45586586\n",
            " 172642.84632568 172512.60965919 172613.90415616 172695.50958837\n",
            " 172669.09321389 172501.4781159  172533.28406131 172587.88448499\n",
            " 172644.8114117  172512.933238   172566.30174479 172617.10788312\n",
            " 172587.61575416 172506.0672315  172506.97079158 172559.19821923\n",
            " 172649.25199869 172623.69140309 172582.75454267 172482.18853071\n",
            " 172721.9591434  172529.87367143 172726.1641321  172613.08120325\n",
            " 172515.85490507 172733.68668615 172756.1834031  172560.15584569\n",
            " 172671.26884719 172512.43822798 172683.73509019 172754.36197844\n",
            " 172718.95254833 172539.3821422  172599.30165044 172742.40048112\n",
            " 172756.8669317  172685.49415979 172519.67129681 172502.84261893\n",
            " 172615.91644764 172486.38301042 172759.37796641 172549.20513292\n",
            " 172620.48965499 172488.72970746 172680.43894651 172536.93322915\n",
            " 172523.50334776 172668.2908693  172557.73740862 172490.67529767\n",
            " 172534.43679837 172527.5315981  172558.19300128 172565.07793035\n",
            " 172676.6346919  172644.62384806 172506.63906565 172622.00419494\n",
            " 172537.8903074  172615.55270678 172558.47100587 172525.28269538\n",
            " 172496.86776995 172637.04798474 172497.24811324 172715.49229173\n",
            " 172514.04944448 172492.71439332 172744.85111825 172585.32334134\n",
            " 172532.52675518 172499.53734496 172562.49873383 172542.01748042\n",
            " 172719.17925845 172613.86105628 172586.60524007 172618.49637978\n",
            " 172578.08417117 172533.87605378 172608.57679125 172594.08103349\n",
            " 172563.97899853 172645.40153874 172617.68261098 172574.4538714\n",
            " 172654.62151172 172638.05327983 172510.11640283 172612.24762378\n",
            " 172712.40106599 172579.89594523 172502.54265508 172555.8347182\n",
            " 172494.68618913 172733.44521504 172558.99065095 172511.40491704\n",
            " 172569.84121088 172529.03996339 172483.58359919 172523.46669987\n",
            " 172658.22048099 172525.62392426 172563.2128444  172583.77467283\n",
            " 172741.62679316 172526.45947874 172672.88145633 172710.56820982\n",
            " 172528.87726938 172556.92581882 172535.60547102 172656.23516829\n",
            " 172672.6904696  172646.34999226 172757.2559261  172606.28551825\n",
            " 172591.66138897 172627.20670684 172661.91532253 172627.76485134\n",
            " 172620.87233352 172636.53087945 172498.64808169 172696.29879369\n",
            " 172559.13218115 172617.42596748 172503.33287848 172590.53737725\n",
            " 172544.49119678 172515.23994661 172741.52465874 172540.64891333\n",
            " 172580.52157895 172565.54532936 172665.70504258 172529.03665836\n",
            " 172711.42291205 172651.70797944 172639.10034006 172725.58151547\n",
            " 172725.00752326 172688.6859763  172566.44745544 172748.16390628\n",
            " 172553.18807995 172575.82965114 172536.80712539 172538.30880174\n",
            " 172516.05436098 172576.35530748 172594.74753305 172530.83117782\n",
            " 172701.34800772 172559.54308964 172557.52426176 172749.33814797\n",
            " 172616.50531889 172619.23025672 172643.83174484 172575.18498792\n",
            " 172611.4358446  172563.3307178  172532.64377843 172494.16848956\n",
            " 172534.61557026 172752.110932   172527.15598877 172549.27380792\n",
            " 172732.58663765 172624.87277919 172517.79444646 172723.06897269\n",
            " 172513.62674309 172611.70054069 172490.68823394 172588.31208922\n",
            " 172639.96644545 172506.0672315  172530.82579643 172568.12898565\n",
            " 172662.2050101  172520.71509487 172531.13928844 172539.34901905\n",
            " 172483.40069427 172507.97337663 172617.4648403  172554.36084523\n",
            " 172565.82576682 172582.71664105 172503.65732833 172521.44585858\n",
            " 172607.52655042 172739.84609681 172577.04828092 172745.51784546\n",
            " 172733.12826792 172495.80089242 172561.73754736 172675.66351795\n",
            " 172493.95713969 172488.4282457  172743.06457964 172725.85501905\n",
            " 172631.29402412 172749.7767824  172716.58620529 172482.18853071\n",
            " 172642.36958109 172630.67198873 172555.94246609 172498.76876542\n",
            " 172638.20566994 172709.8522277  172702.8625833  172711.75159346\n",
            " 172541.14382453 172592.62825411 172493.95713969 172521.06533165\n",
            " 172495.80090106 172539.22677323 172648.31485608 172548.83837568\n",
            " 172606.18255152 172495.88539683 172489.84242012 172647.90092328\n",
            " 172526.99481703 172610.72697142 172633.8426173  172641.45878362\n",
            " 172590.532106   172548.25907078 172608.42503069 172589.96391183\n",
            " 172532.52892423 172645.81461477 172612.78025556 172709.30792492\n",
            " 172495.80092516 172752.29684979 172607.85359286 172721.02513005\n",
            " 172489.32935433 172677.53920981 172727.00011774 172627.17233977\n",
            " 172632.41259083 172559.81887472 172632.61194857 172493.30261155\n",
            " 172742.61593652 172719.01008317 172742.71054852 172484.1631959\n",
            " 172659.27498062 172721.54972754 172549.91530551 172687.40474129\n",
            " 172570.8844086  172650.52915794 172626.99052644 172686.81611554\n",
            " 172597.4722799  172597.26394046 172647.38805213 172536.21272112\n",
            " 172518.914551   172753.49411397 172556.97758371 172583.11390018\n",
            " 172609.90000424 172745.26202789 172516.9367533  172700.00642503\n",
            " 172715.77311016 172694.12766867 172481.91382809 172500.15541409\n",
            " 172740.25089989 172502.84261893 172518.18366631 172715.60388328\n",
            " 172695.49973354 172576.92878108 172582.90143787 172557.40606974\n",
            " 172490.34571098 172534.67220602 172591.60208328 172616.13059639\n",
            " 172625.7166719  172618.18989255 172544.65820285 172634.80887582\n",
            " 172561.11347645 172578.77763485 172503.80745146 172530.20021928\n",
            " 172635.70098657 172553.28673785 172544.1471337  172506.0672315\n",
            " 172753.30773629 172543.60501872 172622.17924838 172653.86780159\n",
            " 172529.03081216 172677.24086877 172521.29240364 172741.92981395\n",
            " 172598.49563573 172678.20844471 172527.03933215 172741.46430887\n",
            " 172679.05027521 172558.84269344 172510.39855044 172640.23723615\n",
            " 172622.62498383 172603.13059639 172645.66257838 172549.41927822\n",
            " 172554.50707042 172539.37923889 172534.33062865 172529.79677097\n",
            " 172737.48154579 172575.81293716 172606.36970229 172648.95448778\n",
            " 172582.11077487 172573.6523994  172518.4641827  172494.92807691\n",
            " 172484.43938174 172529.33723007 172632.76247665 172759.41534685\n",
            " 172504.73791121 172486.33210329 172619.17967973 172756.62427027\n",
            " 172757.05322165 172595.33966017 172680.49950743 172719.01360919\n",
            " 172756.22326832 172617.02022032 172661.90084486 172696.22441491\n",
            " 172489.35401487 172703.59916766 172537.54185255 172497.48927308\n",
            " 172615.81747997 172578.68195292 172746.56256636 172507.84284543\n",
            " 172658.60103642 172548.55943217 172549.18149637 172483.48772692\n",
            " 172655.01449967 172681.94460853 172499.81041349 172682.74703727\n",
            " 172557.84218846 172521.7995486  172575.01080356 172560.12336693\n",
            " 172513.20459916 172526.51981231 172548.94462504 172589.95937888\n",
            " 172710.22272021 172730.8269146  172533.29163189 172526.51608504\n",
            " 172713.9999994  172482.22809778 172549.02800489 172561.11341607\n",
            " 172534.73531467 172578.67100209 172579.80403853 172591.89303073\n",
            " 172730.12487783 172671.98940214 172578.02646555 172483.40069427\n",
            " 172548.57938629 172727.36780732 172526.60551232 172741.35050921\n",
            " 172704.39121903 172682.6634403  172555.44945853 172521.27876601\n",
            " 172614.44061358 172636.00786175 172571.68298698 172518.8059715\n",
            " 172642.13176968 172490.49097692 172742.53339037 172554.36084523\n",
            " 172729.73088374 172756.29664409 172505.37524475 172575.4904936\n",
            " 172569.85003495 172506.52696576 172744.77979739 172544.84585762\n",
            " 172628.42427335 172528.11639218 172591.47182239 172631.10332023\n",
            " 172588.53332843 172617.26481904 172675.04348579 172757.01022286\n",
            " 172673.36709485 172748.48366632]\n"
          ]
        }
      ],
      "source": [
        "print(y_pred_nusvr)"
      ]
    },
    {
      "cell_type": "code",
      "source": [
        "filename = 'NuSVR_model.pkl'\n",
        "pickle.dump(y_pred_nusvr, open(filename, 'wb'))"
      ],
      "metadata": {
        "id": "1sLANNklwygQ"
      },
      "execution_count": null,
      "outputs": []
    },
    {
      "cell_type": "markdown",
      "metadata": {
        "id": "M2HBS-JZQvtg"
      },
      "source": [
        "Linear SVR"
      ]
    },
    {
      "cell_type": "code",
      "execution_count": null,
      "metadata": {
        "colab": {
          "base_uri": "https://localhost:8080/"
        },
        "id": "3anmk9yVQsK4",
        "outputId": "e1a87f61-19c1-4d9c-f401-40558201fd90"
      },
      "outputs": [
        {
          "output_type": "stream",
          "name": "stderr",
          "text": [
            "/usr/local/lib/python3.10/dist-packages/sklearn/svm/_base.py:1244: ConvergenceWarning: Liblinear failed to converge, increase the number of iterations.\n",
            "  warnings.warn(\n"
          ]
        }
      ],
      "source": [
        "linear_svr = LinearSVR()\n",
        "linear_svr.fit(X_train, y_train)\n",
        "y_pred_linear_svr = linear_svr.predict(X_test)\n"
      ]
    },
    {
      "cell_type": "code",
      "execution_count": null,
      "metadata": {
        "colab": {
          "base_uri": "https://localhost:8080/"
        },
        "id": "wimdXZK_Qxmv",
        "outputId": "12d921b9-5ea9-4482-8e15-5519a0e435b3"
      },
      "outputs": [
        {
          "output_type": "stream",
          "name": "stdout",
          "text": [
            "LinearSVR - Mean Squared Error (MSE): 2583451578.629578\n",
            "LinearSVR - Root Mean Squared Error (RMSE): 50827.66548474933\n",
            "LinearSVR - R-squared (R2): 0.6194645992567205\n",
            "LinearSVR - Mean Absolute Error (MAE): 28610.50868280209\n"
          ]
        }
      ],
      "source": [
        "mse_lsvr = mean_squared_error(y_test, y_pred_linear_svr)\n",
        "rmse_lsvr = np.sqrt(mse_lsvr)\n",
        "r2_lsvr = r2_score(y_test, y_pred_linear_svr)\n",
        "mae_lsvr = mean_absolute_error(y_test, y_pred_linear_svr)\n",
        "\n",
        "print('LinearSVR - Mean Squared Error (MSE):', mse_lsvr)\n",
        "print('LinearSVR - Root Mean Squared Error (RMSE):', rmse_lsvr)\n",
        "print('LinearSVR - R-squared (R2):', r2_lsvr)\n",
        "print('LinearSVR - Mean Absolute Error (MAE):', mae_lsvr)"
      ]
    },
    {
      "cell_type": "code",
      "execution_count": null,
      "metadata": {
        "colab": {
          "base_uri": "https://localhost:8080/"
        },
        "id": "KZX0mZyXQzhr",
        "outputId": "7250bdc9-d281-4b93-8a55-fbef8142e25c"
      },
      "outputs": [
        {
          "output_type": "stream",
          "name": "stdout",
          "text": [
            "[276853.65463336 142262.91146823 115797.79587349 214867.65025043\n",
            " 101504.92875711 118223.81074492 240044.31533687 138219.2115217\n",
            " 477648.9139626  128560.2661826  177572.71506282 215906.86465553\n",
            " 203332.46311087 103591.34709951 123834.38357951 149650.26066954\n",
            " 191957.46118452 106630.77669029 139867.06383997 162203.67300305\n",
            " 177323.11641111 120556.30167327 123268.46311406 149589.76000512\n",
            " 196098.27362591 181492.24854906 164156.58481298  68368.13275799\n",
            " 265658.42329199 124111.31757252 275276.20581668 173175.63179894\n",
            " 129465.97101537 281019.41448303 309338.89776173 153094.45805876\n",
            " 206549.0533193  126579.69069182 216306.71624841 279912.85562066\n",
            " 220125.29798911 133639.68933434 168664.4313656  290007.56203842\n",
            " 329468.68816059 195272.96325294 137961.98297972 105401.70370585\n",
            " 178185.2877884   60071.99718923 317759.01494854 150516.40146818\n",
            " 187191.50540205  85161.18203939 208931.52135749 163563.86078432\n",
            " 123606.80215906 241055.15647857 153261.25702259  92621.10383101\n",
            " 140298.8794009  121154.8786138  136923.82016492 156825.44784031\n",
            " 205095.01349971 188997.36474539 107450.62069242 190196.43850232\n",
            " 146823.79110318 178244.21979141 153399.69359639 117460.67602737\n",
            "  87439.184417   191846.12059993  96392.76247246 270247.43109547\n",
            " 112454.70864588  87123.52596952 257546.62915524 149145.13943093\n",
            " 146527.40710966 102995.53862612 138146.41615308 152266.80369951\n",
            " 223011.3741059  180355.40879543 206817.86956322 179811.98108467\n",
            " 161937.60644025 124963.05090337 178872.44802843 174593.32690728\n",
            " 154652.62306746 193277.5986255  205382.61446594 145138.69377253\n",
            " 200452.41122113 185045.36060693 124450.07102672 171712.2924828\n",
            " 231237.20536058 165489.62930345  80919.18564984 152020.42889696\n",
            " 106223.5230023  242804.01646421 154855.48562698 111639.69871329\n",
            " 156585.75943135 116757.0954726   72044.66203123 118085.73657604\n",
            " 195003.66014869 134436.05927107 158377.78887227 164728.01575181\n",
            " 361118.1750685  120919.33152283 188262.88154188 283513.81646414\n",
            " 117249.9281308  156831.95118812 145320.43258909 194148.39878506\n",
            " 203060.03191486 191756.89829464 306774.62146462 178870.17645698\n",
            " 172710.88140937 178886.52865641 259941.87957486 222468.05737243\n",
            " 169119.14757421 186641.98032468 101079.59797771 218738.43347707\n",
            " 135251.76614583 182169.53432915 105040.08994231 168885.62173274\n",
            " 129802.19182865 123532.3954676  248929.51972464 144921.51417248\n",
            " 158935.41730922 155839.51359143 223785.20775105 122412.80790661\n",
            " 228196.27180109 195267.68735688 192387.54643848 296395.8970907\n",
            " 241782.54675033 196203.52648084 138063.02760164 277297.01762988\n",
            " 155146.7060087  160248.32499015 120799.00604054 135511.91723848\n",
            " 132059.2660057  163816.59864072 177060.44273525 142262.63772098\n",
            " 258104.98448166 130220.33798098 140177.55043054 300566.39388774\n",
            " 179422.50995097 180194.67642037 207507.82710831 159248.76699706\n",
            " 182971.84133226 158782.02388724 141818.85613859  94368.58717827\n",
            " 122893.93307358 275388.34924153 120582.31880269 149733.99568987\n",
            " 243666.40573421 175518.48251662 129790.32805661 266371.90481037\n",
            " 129248.90431905 176112.37680183  93465.72844691 173619.14435384\n",
            " 213130.79863127 120556.30167327 139337.90603612 137336.98729798\n",
            " 200522.59179091 135415.6409409  137567.70602673 148343.28104403\n",
            "  76376.53411771 101593.91104339 181112.76830887 151037.89393736\n",
            " 136039.11957905 165148.55146838 108291.00341138 112296.19627781\n",
            " 151337.8328641  363511.10254315 147971.85050565 279982.24416867\n",
            " 270847.70253053  92887.68782817 158981.71000005 203740.00001144\n",
            "  83985.37541829  85087.20503706 294411.91043228 233104.53439554\n",
            " 187783.94474977 278813.67396336 267033.83162445  68368.13275799\n",
            " 193294.33800859 188880.13741136 129044.05720295 101654.30105818\n",
            " 184632.96222324 268380.46829859 219578.66828952 222262.78927556\n",
            " 124189.40128781 165667.3208573   83985.37541829 137362.9985404\n",
            "  93238.85131398 128419.62149346 193290.78695152 132752.94364031\n",
            " 154197.24535838  99421.27534974  63393.97919908 192768.29323054\n",
            " 121017.20698046 178069.66830862 187527.53335356 196510.26319249\n",
            " 167251.86254195 148793.22026256 178093.66212521 171194.06066149\n",
            " 120846.36662466 199436.84143621 177587.02293944 285522.5074905\n",
            "  93590.01479979 319687.4455343  178941.41663066 231486.27718456\n",
            "  84356.49328437 230114.56361236 371600.85255973 732792.3052287\n",
            " 187232.83539001 138145.40525301 170776.99588973  77058.10971204\n",
            " 354964.3468914  241933.07687178 294073.67167574  63399.81802469\n",
            " 181970.2945959  265735.987862   131130.29878217 197310.70895721\n",
            " 140990.63273732 188249.65545262 141248.31361598 217737.58618041\n",
            " 166328.50575574 152622.19508581 192038.46955286 127074.40096357\n",
            " 133982.87094461 295844.29484161 136366.7024455  146687.70629249\n",
            " 184186.60138246 264372.88030311 115788.07357144 217401.88439581\n",
            " 366902.86514882 190202.67185784  61544.62546147 102737.65248048\n",
            " 279801.02083909 105401.70370585 128724.17914275 267500.10846554\n",
            " 256274.34976063 159205.05550456 160109.90407236 155030.95201091\n",
            "  91768.53670864 139385.24818754 166477.01084857 177880.37474537\n",
            " 178443.25053525 178236.21295342 146209.06562504 189809.99820707\n",
            " 153286.45199768 163789.83151775  99838.7543392  141819.33172844\n",
            " 186972.08876436 135320.12135346 130984.66901299 120556.30167327\n",
            " 290121.694572   137624.26547018 177536.75482527 187392.69511999\n",
            " 114958.67697823 204483.99586568 118294.51159169 235010.68864057\n",
            " 171265.32850661 214282.59788209 139719.52410982 280218.13967279\n",
            " 220619.94377258 142569.17625936 110571.28195846 186656.79334766\n",
            " 182865.10100229 171995.66244434 196820.57585094 150037.75694839\n",
            " 152915.17796499 142522.18222196 124932.88320143 122214.15273545\n",
            " 286962.98297067 158457.1424259  175037.1125178  192740.77666579\n",
            " 167303.53469717 144971.56417474 115591.41592704  86464.91723904\n",
            "  67048.54886626 142423.06634013 192732.63620166 311122.78960336\n",
            " 106392.73507451  57840.43261993 182226.00868994 314937.5154823\n",
            " 300556.10440455 149875.73250539 209059.18253499 226507.0269601\n",
            " 289625.50394015 172784.33586526 201010.39182449 246899.30518007\n",
            "  86362.62650147 203619.92863601 135647.2289803   97256.90972043\n",
            " 175237.54898266 159746.7161338  338247.75776436 108263.73860952\n",
            " 194608.41285779 132755.37279568 153168.33640788  75064.09544614\n",
            " 198934.04554555 207520.24161255 103442.61781543 219792.88912437\n",
            " 155239.79687588 114805.53864914 143255.56275778 141816.2350688\n",
            " 114064.60719783 117737.71390325 152547.82088741 175145.48825841\n",
            " 266381.30216501 368257.6210788  124929.70463794 115028.2734027\n",
            " 216325.86441278  61670.17656558 132387.15535193 152935.28851186\n",
            " 145382.99822631 167721.60884329 145278.08457867 166007.27800354\n",
            " 278475.71176314 206885.18737292 144746.88925141  76376.53411771\n",
            " 136080.37761279 287295.36457015 119488.70419415 256768.91105127\n",
            " 270968.30003238 254737.04557767 135726.5919362  117691.2074829\n",
            " 177093.84809598 144845.769707   114936.62320657 135642.65390736\n",
            " 182739.09190548  93018.6492576  256682.43210909 151037.89393736\n",
            " 249171.15289031 311621.91867805 107661.71457709 161018.56450742\n",
            " 160227.03480833 111730.63677563 273513.95678774 153509.91704421\n",
            " 177487.22241439 123042.95767206 167390.52045908 190941.77544371\n",
            " 205685.11763711 178078.24749744 200705.36307297 316783.75562779\n",
            " 206314.09170812 340210.19832569]\n"
          ]
        }
      ],
      "source": [
        "print(y_pred_linear_svr)"
      ]
    },
    {
      "cell_type": "code",
      "source": [
        "filename = 'linear_svr_model.pkl'\n",
        "pickle.dump(y_pred_linear_svr, open(filename, 'wb'))"
      ],
      "metadata": {
        "id": "gjUAfMiYw19S"
      },
      "execution_count": null,
      "outputs": []
    },
    {
      "cell_type": "markdown",
      "metadata": {
        "id": "CgndY7t7RxvA"
      },
      "source": [
        "Extra Tree"
      ]
    },
    {
      "cell_type": "code",
      "execution_count": null,
      "metadata": {
        "id": "OTY6b0TnQ3yD"
      },
      "outputs": [],
      "source": [
        "extra_trees = ExtraTreesRegressor()\n",
        "extra_trees.fit(X_train, y_train)\n",
        "y_pred_extra_trees = extra_trees.predict(X_test)"
      ]
    },
    {
      "cell_type": "code",
      "execution_count": null,
      "metadata": {
        "colab": {
          "base_uri": "https://localhost:8080/"
        },
        "id": "aklJse87RzR8",
        "outputId": "ef93add4-d846-4c42-c03d-540a79ecf68c"
      },
      "outputs": [
        {
          "output_type": "stream",
          "name": "stdout",
          "text": [
            "Extra Trees - Mean Squared Error (MSE): 988526973.2864062\n",
            "Extra Trees - Root Mean Squared Error (RMSE): 31440.848800348984\n",
            "Extra Trees - R-squared (R2): 0.8543926617255868\n",
            "Extra Trees - Mean Absolute Error (MAE): 21470.609940204395\n"
          ]
        }
      ],
      "source": [
        "mse_et = mean_squared_error(y_test, y_pred_extra_trees)\n",
        "rmse_et = np.sqrt(mse_et)\n",
        "r2_et = r2_score(y_test, y_pred_extra_trees)\n",
        "mae_et = mean_absolute_error(y_test, y_pred_extra_trees)\n",
        "\n",
        "print('Extra Trees - Mean Squared Error (MSE):', mse_et)\n",
        "print('Extra Trees - Root Mean Squared Error (RMSE):', rmse_et)\n",
        "print('Extra Trees - R-squared (R2):', r2_et)\n",
        "print('Extra Trees - Mean Absolute Error (MAE):', mae_et)"
      ]
    },
    {
      "cell_type": "code",
      "execution_count": null,
      "metadata": {
        "colab": {
          "base_uri": "https://localhost:8080/"
        },
        "id": "hiM2U94hR2fT",
        "outputId": "cb25fac9-0f6a-4795-d3c7-424a454c286e"
      },
      "outputs": [
        {
          "output_type": "stream",
          "name": "stdout",
          "text": [
            "[246876.         144782.         117781.34       227827.2\n",
            "  95434.16666667 125787.         241814.93       137017.83\n",
            " 695080.         134181.40285714 206657.61       156261.5\n",
            " 225157.55       129010.         146357.54       150989.\n",
            " 204521.56       110911.5        145206.         173467.98\n",
            " 147820.24       140714.28571429 126958.72       160609.5\n",
            " 189666.78       201936.         171673.49        75500.\n",
            " 332669.81       116435.83       156325.98       185097.15\n",
            " 139315.57142857 303907.47       360441.94       183307.1\n",
            " 264795.26       133985.         228912.         305835.\n",
            " 200789.4        136749.44       178854.78       279841.05\n",
            " 353301.72       160689.         131590.         120556.\n",
            " 180439.          86788.11       438732.53       146929.5\n",
            " 173335.          54536.         229666.15       108732.5\n",
            " 139157.38285714 236395.12       154603.         116907.\n",
            " 149812.5        131945.         139273.85       150736.5\n",
            " 181874.         188306.82       114415.         207758.78\n",
            " 122497.         183800.35       167374.6        115527.75\n",
            "  98086.79       223895.37        83965.83333333 293264.65\n",
            " 123072.         115550.         258988.66       143603.\n",
            " 137039.         134078.         137318.02       153375.\n",
            " 179801.         214309.94        96350.78       202500.\n",
            " 165962.4        147968.75       183217.         184342.5\n",
            " 173431.05       214795.34       188387.28       138273.\n",
            " 201532.6        169053.24       131178.14285714 146025.\n",
            " 262039.64       191398.09       110432.49333333 163950.99\n",
            "  96654.         282940.25       143691.87       120174.54\n",
            " 178055.         116058.82        93599.11       119687.02\n",
            " 181658.         128399.5        170554.35       170293.49\n",
            " 484336.12       133372.         154017.         256930.\n",
            " 125845.25       167605.1        152073.         209710.9\n",
            " 219411.6        202820.         423077.08       197693.2\n",
            " 181003.3        179169.32       225508.44       202961.1\n",
            " 166973.         178329.5        102711.42666667 236558.14\n",
            " 122720.84       229330.84       109642.5        169899.\n",
            " 145956.75        88910.75       232775.4        142498.5\n",
            " 121396.         174463.6        244951.25       138205.\n",
            " 310120.64       209445.         176272.         346160.57\n",
            " 319898.42       161756.5        175652.         249337.2\n",
            " 128906.12       191034.          89727.         167052.9\n",
            " 111250.         153153.14       206382.5         96079.82\n",
            " 258624.83       126603.44       133235.13       302983.85\n",
            " 224000.         178729.         186095.3        153628.32\n",
            " 182301.42       152135.         145702.5         96732.52666667\n",
            " 126943.         251911.         126264.73       146338.5\n",
            " 266459.57       189015.35       132127.75428571 317928.38\n",
            " 119778.         189350.          92797.25       198141.\n",
            " 207375.45       140714.28571429 143132.         147264.\n",
            " 233785.         135111.         133167.11       145300.5\n",
            "  94556.44333333 137327.         188872.5        139328.22\n",
            " 151368.5        181246.         117438.5         89887.5\n",
            " 143156.09       214932.52       143630.45       348837.77\n",
            " 283502.98        69590.         158638.         282926.61\n",
            "  93500.          97559.         371655.1        179119.\n",
            " 208028.6        240061.9        297856.12        75500.\n",
            " 211818.86       171175.         147502.75       129807.\n",
            " 192360.78       238718.87       253073.         207283.7\n",
            " 126227.         179854.85        93500.         136148.62285714\n",
            "  92538.         142174.         203537.75       127373.\n",
            " 144964.7        130551.          80061.91666667 193509.\n",
            " 126025.16       184324.5        197655.5        209203.06\n",
            " 166554.32       173692.55       229637.         173025.85\n",
            " 123188.64       194588.92       171998.         253582.3\n",
            "  98000.         470578.35       242826.85       272295.8\n",
            "  93544.         189066.2        381868.08       272919.94\n",
            " 210625.4        121471.38       144976.87        73187.\n",
            " 440886.89       353487.6        290619.          85888.26\n",
            " 185934.07       310596.08       118629.52       229312.99\n",
            " 135074.15       172726.82       147738.87       224485.\n",
            " 201119.         171014.87       228521.45       109991.75\n",
            " 127695.         369564.9        127754.02       145061.\n",
            " 207009.         188458.5        113000.         283236.\n",
            " 468115.62       179342.          72268.          95515.\n",
            " 333145.         120556.         128297.5        291834.73\n",
            " 237120.08       171854.99       163967.96       168740.6\n",
            "  84979.04       138529.89142857 174309.9        163620.\n",
            " 175741.2        163998.44       142452.5        163149.\n",
            " 183373.45       178707.95       108775.33       164500.\n",
            " 197509.         121446.27       119705.84       140714.28571429\n",
            " 327102.97       124533.26       185734.96       203147.6\n",
            " 118835.75       280069.61       136071.5        227934.18\n",
            " 152273.93       242586.76       139020.5        336637.1\n",
            " 185008.         135217.12       118198.         217510.8\n",
            " 176173.5        180827.74       175773.5        148812.25\n",
            " 135245.51       176372.         143225.52       147839.5\n",
            " 354977.58       166051.8        195761.         229757.95\n",
            " 167083.         146876.14       114702.8         99822.86\n",
            " 100614.25       135666.5        200386.5        394567.41\n",
            " 114760.         106745.         161932.         421200.34\n",
            " 323419.44       139253.71       259889.35       215758.\n",
            " 374035.41       169625.5        241223.4        257748.79\n",
            "  98925.         182387.         169648.3         85281.95666667\n",
            " 156151.85       163214.14       490125.23       100071.04\n",
            " 152253.         137138.75       143917.5         59380.\n",
            " 192358.5        373320.          95979.65       245619.69\n",
            " 150476.45       101468.71666667 141301.5        138871.75\n",
            " 122967.5        110471.52       132178.         213872.\n",
            " 232807.91       402173.2        142946.75       120458.75\n",
            " 211923.7         71790.33       136172.75       167220.5\n",
            " 162628.28       176817.         110980.34       173180.\n",
            " 335534.93       233273.8        147937.44        94556.44333333\n",
            " 150532.         242274.82       102995.45666667 295112.11\n",
            " 241596.04       250618.07       130358.91       122040.08\n",
            " 178210.71       145021.02       142098.68       122134.5\n",
            " 174307.4         89475.         249808.4        139328.22\n",
            " 272882.27       399603.35       111619.8        146000.\n",
            " 151142.6        109163.43       263029.8        121664.42\n",
            " 202859.19       128363.         136125.         198282.5\n",
            " 147461.5        198867.51       181398.         377445.52\n",
            " 221934.8        472873.15      ]\n"
          ]
        }
      ],
      "source": [
        "print(y_pred_extra_trees)"
      ]
    },
    {
      "cell_type": "code",
      "source": [
        "filename = 'extra_tree_model.pkl'\n",
        "pickle.dump(y_pred_extra_trees, open(filename, 'wb'))"
      ],
      "metadata": {
        "id": "BhIRWKPJw5lV"
      },
      "execution_count": null,
      "outputs": []
    },
    {
      "cell_type": "markdown",
      "metadata": {
        "id": "xk0R8pjjSJ1D"
      },
      "source": [
        "AdaBoost"
      ]
    },
    {
      "cell_type": "code",
      "execution_count": null,
      "metadata": {
        "id": "-sUsf7KQR5bI"
      },
      "outputs": [],
      "source": [
        "adaboost = AdaBoostRegressor()\n",
        "adaboost.fit(X_train, y_train)\n",
        "y_pred_adaboost = adaboost.predict(X_test)"
      ]
    },
    {
      "cell_type": "code",
      "execution_count": null,
      "metadata": {
        "colab": {
          "base_uri": "https://localhost:8080/"
        },
        "id": "2DAXBR3ZSN78",
        "outputId": "10dcaeb3-a022-4da2-9167-cf50d23a63c2"
      },
      "outputs": [
        {
          "output_type": "stream",
          "name": "stdout",
          "text": [
            "AdaBoost - Mean Squared Error (MSE): 1199171853.0129013\n",
            "AdaBoost - Root Mean Squared Error (RMSE): 34629.06081621189\n",
            "AdaBoost - R-squared (R2): 0.8233652430643235\n",
            "AdaBoost - Mean Absolute Error (MAE): 24162.506340703734\n"
          ]
        }
      ],
      "source": [
        "mse_ab = mean_squared_error(y_test, y_pred_adaboost)\n",
        "rmse_ab = np.sqrt(mse_ab)\n",
        "r2_ab = r2_score(y_test, y_pred_adaboost)\n",
        "mae_ab = mean_absolute_error(y_test, y_pred_adaboost)\n",
        "\n",
        "print('AdaBoost - Mean Squared Error (MSE):', mse_ab)\n",
        "print('AdaBoost - Root Mean Squared Error (RMSE):', rmse_ab)\n",
        "print('AdaBoost - R-squared (R2):', r2_ab)\n",
        "print('AdaBoost - Mean Absolute Error (MAE):', mae_ab)"
      ]
    },
    {
      "cell_type": "code",
      "execution_count": null,
      "metadata": {
        "colab": {
          "base_uri": "https://localhost:8080/"
        },
        "id": "CS9ZletkSPYM",
        "outputId": "c672eddb-2b31-4e0b-b740-6d2b31a903fc"
      },
      "outputs": [
        {
          "output_type": "stream",
          "name": "stdout",
          "text": [
            "[268651.0729927  149163.03040541 112319.19730942 227595.59583333\n",
            " 118879.90625    118194.73076923 227595.59583333 139688.63\n",
            " 673628.37837838 193355.38043478 202101.46938776 204655.71428571\n",
            " 220085.08429119 112319.19730942 135661.69753086 144901.04854369\n",
            " 202101.46938776 112319.19730942 121445.04494382 194473.23837209\n",
            " 146708.49122807 130642.32333333 119744.61111111 146708.49122807\n",
            " 183808.34901961 208034.62325581 173258.34230769 109378.4591195\n",
            " 316295.28       118194.73076923 204655.71428571 194473.23837209\n",
            " 135661.69753086 268651.0729927  316743.5        188597.12403101\n",
            " 312397.70588235 120301.41958042 225703.35078534 311930.86341463\n",
            " 204655.71428571 120301.41958042 198784.50241546 274949.36111111\n",
            " 316743.5        190555.17241379 119744.61111111 112319.19730942\n",
            " 175852.5258216  109378.4591195  459941.42857143 130642.32333333\n",
            " 175852.5258216  109378.4591195  230219.24736842 120301.41958042\n",
            " 118194.73076923 208034.62325581 130642.32333333 109378.4591195\n",
            " 135661.69753086 120301.41958042 121445.04494382 135661.69753086\n",
            " 204655.71428571 194879.18965517 112319.19730942 194473.23837209\n",
            " 120301.41958042 198620.28571429 193355.38043478 120301.41958042\n",
            " 112246.40408163 218204.76190476 112246.40408163 272643.609538\n",
            " 112319.19730942 109378.4591195  272643.609538   155088.98219585\n",
            " 120301.41958042 112319.19730942 121445.04494382 120301.41958042\n",
            " 266553.04878049 202101.46938776 120301.41958042 202101.46938776\n",
            " 168222.48484848 135661.69753086 173258.34230769 173258.34230769\n",
            " 149163.03040541 202101.46938776 193355.38043478 146708.49122807\n",
            " 223732.35064935 175852.5258216  120301.41958042 129465.53571429\n",
            " 246235.58808933 194879.18965517 109446.952      149163.03040541\n",
            " 120301.41958042 305554.55913978 130642.32333333 112319.19730942\n",
            " 156627.70642202 121002.02808989 109378.4591195  120301.41958042\n",
            " 189123.27083333 118879.90625    193355.38043478 173258.34230769\n",
            " 462435.21276596 120301.41958042 192801.53781513 227595.59583333\n",
            " 146708.49122807 193355.38043478 120301.41958042 208034.62325581\n",
            " 230219.24736842 223732.35064935 458454.45       202101.46938776\n",
            " 193355.38043478 183808.34901961 198620.28571429 193355.38043478\n",
            " 155088.98219585 189123.27083333 112319.19730942 246235.58808933\n",
            " 146708.49122807 202101.46938776 112319.19730942 173258.34230769\n",
            " 144901.04854369 119744.61111111 266553.04878049 130642.32333333\n",
            " 135661.69753086 149163.03040541 227595.59583333 120301.41958042\n",
            " 316295.28       223732.35064935 183808.34901961 317866.43654822\n",
            " 316295.28       188618.93939394 194473.23837209 272643.609538\n",
            " 121002.02808989 194473.23837209 120301.41958042 188597.12403101\n",
            " 120301.41958042 135661.69753086 194473.23837209 120301.41958042\n",
            " 263513.03496503 121445.04494382 121445.04494382 265963.77862595\n",
            " 202101.46938776 175852.5258216  175852.5258216  156627.70642202\n",
            " 175852.5258216  156627.70642202 120301.41958042 109378.4591195\n",
            " 120301.41958042 265963.77862595 121002.02808989 149163.03040541\n",
            " 274949.36111111 198620.28571429 135661.69753086 272643.609538\n",
            " 120301.41958042 173258.34230769 112319.19730942 193355.38043478\n",
            " 202101.46938776 130642.32333333 120301.41958042 146708.49122807\n",
            " 227595.59583333 120301.41958042 120301.41958042 135661.69753086\n",
            " 109378.4591195  120301.41958042 175852.5258216  130642.32333333\n",
            " 121445.04494382 202101.46938776 112246.40408163 120301.41958042\n",
            " 144901.04854369 265963.77862595 146708.49122807 316295.28\n",
            " 268651.0729927  112319.19730942 130642.32333333 269386.21518987\n",
            " 112246.40408163 109378.4591195  317866.43654822 204655.71428571\n",
            " 208034.62325581 269386.21518987 272643.609538   109378.4591195\n",
            " 208034.62325581 175852.5258216  146708.49122807 112319.19730942\n",
            " 208034.62325581 227595.59583333 272643.609538   220085.08429119\n",
            " 120301.41958042 194473.23837209 112246.40408163 193355.38043478\n",
            " 112319.19730942 120301.41958042 202101.46938776 146708.49122807\n",
            " 139688.63       112246.40408163 109446.952      194879.18965517\n",
            " 112319.19730942 173258.34230769 202101.46938776 202101.46938776\n",
            " 168222.48484848 202101.46938776 202101.46938776 194473.23837209\n",
            " 112319.19730942 208034.62325581 175852.5258216  227595.59583333\n",
            " 112319.19730942 501383.67088608 208034.62325581 263513.03496503\n",
            " 109378.4591195  223732.35064935 338163.32142857 184750.\n",
            " 208034.62325581 121445.04494382 144901.04854369 109378.4591195\n",
            " 458454.45       316295.28       317866.43654822 109378.4591195\n",
            " 225703.35078534 272643.609538   121445.04494382 247560.81914894\n",
            " 121445.04494382 194879.18965517 156627.70642202 227595.59583333\n",
            " 202101.46938776 188597.12403101 208034.62325581 118194.73076923\n",
            " 120301.41958042 375723.81081081 146708.49122807 121445.04494382\n",
            " 202101.46938776 266553.04878049 120301.41958042 272643.609538\n",
            " 465011.7        204655.71428571 109378.4591195  112246.40408163\n",
            " 317866.43654822 112319.19730942 120301.41958042 272643.609538\n",
            " 227595.59583333 188597.12403101 168222.48484848 193355.38043478\n",
            " 109378.4591195  135661.69753086 193355.38043478 175852.5258216\n",
            " 183808.34901961 175852.5258216  121002.02808989 173258.34230769\n",
            " 188597.12403101 193355.38043478 112246.40408163 135661.69753086\n",
            " 202101.46938776 120301.41958042 120301.41958042 130642.32333333\n",
            " 305735.13761468 121002.02808989 202101.46938776 183808.34901961\n",
            " 135661.69753086 269386.21518987 120301.41958042 263513.03496503\n",
            " 135661.69753086 223042.22675737 120301.41958042 317866.43654822\n",
            " 194879.18965517 121445.04494382 112319.19730942 208034.62325581\n",
            " 175852.5258216  202101.46938776 189123.27083333 130642.32333333\n",
            " 130642.32333333 202101.46938776 139688.63       120301.41958042\n",
            " 316295.28       156627.70642202 194473.23837209 208034.62325581\n",
            " 168222.48484848 121445.04494382 112319.19730942 112246.40408163\n",
            " 109378.4591195  120301.41958042 202101.46938776 458454.45\n",
            " 112319.19730942 109378.4591195  175852.5258216  441718.13793103\n",
            " 305735.13761468 129465.53571429 269386.21518987 220085.08429119\n",
            " 458454.45       175852.5258216  227595.59583333 263513.03496503\n",
            " 109727.37254902 188618.93939394 188597.12403101 112246.40408163\n",
            " 144901.04854369 168222.48484848 471683.82352941 112319.19730942\n",
            " 156627.70642202 120301.41958042 149163.03040541 109378.4591195\n",
            " 194879.18965517 284726.78481013 112319.19730942 263513.03496503\n",
            " 149163.03040541 119744.61111111 121445.04494382 149163.03040541\n",
            " 112319.19730942 120301.41958042 130642.32333333 194473.23837209\n",
            " 246235.58808933 317866.43654822 120301.41958042 118194.73076923\n",
            " 204655.71428571 109378.4591195  120301.41958042 149163.03040541\n",
            " 193355.38043478 168222.48484848 121445.04494382 168222.48484848\n",
            " 316295.28       227595.59583333 121445.04494382 109378.4591195\n",
            " 146708.49122807 230219.24736842 112319.19730942 305735.13761468\n",
            " 208034.62325581 223042.22675737 120301.41958042 112319.19730942\n",
            " 198620.28571429 144901.04854369 149163.03040541 120301.41958042\n",
            " 202101.46938776 112319.19730942 272643.609538   130642.32333333\n",
            " 268651.0729927  390212.88888889 112319.19730942 168222.48484848\n",
            " 135661.69753086 118194.73076923 293200.90909091 120301.41958042\n",
            " 198620.28571429 120301.41958042 155088.98219585 202101.46938776\n",
            " 135661.69753086 208034.62325581 204655.71428571 316743.5\n",
            " 230219.24736842 462435.21276596]\n"
          ]
        }
      ],
      "source": [
        "print(y_pred_adaboost)"
      ]
    },
    {
      "cell_type": "code",
      "source": [
        "filename = 'adaboost_model.pkl'\n",
        "pickle.dump(y_pred_adaboost, open(filename, 'wb'))"
      ],
      "metadata": {
        "id": "18a5hD9Qw91h"
      },
      "execution_count": null,
      "outputs": []
    },
    {
      "cell_type": "markdown",
      "metadata": {
        "id": "H5SKVoN0STNH"
      },
      "source": [
        "MLP"
      ]
    },
    {
      "cell_type": "code",
      "execution_count": null,
      "metadata": {
        "colab": {
          "base_uri": "https://localhost:8080/"
        },
        "id": "2ysPtWeOSSKU",
        "outputId": "95834fbb-3bb9-46cd-8837-8f734e37f6ea"
      },
      "outputs": [
        {
          "output_type": "stream",
          "name": "stderr",
          "text": [
            "/usr/local/lib/python3.10/dist-packages/sklearn/neural_network/_multilayer_perceptron.py:686: ConvergenceWarning: Stochastic Optimizer: Maximum iterations (200) reached and the optimization hasn't converged yet.\n",
            "  warnings.warn(\n"
          ]
        }
      ],
      "source": [
        "mlp = MLPRegressor()\n",
        "mlp.fit(X_train, y_train)\n",
        "y_pred_mlp = mlp.predict(X_test)"
      ]
    },
    {
      "cell_type": "code",
      "execution_count": null,
      "metadata": {
        "colab": {
          "base_uri": "https://localhost:8080/"
        },
        "id": "xyWHSkx1SVS9",
        "outputId": "8b49c295-29af-4159-bf64-50afd5d5a38e"
      },
      "outputs": [
        {
          "output_type": "stream",
          "name": "stdout",
          "text": [
            "MLP - Mean Squared Error (MSE): 2735272307.515042\n",
            "MLP - Root Mean Squared Error (RMSE): 52299.83085551082\n",
            "MLP - R-squared (R2): 0.5971018182448877\n",
            "MLP - Mean Absolute Error (MAE): 29230.92024584914\n"
          ]
        }
      ],
      "source": [
        "mse_mlp = mean_squared_error(y_test, y_pred_mlp)\n",
        "rmse_mlp = np.sqrt(mse_mlp)\n",
        "r2_mlp = r2_score(y_test, y_pred_mlp)\n",
        "mae_mlp = mean_absolute_error(y_test, y_pred_mlp)\n",
        "\n",
        "print('MLP - Mean Squared Error (MSE):', mse_mlp)\n",
        "print('MLP - Root Mean Squared Error (RMSE):', rmse_mlp)\n",
        "print('MLP - R-squared (R2):', r2_mlp)\n",
        "print('MLP - Mean Absolute Error (MAE):', mae_mlp)"
      ]
    },
    {
      "cell_type": "code",
      "source": [
        "filename = 'mlp_model.pkl'\n",
        "pickle.dump(y_pred_mlp, open(filename, 'wb'))"
      ],
      "metadata": {
        "id": "5NToSOoHxB0W"
      },
      "execution_count": null,
      "outputs": []
    },
    {
      "cell_type": "markdown",
      "metadata": {
        "id": "Nf1sAjb6UADr"
      },
      "source": [
        "Voting Regressor"
      ]
    },
    {
      "cell_type": "code",
      "execution_count": null,
      "metadata": {
        "id": "n27W36HJSYjQ"
      },
      "outputs": [],
      "source": [
        "from sklearn.ensemble import VotingRegressor, StackingRegressor\n",
        "from sklearn.neighbors import KNeighborsRegressor\n",
        "from sklearn.gaussian_process import GaussianProcessRegressor"
      ]
    },
    {
      "cell_type": "code",
      "execution_count": null,
      "metadata": {
        "id": "HsTmPlJ3UCd2"
      },
      "outputs": [],
      "source": [
        "voting_regressor = VotingRegressor(estimators=[('lr', model), ('dt', dt_regressor)])\n",
        "voting_regressor.fit(X_train, y_train)\n",
        "y_pred_voting = voting_regressor.predict(X_test)"
      ]
    },
    {
      "cell_type": "code",
      "execution_count": null,
      "metadata": {
        "colab": {
          "base_uri": "https://localhost:8080/"
        },
        "id": "gE88cuGnUFJH",
        "outputId": "aa7af08c-195e-4e43-e8df-d7ebfe54dd5a"
      },
      "outputs": [
        {
          "output_type": "stream",
          "name": "stdout",
          "text": [
            "Voting Regressor - Mean Squared Error (MSE): 1354221975.8184566\n",
            "Voting Regressor - Root Mean Squared Error (RMSE): 36799.75510541417\n",
            "Voting Regressor - R-squared (R2): 0.8005267810992631\n",
            "Voting Regressor - Mean Absolute Error (MAE): 24037.314109400202\n"
          ]
        }
      ],
      "source": [
        "mse_voting = mean_squared_error(y_test, y_pred_voting)\n",
        "rmse_voting = np.sqrt(mse_voting)\n",
        "r2_voting = r2_score(y_test, y_pred_voting)\n",
        "mae_voting = mean_absolute_error(y_test, y_pred_voting)\n",
        "\n",
        "print('Voting Regressor - Mean Squared Error (MSE):', mse_voting)\n",
        "print('Voting Regressor - Root Mean Squared Error (RMSE):', rmse_voting)\n",
        "print('Voting Regressor - R-squared (R2):', r2_voting)\n",
        "print('Voting Regressor - Mean Absolute Error (MAE):', mae_voting)"
      ]
    },
    {
      "cell_type": "code",
      "execution_count": null,
      "metadata": {
        "colab": {
          "base_uri": "https://localhost:8080/"
        },
        "id": "TuWpwFPcUOeP",
        "outputId": "ebe28ce4-41ae-4906-829e-a0884cd666c3"
      },
      "outputs": [
        {
          "output_type": "stream",
          "name": "stdout",
          "text": [
            "[261563.04385292 148254.84979474 129664.29851486 224865.84561439\n",
            " 103050.38566714 126509.5376694  221211.34223913 125918.00104947\n",
            " 625216.78494264 107226.69259851 190916.31984975 162098.68442031\n",
            " 203820.57026733 117188.15726119 142469.54101503 143448.98294148\n",
            " 202411.79807793 100572.09689792 149378.47026466 156915.43285918\n",
            " 153654.69199085 137180.3968517  125663.95763523 144355.67660729\n",
            " 202479.38484059 224780.41259038 166408.08202105  68634.46573652\n",
            " 324447.42931974 125821.25416495 211884.58811361 236103.59163111\n",
            " 137876.2401037  291473.42170716 315476.09233781 183615.46403012\n",
            " 266303.22373285 123736.46835856 230919.14988316 287906.18529835\n",
            " 207828.94252434 146360.60647284 185764.33022674 340723.16348962\n",
            " 309879.85082277 151737.75400161 114641.15237568 102611.77991658\n",
            " 184239.81393152  70765.08338974 397250.21986708 140339.48221453\n",
            " 172226.08341464  65269.59274624 224134.31031096 118228.09028247\n",
            " 142364.35303804 249663.64407196 146601.631376   102413.22560331\n",
            " 147148.15938242 128431.11896616 144793.01392722 147547.31472525\n",
            " 186020.25257057 188298.03052284 113483.25620604 211014.09866138\n",
            " 119538.59621116 191350.09661068 178141.80377938 115094.60670427\n",
            "  51854.19544707 230269.89953473  80867.37729416 332647.6900605\n",
            " 110242.04845054 111568.14829921 260292.14560498 166437.66242291\n",
            " 139090.52399286 118234.54397991 139120.72936733 145943.66866706\n",
            " 201625.5377447  208553.23353906 130535.62223035 203053.15589985\n",
            " 169383.23216129 141128.57321163 176882.142336   186185.44014035\n",
            " 171095.47501783 209654.09420021 199476.85972741 154578.93245715\n",
            " 242766.56054217 185432.6071958  116959.35256217 152697.54379623\n",
            " 273160.63354542 221627.39016428 110403.04696234 167613.89673242\n",
            "  97778.38921803 303539.80681826 132177.05147116 106677.70670332\n",
            " 171346.14420684 138932.59108686  94003.22756918 100652.25061326\n",
            " 178703.09954375 131107.77669783 192462.82053097 171280.90653235\n",
            " 423751.04179152 128473.98588759 217526.75980537 274976.37614062\n",
            " 125864.41340207 172787.12299445 143486.41517953 201792.03229657\n",
            " 221342.63960997 211709.95005687 374085.93822528 198332.55271921\n",
            " 195770.50322217 165511.29920297 236338.42215905 215485.32461984\n",
            " 164078.55352045 166734.63889552 105084.27442174 237518.79177594\n",
            " 121324.23849097 209265.76257626  91703.04524326 168423.83577056\n",
            " 143915.83064999 121367.81353721 250065.28114331 141666.71836393\n",
            " 111207.99012549 171547.48117348 215074.06083234 129066.20748812\n",
            " 307484.40359525 241006.37875484 183414.39657651 336257.51381546\n",
            " 336862.41372627 168755.36274226 144005.0650266  267538.81575523\n",
            " 129385.4111472  207945.83735344 105527.21105524 168935.52298466\n",
            " 104762.5655408  151730.0248325  205551.33896683  99820.9338505\n",
            " 259112.15434035 115675.96967689 159406.73160959 336968.37538456\n",
            " 213604.3983657  185183.32899693 179781.35738964 165975.32872826\n",
            " 184116.41093353 149135.33322726 142253.96318936 105438.50251658\n",
            " 122556.21948757 251692.18628388 148541.4184042  150961.75407889\n",
            " 270066.91118957 200946.0200111  140338.50228687 304082.63779105\n",
            " 108379.89828812 145232.64372424 104599.58467183 196473.95031562\n",
            " 183576.05566474 137180.3968517  141393.07670338 153629.09680259\n",
            " 226761.89961174 123176.41661227 131528.40985404 152059.41871283\n",
            "  86425.89987972 135500.14670015 182485.38493893 140173.3395605\n",
            " 144621.62730379 196645.14468651 117880.9642591   99791.07079716\n",
            " 164402.87200594 241883.3265627  155192.75273472 334989.83572639\n",
            " 288922.15371161  68291.28975349 148571.89008526 319619.35580412\n",
            "  72269.93142949 103385.42197128 330134.83376611 179368.86437241\n",
            " 218789.59285047 270162.24325236 291741.89019984  68634.46573652\n",
            " 232781.31851434 181726.36372005 144826.08215386 116175.85827686\n",
            " 201035.05732425 271632.39483607 258583.2055019  205153.16329479\n",
            " 121378.23329069 181430.76004685  72269.93142949 148529.96668774\n",
            "  85081.42599143 132327.9762224  209964.49119999 141248.49578208\n",
            " 143915.57300523 115019.35510843  86724.67870269 164375.28651225\n",
            " 121783.20809514 178708.94831894 207624.29976177 202211.10548557\n",
            " 174028.0698226  180117.28551902 222487.44191552 184825.92800902\n",
            " 113282.21128153 198899.08331678 179588.55854669 275797.11448785\n",
            " 101121.56222936 476427.60969616 222122.4227309  290305.06249565\n",
            "  92926.39507678 237042.1898804  388845.52525034 438658.97119899\n",
            " 227189.17389371 109595.58623061 169117.11345171  64479.05839411\n",
            " 403414.86173955 311229.04477144 296624.18351732  81336.63322609\n",
            " 238462.01608224 303810.75444869 130043.49228674 209975.48428506\n",
            " 115489.50024313 203375.96938578 173806.50823066 231644.65351525\n",
            " 221883.57363552 160850.63346328 213902.31519377 123135.90703365\n",
            " 122416.18038006 357318.01582444 120255.72988347 139135.35185279\n",
            " 200160.6054296  184969.68389141 122965.01085999 242115.03152034\n",
            " 437428.85647158 169040.74563701  67581.73943369  92951.19348127\n",
            " 324515.48950201 102611.77991658 131637.18747305 342291.18775166\n",
            " 245848.43514797 181643.49918961 170141.87699566 178596.27452053\n",
            "  76364.18747407 135303.67305386 184223.16490765 173169.74514521\n",
            " 183560.94413592 173399.27524289 138972.3033952  144850.78134527\n",
            " 183686.95427066 185319.92638552 114382.92886281 155662.5819847\n",
            " 202039.49700966 131470.15331997 122402.92370815 137180.3968517\n",
            " 320709.25850599 124449.09231738 196403.57441984 204160.83534204\n",
            " 132355.09909827 319924.3930767  143743.9730352  262604.55981869\n",
            " 162129.55586519 232316.89339286 136934.94407831 350425.26162896\n",
            " 215464.02252813 130521.14181751 114372.01143713 213853.35183523\n",
            " 168875.20379663 225731.33073853 185079.54037398 140201.85098349\n",
            " 128098.19541316 186666.67593302 162066.2094647  114187.98319271\n",
            " 327136.57515531 164932.88118517 205752.18847608 214159.5881864\n",
            " 162447.21113212 142987.75653629 106736.88360399 106299.17923144\n",
            "  94529.77601734 137689.08927906 210081.44015183 394331.37439041\n",
            " 110683.9400538   91705.48764857 172090.17622055 387999.70417006\n",
            " 323860.09427107 170558.03165276 243005.60018107 192932.18563617\n",
            " 399283.1512341  171921.59531527 226817.67314368 259738.37723825\n",
            " 108658.34300999 171812.87229073 168891.33882045  80985.15356946\n",
            " 156967.65830271 170020.97756812 402132.93608569 100559.25139486\n",
            " 169828.14799743 142636.03488322 145584.57463608  51079.80118977\n",
            " 202889.33249419 320593.45600941 123587.43921426 250512.96522435\n",
            " 142974.94937947  86565.26267077 130674.54446159 122238.19396194\n",
            " 103146.57613084  90293.80638105 134449.6343989  204716.62163775\n",
            " 249930.90117792 396631.68772085 131027.7758827  120229.94312249\n",
            " 206106.19247475  66354.83195728 142665.98112528 160141.81803272\n",
            " 153575.09440315 183507.01655794  99660.37401027 170662.80950086\n",
            " 315731.40433872 222516.29150054 143584.54041669  86425.89987972\n",
            " 139419.41184168 253255.37909026  99455.59232655 320937.88075656\n",
            " 250514.75366383 226960.87601151 158315.74200601 120787.6163384\n",
            " 187729.26713845 149655.88959464 135746.53601167 118815.34976966\n",
            " 193638.36029369 101984.18943748 254315.93593025 140173.3395605\n",
            " 270390.40991887 393716.12990996 114421.10336505 154658.77204266\n",
            " 148900.5710297  115920.91856977 230056.72190022 104057.18372752\n",
            " 256864.16165183 127712.73825076 151444.6174389  209486.70237424\n",
            " 176218.52074688 196095.79855423 184482.65718671 318538.76069335\n",
            " 222395.46029796 404901.49197918]\n"
          ]
        }
      ],
      "source": [
        "print(y_pred_voting)"
      ]
    },
    {
      "cell_type": "code",
      "source": [
        "filename = 'voting_model.pkl'\n",
        "pickle.dump(y_pred_voting, open(filename, 'wb'))"
      ],
      "metadata": {
        "id": "JKmnxmn5xGjp"
      },
      "execution_count": null,
      "outputs": []
    },
    {
      "cell_type": "markdown",
      "metadata": {
        "id": "eMGu33KOUVhE"
      },
      "source": [
        "Stacking Regressor"
      ]
    },
    {
      "cell_type": "code",
      "execution_count": null,
      "metadata": {
        "id": "ERh26JkGUPs7"
      },
      "outputs": [],
      "source": [
        "estimators = [('lr', model), ('dt', dt_regressor), ('rf', rf_regressor)]\n",
        "stacking_regressor = StackingRegressor(estimators=estimators, final_estimator=LinearRegression())\n",
        "stacking_regressor.fit(X_train, y_train)\n",
        "y_pred_stacking = stacking_regressor.predict(X_test)"
      ]
    },
    {
      "cell_type": "code",
      "execution_count": null,
      "metadata": {
        "colab": {
          "base_uri": "https://localhost:8080/"
        },
        "id": "-T0P99vZUYNl",
        "outputId": "bb72e3b0-b5df-4710-e912-2b2015b44a61"
      },
      "outputs": [
        {
          "output_type": "stream",
          "name": "stdout",
          "text": [
            "Stacking Regressor - Mean Squared Error (MSE): 1319057173.6415162\n",
            "Stacking Regressor - Root Mean Squared Error (RMSE): 36318.82671069533\n",
            "Stacking Regressor - R-squared (R2): 0.8057064609504947\n",
            "Stacking Regressor - Mean Absolute Error (MAE): 21805.52970819907\n"
          ]
        }
      ],
      "source": [
        "mse_stacking = mean_squared_error(y_test, y_pred_stacking)\n",
        "rmse_stacking = np.sqrt(mse_stacking)\n",
        "r2_stacking = r2_score(y_test, y_pred_stacking)\n",
        "mae_stacking = mean_absolute_error(y_test, y_pred_stacking)\n",
        "\n",
        "print('Stacking Regressor - Mean Squared Error (MSE):', mse_stacking)\n",
        "print('Stacking Regressor - Root Mean Squared Error (RMSE):', rmse_stacking)\n",
        "print('Stacking Regressor - R-squared (R2):', r2_stacking)\n",
        "print('Stacking Regressor - Mean Absolute Error (MAE):', mae_stacking)"
      ]
    },
    {
      "cell_type": "code",
      "execution_count": null,
      "metadata": {
        "colab": {
          "base_uri": "https://localhost:8080/"
        },
        "id": "ZMGdzjTzUagz",
        "outputId": "dce6d403-7ecc-43e0-eb58-4c85b47fc96d"
      },
      "outputs": [
        {
          "output_type": "stream",
          "name": "stdout",
          "text": [
            "[242683.68666495 147624.79094705 114845.18730839 233363.83475908\n",
            " 105402.4823173  118116.84481311 255689.68778056 143375.380742\n",
            " 573750.42782063 142940.62003838 197859.00487569 172082.89567745\n",
            " 221529.8177618  115427.21725157 140402.70549189 150080.73938253\n",
            " 212547.08652537  97780.21511734 137456.93223128 185154.51598308\n",
            " 149497.8192752  136921.57174838 121072.03559069 154501.90298845\n",
            " 198295.44101423 211104.35905207 169171.07757693  65259.16202555\n",
            " 320490.68302393 116498.28126074 197254.95372936 184289.1209084\n",
            " 138754.977289   294686.2978548  343617.00794382 177895.10062546\n",
            " 266187.95570869 124944.36061745 230621.15141611 300208.85678693\n",
            " 217867.84235213 133163.00167328 187014.80914131 303990.72085791\n",
            " 346793.31407032 165309.85933436 126705.30339483 117262.74712319\n",
            " 180610.42858824  76446.10829829 386333.00065066 137677.31593898\n",
            " 177301.10682499  70696.62598468 229997.59682458 114116.72644366\n",
            " 118110.21464482 246718.6168     145461.88558386 102355.06808356\n",
            " 150029.11795429 124980.64820932 137556.11156677 146003.79589611\n",
            " 199274.11663856 184496.53296554 110644.41534543 201864.13983937\n",
            " 125802.3984864  191363.71534661 173362.03154101 118901.03460061\n",
            "  72759.77671438 222526.20100331  87883.78360416 284101.68345\n",
            " 118202.27498078 101453.78229988 267339.26821452 154921.18575448\n",
            " 129838.92805508 113323.68666067 134392.89340748 140555.77662639\n",
            " 204315.23936506 206247.11215789 113258.63092639 199466.599354\n",
            " 164308.62811351 143014.79825475 178869.29367508 175298.94895477\n",
            " 164633.25148791 210647.79307048 207096.86537596 149653.01974065\n",
            " 211746.68189069 177174.64736937 111249.52274308 142247.64631549\n",
            " 256232.8242209  186307.96528594 100626.55357965 157115.81349284\n",
            " 107013.21301179 289037.13970211 139736.72435293 106686.50511992\n",
            " 167021.02843205 126885.80847392  87227.70538658 108827.02203466\n",
            " 189599.45917027 127453.71991078 172137.50363537 169452.69322581\n",
            " 450450.17572023 124621.86759535 183593.81236412 280772.89272964\n",
            " 145722.58517991 173117.70852654 138619.79153939 211101.45054734\n",
            " 222545.83644612 210876.43364308 379006.63934288 204693.43495009\n",
            " 191963.31575832 177611.04609971 237975.34892322 212222.99659888\n",
            " 158019.89679839 182388.94544426  95929.71087799 238490.1080717\n",
            " 143982.19483304 211694.7369062  100548.24272154 170909.03162696\n",
            " 144692.4520861  120388.6490203  224399.17524069 135937.56669488\n",
            " 123240.22150063 164718.50671713 247430.91744028 128991.89982413\n",
            " 300907.94266513 210471.88679455 184423.36413807 328854.94644943\n",
            " 304196.83578738 176562.47546985 183117.29298926 281885.02895673\n",
            " 120882.34642257 195510.56810373 119783.47967412 168508.48252144\n",
            " 106009.88255575 145359.9707841  197973.55449464 106716.73533403\n",
            " 267796.51947682 137390.99275453 132528.4970203  280400.40845421\n",
            " 205568.05111033 179137.58489759 193704.2621778  158747.72999031\n",
            " 181658.47832275 157221.27341347 136221.33139945  92380.20215899\n",
            " 123310.43506674 248309.11487535 126588.83281195 151513.38989004\n",
            " 278924.22522278 191833.67588998 136163.74272906 295577.84357568\n",
            " 108946.27641901 175714.89228299 102476.45463106 196307.96286215\n",
            " 219205.10030556 136921.57174838 133838.41225473 148992.74728812\n",
            " 225539.59150903 127913.57557422 129921.27542715 150851.93360275\n",
            "  71398.04660295 129709.62378283 183429.05049712 136003.24518699\n",
            " 139275.98983917 200252.84984557 111307.82477062 111982.18600078\n",
            " 149536.4923295  248489.64468466 153602.51588971 324543.67828011\n",
            " 292295.27076998  68423.91259952 149588.20110337 254797.30626017\n",
            "  71078.6339773   96245.91605442 326107.67495743 213849.35757027\n",
            " 206404.04242046 282865.97736723 291743.41986027  65259.16202555\n",
            " 208091.77790714 177924.60612754 150106.48558967 112553.62895328\n",
            " 199560.08160982 250539.33549121 252885.97694046 211992.311419\n",
            " 126398.60852432 185101.71341427  71078.6339773  153312.63725817\n",
            "  88463.30549236 134330.83669033 208110.8613533  137663.16496402\n",
            " 152210.49078201 114172.43410614  76235.18503549 185145.67896549\n",
            " 117639.47363836 177203.17037    203413.36526036 211381.59443699\n",
            " 169097.28476642 184489.57781393 218944.73823172 183259.36925335\n",
            " 118521.35773166 213960.87724384 174969.87447065 281807.41182573\n",
            " 103700.23692465 407734.19646336 226674.18437048 259661.14193172\n",
            "  95637.12279872 221841.47359796 389954.36976789 537503.97977383\n",
            " 218747.83007344 116500.78912547 142748.49379053  75391.16130564\n",
            " 424598.26556932 309975.69115419 316538.93012036  63205.6680228\n",
            " 209013.14279539 298407.05073876 126590.52527681 234856.7072615\n",
            " 136596.70652565 187499.28672968 158744.3566051  227355.45506628\n",
            " 201808.47134377 173893.55565952 215621.87413412 105439.47845581\n",
            " 123615.09683616 361289.76606626 141151.91428926 138913.05926655\n",
            " 208991.36690598 210290.05328232 124232.53873516 283217.02848463\n",
            " 435296.32589131 200412.25848355  63284.88511262  97029.22027695\n",
            " 328800.36540313 117262.74712319 121178.5247162  287049.81205088\n",
            " 251821.26469248 179590.32693529 164050.69126135 170778.09608948\n",
            "  76197.30369283 142541.30187473 181481.39976382 171500.26936254\n",
            " 182278.5535452  172380.47536397 134133.62551109 169501.28246936\n",
            " 177572.92613048 182588.29856219 104559.72674714 146706.48259036\n",
            " 202497.23468681 123802.18988995 122288.41542775 136921.57174838\n",
            " 317442.65995176 123612.32201371 192580.91437156 187303.4848687\n",
            " 127731.31623755 252119.03462401 134784.95464405 253243.47770898\n",
            " 152015.59878599 233102.76897441 130111.25891417 331173.11851292\n",
            " 203975.26903988 133453.36424996 113924.18035284 225252.94145645\n",
            " 180372.15765614 184569.38113102 185917.19561646 140399.67328083\n",
            " 128558.1577959  186750.17631144 139731.63078824 132282.1675678\n",
            " 329280.4937193  164205.39772898 190413.78755777 216212.30261772\n",
            " 171921.22164625 141547.04869813 103096.36267606  98523.25374829\n",
            "  92024.11576498 128330.38293267 204084.60236854 369065.25905572\n",
            " 111400.35995641  90716.2750682  172790.36352736 394946.59990276\n",
            " 318114.29855655 134310.85757795 252849.29089783 216305.24738142\n",
            " 377404.31898825 173968.61960025 232406.31649105 265644.2240432\n",
            "  98615.73139448 179206.84499277 168836.20649066  86140.90923857\n",
            " 149129.08318488 164543.82316482 413821.97393973 103219.51973844\n",
            " 152521.99839439 132055.25303071 151484.97496465  64978.11096018\n",
            " 188750.27641893 282194.43421331 105563.56999762 255249.56888726\n",
            " 155315.26200396 101563.08167143 137660.1335107  145157.63720595\n",
            " 118910.90732927  94656.01715858 136676.81466716 196947.4814506\n",
            " 249647.90435671 391253.44147561 133183.34201663 118691.85123042\n",
            " 217927.58222018  61042.02001786 131316.74174224 162562.54262149\n",
            " 165665.87068933 169861.78860927 143249.3313068  169718.71778299\n",
            " 315561.86142067 223082.26151168 139828.67188509  71398.04660295\n",
            " 148548.38739601 255724.58711876  99832.12247385 291456.51664618\n",
            " 256992.01378588 260885.758466   131272.03503101 116017.35169633\n",
            " 188839.2996612  128623.20643637 142957.44360391 124170.1539824\n",
            " 192274.22116535 100724.80885755 261357.79444116 136003.24518699\n",
            " 278191.23345481 366008.54129197 101923.19808748 157413.21697064\n",
            " 147885.06929991  98110.05662291 276788.0898873  123861.2095285\n",
            " 199180.95999039 123404.17002492 145848.03175317 204232.2039501\n",
            " 162856.14855272 196208.82462014 196691.20363832 345134.53991185\n",
            " 223112.57430512 412742.37714801]\n"
          ]
        }
      ],
      "source": [
        "print(y_pred_stacking)"
      ]
    },
    {
      "cell_type": "code",
      "source": [
        "filename = 'stacking_model.pkl'\n",
        "pickle.dump(y_pred_stacking, open(filename, 'wb'))"
      ],
      "metadata": {
        "id": "FPgEfuSwxJaJ"
      },
      "execution_count": null,
      "outputs": []
    },
    {
      "cell_type": "markdown",
      "metadata": {
        "id": "0cnVspr2Uflp"
      },
      "source": [
        "KNN"
      ]
    },
    {
      "cell_type": "code",
      "execution_count": null,
      "metadata": {
        "id": "IDP8czLdUbe4"
      },
      "outputs": [],
      "source": [
        "knn_regressor = KNeighborsRegressor()\n",
        "knn_regressor.fit(X_train, y_train)\n",
        "y_pred_knn = knn_regressor.predict(X_test)"
      ]
    },
    {
      "cell_type": "code",
      "execution_count": null,
      "metadata": {
        "colab": {
          "base_uri": "https://localhost:8080/"
        },
        "id": "lZO_tVhDUiZA",
        "outputId": "cf57f514-634e-4259-f368-a5d6c361ea2a"
      },
      "outputs": [
        {
          "output_type": "stream",
          "name": "stdout",
          "text": [
            "KNeighborsRegressor - Mean Squared Error (MSE): 1988667313.029041\n",
            "KNeighborsRegressor - Root Mean Squared Error (RMSE): 44594.4762614053\n",
            "KNeighborsRegressor - R-squared (R2): 0.7070747061146785\n",
            "KNeighborsRegressor - Mean Absolute Error (MAE): 27367.762557077625\n"
          ]
        }
      ],
      "source": [
        "mse_knn = mean_squared_error(y_test, y_pred_knn)\n",
        "rmse_knn = np.sqrt(mse_knn)\n",
        "r2_knn = r2_score(y_test, y_pred_knn)\n",
        "mae_knn = mean_absolute_error(y_test, y_pred_knn)\n",
        "\n",
        "print('KNeighborsRegressor - Mean Squared Error (MSE):', mse_knn)\n",
        "print('KNeighborsRegressor - Root Mean Squared Error (RMSE):', rmse_knn)\n",
        "print('KNeighborsRegressor - R-squared (R2):', r2_knn)\n",
        "print('KNeighborsRegressor - Mean Absolute Error (MAE):', mae_knn)"
      ]
    },
    {
      "cell_type": "code",
      "execution_count": null,
      "metadata": {
        "colab": {
          "base_uri": "https://localhost:8080/"
        },
        "id": "SeuVp22pUlMN",
        "outputId": "5fe82f7e-37db-43e7-872a-503e46c4bf2c"
      },
      "outputs": [
        {
          "output_type": "stream",
          "name": "stdout",
          "text": [
            "[259600.  152226.8 119955.2 228558.   89680.  127040.  231595.6 148915.\n",
            " 480950.  140710.4 190770.  243200.  206000.  117500.  142325.  132100.\n",
            " 184980.  102200.  149900.  162920.  186520.  141700.  127800.  170998.\n",
            " 227967.  172300.  165960.   90700.  328374.4 115855.2 303560.4 170330.\n",
            " 128500.  281510.  379432.2 171522.  220540.  135300.  234080.  272800.\n",
            " 236800.  141479.2 171281.4 299786.4 332046.2 179000.  129800.  123200.\n",
            " 179480.   98900.  339852.2 150080.  216300.   92700.  193340.  135000.\n",
            " 159200.  204942.  155700.  109000.  146000.  135540.  144980.  154270.\n",
            " 199540.  206730.  120400.  185400.  154220.  192100.  173524.  122580.\n",
            " 103480.  196656.  105700.  252498.6 132880.  100380.  258456.  132100.\n",
            " 126060.  114676.6 151790.  142200.  274420.  190700.  135820.  195570.\n",
            " 138080.  143085.  195380.  192240.  178088.  204760.  190620.  133300.\n",
            " 204826.4 186980.  138400.  128800.  216600.  161300.  110331.6 165447.\n",
            " 100480.  225116.  165124.  126800.  179640.  119880.   95800.  127040.\n",
            " 197000.  120830.  163567.  172380.  452064.8 132920.  196700.  264450.\n",
            " 108715.  145380.  154650.  197000.  201040.  200510.  362222.2 208700.\n",
            " 168900.  186550.  241698.  179015.6 165600.  189600.  124200.  208680.\n",
            " 134386.8 204816.  120900.  164480.  151400.  121898.6 265900.  144790.\n",
            " 153627.  177990.  235347.8 136420.  198600.  193280.  188976.  247705.6\n",
            " 269712.2 211380.  161326.8 272000.  132830.  181840.  133125.  168586.4\n",
            " 125630.  166860.  197240.  139150.  217223.6 150090.  138500.  336260.\n",
            " 195570.  182680.  206055.6 171760.  218000.  153400.  139800.   90480.\n",
            " 136125.  272000.  111300.  150080.  244237.2 174030.  124910.4 328374.4\n",
            " 123730.  181010.   90480.  196440.  194995.6 141700.  128200.  142760.\n",
            " 215100.  130210.  124760.  148250.   94300.  127360.  191600.  157847.\n",
            " 142760.  150500.  102160.  103600.  156677.4 322169.8 132400.  307924.8\n",
            " 320867.  103540.  159700.  191540.  103480.   92700.  301286.4 196060.\n",
            " 175836.  272000.  286314.   90700.  188976.  183716.  148300.  124200.\n",
            " 185700.  261650.  240290.  218800.  131700.  149800.  103480.  132390.4\n",
            " 103540.  143360.  199580.  117600.  156677.4 122980.   74800.  217360.\n",
            " 105200.  190380.  202160.  217400.  173948.  144080.  182000.  166500.\n",
            " 121980.  188976.  185000.  249450.  103540.  312230.8 186400.  243900.\n",
            "  86700.  237827.8 413316.2 480950.  202000.  146186.8 149480.   75980.\n",
            " 414719.6 211700.  271800.   67262.2 149500.  328374.4 128300.  205180.\n",
            " 143490.  181500.  159100.  233480.  176000.  164797.4 196580.  130780.\n",
            " 130960.  324823.4 146186.8 141040.  202900.  273700.  114800.  228040.\n",
            " 439216.2 235880.   72800.   89680.  334386.4 123200.  126950.  252498.6\n",
            " 248323.6 156028.  150348.  161047.   90480.  133600.  172780.  195270.\n",
            " 174030.  183670.  142430.  188976.  171522.  162760.  103480.  150040.\n",
            " 197600.  114800.  113600.  141700.  335274.8 166690.  185050.  223700.\n",
            "  99390.  234200.  128600.  271360.  168900.  250826.  140360.  334386.4\n",
            " 219527.8 152040.  124550.  219780.  154880.  175181.4 192176.  150080.\n",
            " 150680.  154200.  133170.8 145680.  301346.8 150580.  176000.  196580.\n",
            " 171360.  132266.8 116120.  103480.   88200.  132550.  203560.  304794.\n",
            " 123900.   90200.  205186.  379432.2 336377.8 147597.4 187040.  242780.\n",
            " 302560.  170130.  227500.  221692.2  86700.  249880.  162800.   88476.6\n",
            " 175100.  145667.4 443427.  103800.  211425.  148200.  141740.   79880.\n",
            " 204826.4 233400.  114676.6 225500.  160647.  119880.  149590.  136800.\n",
            " 119650.  136780.  141740.  195340.  257758.6 421539.6 137980.  128980.\n",
            " 242100.   78600.  139215.  171522.  145150.  175440.  129800.  175980.\n",
            " 264409.8 220540.  143020.   94300.  144600.  247609.8 112300.  220736.\n",
            " 243500.  254183.6 124770.8 120120.  174980.  168100.  130370.  123330.\n",
            " 181500.   90480.  228680.  157847.  255100.  307744.  130500.  168540.\n",
            " 144567.4 140100.  273700.  143550.  182400.  115680.  183648.  203560.\n",
            " 159400.  180500.  194700.  359832.2 204240.  446794.4]\n"
          ]
        }
      ],
      "source": [
        "print(y_pred_knn)"
      ]
    },
    {
      "cell_type": "code",
      "source": [
        "filename = 'knn_model.pkl'\n",
        "pickle.dump(y_pred_knn, open(filename, 'wb'))"
      ],
      "metadata": {
        "id": "_uXGBdxAxQ6h"
      },
      "execution_count": null,
      "outputs": []
    },
    {
      "cell_type": "markdown",
      "metadata": {
        "id": "6B3xkxRvUp2v"
      },
      "source": [
        "Gaussian Process"
      ]
    },
    {
      "cell_type": "code",
      "execution_count": null,
      "metadata": {
        "id": "MluHPCaMUnr-"
      },
      "outputs": [],
      "source": [
        "gpr = GaussianProcessRegressor()\n",
        "gpr.fit(X_train, y_train)\n",
        "y_pred_gpr = gpr.predict(X_test)"
      ]
    },
    {
      "cell_type": "code",
      "execution_count": null,
      "metadata": {
        "colab": {
          "base_uri": "https://localhost:8080/"
        },
        "id": "mY4F8HIDUtYN",
        "outputId": "9c13908b-588a-4f8a-cc18-ac957cf89c7c"
      },
      "outputs": [
        {
          "output_type": "stream",
          "name": "stdout",
          "text": [
            "GaussianProcessRegressor - Mean Squared Error (MSE): 39007978220.7171\n",
            "GaussianProcessRegressor - Root Mean Squared Error (RMSE): 197504.3751938602\n",
            "GaussianProcessRegressor - R-squared (R2): -4.74576924421391\n",
            "GaussianProcessRegressor - Mean Absolute Error (MAE): 176680.49326934363\n"
          ]
        }
      ],
      "source": [
        "mse_gpr = mean_squared_error(y_test, y_pred_gpr)\n",
        "rmse_gpr = np.sqrt(mse_gpr)\n",
        "r2_gpr = r2_score(y_test, y_pred_gpr)\n",
        "mae_gpr = mean_absolute_error(y_test, y_pred_gpr)\n",
        "\n",
        "print('GaussianProcessRegressor - Mean Squared Error (MSE):', mse_gpr)\n",
        "print('GaussianProcessRegressor - Root Mean Squared Error (RMSE):', rmse_gpr)\n",
        "print('GaussianProcessRegressor - R-squared (R2):', r2_gpr)\n",
        "print('GaussianProcessRegressor - Mean Absolute Error (MAE):', mae_gpr)"
      ]
    },
    {
      "cell_type": "code",
      "execution_count": null,
      "metadata": {
        "colab": {
          "base_uri": "https://localhost:8080/"
        },
        "id": "8UwdkzUDUvpB",
        "outputId": "b6b7316f-9bf6-41f9-fde0-8cc8d4d310c7"
      },
      "outputs": [
        {
          "output_type": "stream",
          "name": "stdout",
          "text": [
            "[0.00000000e+000 0.00000000e+000 0.00000000e+000 0.00000000e+000\n",
            " 0.00000000e+000 0.00000000e+000 0.00000000e+000 0.00000000e+000\n",
            " 0.00000000e+000 0.00000000e+000 1.10490270e-235 0.00000000e+000\n",
            " 0.00000000e+000 3.92565984e+003 2.21732602e-051 0.00000000e+000\n",
            " 0.00000000e+000 5.48865239e-121 0.00000000e+000 0.00000000e+000\n",
            " 0.00000000e+000 1.40714297e+005 0.00000000e+000 0.00000000e+000\n",
            " 0.00000000e+000 0.00000000e+000 0.00000000e+000 7.55000000e+004\n",
            " 0.00000000e+000 0.00000000e+000 0.00000000e+000 0.00000000e+000\n",
            " 0.00000000e+000 0.00000000e+000 0.00000000e+000 5.97837909e-131\n",
            " 0.00000000e+000 0.00000000e+000 0.00000000e+000 0.00000000e+000\n",
            " 0.00000000e+000 0.00000000e+000 1.46163691e-130 0.00000000e+000\n",
            " 0.00000000e+000 0.00000000e+000 0.00000000e+000 2.42540248e-183\n",
            " 0.00000000e+000 0.00000000e+000 0.00000000e+000 0.00000000e+000\n",
            " 0.00000000e+000 2.40762007e-218 0.00000000e+000 0.00000000e+000\n",
            " 0.00000000e+000 0.00000000e+000 9.40685232e-100 5.31553583e-258\n",
            " 0.00000000e+000 6.52496463e-053 0.00000000e+000 8.28548669e-027\n",
            " 0.00000000e+000 0.00000000e+000 3.47445764e-145 0.00000000e+000\n",
            " 0.00000000e+000 0.00000000e+000 0.00000000e+000 0.00000000e+000\n",
            " 0.00000000e+000 1.45161977e-115 0.00000000e+000 0.00000000e+000\n",
            " 0.00000000e+000 0.00000000e+000 0.00000000e+000 0.00000000e+000\n",
            " 0.00000000e+000 2.44513779e+003 0.00000000e+000 0.00000000e+000\n",
            " 0.00000000e+000 5.54292089e-287 0.00000000e+000 2.02500000e+005\n",
            " 8.82716346e-011 0.00000000e+000 2.72662071e-298 0.00000000e+000\n",
            " 0.00000000e+000 0.00000000e+000 0.00000000e+000 0.00000000e+000\n",
            " 0.00000000e+000 0.00000000e+000 0.00000000e+000 0.00000000e+000\n",
            " 0.00000000e+000 0.00000000e+000 0.00000000e+000 0.00000000e+000\n",
            " 0.00000000e+000 0.00000000e+000 0.00000000e+000 0.00000000e+000\n",
            " 1.58210007e-130 0.00000000e+000 0.00000000e+000 0.00000000e+000\n",
            " 0.00000000e+000 0.00000000e+000 0.00000000e+000 0.00000000e+000\n",
            " 0.00000000e+000 8.46451670e-206 0.00000000e+000 0.00000000e+000\n",
            " 0.00000000e+000 0.00000000e+000 8.39309041e-027 0.00000000e+000\n",
            " 0.00000000e+000 6.09181664e-277 0.00000000e+000 0.00000000e+000\n",
            " 0.00000000e+000 0.00000000e+000 0.00000000e+000 0.00000000e+000\n",
            " 0.00000000e+000 0.00000000e+000 2.60462641e-024 0.00000000e+000\n",
            " 0.00000000e+000 0.00000000e+000 9.76427499e-258 0.00000000e+000\n",
            " 0.00000000e+000 8.73404141e+004 0.00000000e+000 0.00000000e+000\n",
            " 0.00000000e+000 0.00000000e+000 0.00000000e+000 8.41589567e-034\n",
            " 0.00000000e+000 7.27203219e-052 9.44222671e-027 0.00000000e+000\n",
            " 0.00000000e+000 0.00000000e+000 0.00000000e+000 0.00000000e+000\n",
            " 0.00000000e+000 2.08675026e-235 0.00000000e+000 2.86760187e-162\n",
            " 1.11250000e+005 0.00000000e+000 0.00000000e+000 0.00000000e+000\n",
            " 1.32277756e-198 0.00000000e+000 0.00000000e+000 0.00000000e+000\n",
            " 2.24000000e+005 0.00000000e+000 0.00000000e+000 0.00000000e+000\n",
            " 2.63682476e-222 4.89294017e-238 0.00000000e+000 0.00000000e+000\n",
            " 0.00000000e+000 0.00000000e+000 0.00000000e+000 7.86945785e-108\n",
            " 0.00000000e+000 0.00000000e+000 0.00000000e+000 0.00000000e+000\n",
            " 2.73970356e-158 0.00000000e+000 1.51560129e-023 9.53584074e-144\n",
            " 0.00000000e+000 1.40714297e+005 0.00000000e+000 1.95526700e-293\n",
            " 7.67601240e-257 0.00000000e+000 0.00000000e+000 0.00000000e+000\n",
            " 0.00000000e+000 0.00000000e+000 0.00000000e+000 0.00000000e+000\n",
            " 0.00000000e+000 2.03703146e-237 0.00000000e+000 0.00000000e+000\n",
            " 0.00000000e+000 0.00000000e+000 0.00000000e+000 0.00000000e+000\n",
            " 0.00000000e+000 1.32628578e+004 9.40122522e+004 0.00000000e+000\n",
            " 9.35000000e+004 0.00000000e+000 0.00000000e+000 0.00000000e+000\n",
            " 0.00000000e+000 0.00000000e+000 0.00000000e+000 7.55000000e+004\n",
            " 0.00000000e+000 0.00000000e+000 0.00000000e+000 7.27836792e+004\n",
            " 9.28824076e-220 0.00000000e+000 0.00000000e+000 0.00000000e+000\n",
            " 0.00000000e+000 0.00000000e+000 9.35000000e+004 0.00000000e+000\n",
            " 5.94400046e+004 0.00000000e+000 0.00000000e+000 0.00000000e+000\n",
            " 0.00000000e+000 0.00000000e+000 0.00000000e+000 3.75836750e-252\n",
            " 0.00000000e+000 0.00000000e+000 0.00000000e+000 0.00000000e+000\n",
            " 1.89856841e-063 0.00000000e+000 0.00000000e+000 0.00000000e+000\n",
            " 0.00000000e+000 0.00000000e+000 0.00000000e+000 0.00000000e+000\n",
            " 9.80000000e+004 0.00000000e+000 0.00000000e+000 0.00000000e+000\n",
            " 0.00000000e+000 0.00000000e+000 0.00000000e+000 0.00000000e+000\n",
            " 0.00000000e+000 0.00000000e+000 0.00000000e+000 0.00000000e+000\n",
            " 0.00000000e+000 0.00000000e+000 0.00000000e+000 0.00000000e+000\n",
            " 0.00000000e+000 0.00000000e+000 0.00000000e+000 0.00000000e+000\n",
            " 0.00000000e+000 0.00000000e+000 0.00000000e+000 0.00000000e+000\n",
            " 0.00000000e+000 0.00000000e+000 0.00000000e+000 0.00000000e+000\n",
            " 0.00000000e+000 0.00000000e+000 0.00000000e+000 0.00000000e+000\n",
            " 0.00000000e+000 0.00000000e+000 1.13000000e+005 0.00000000e+000\n",
            " 0.00000000e+000 0.00000000e+000 0.00000000e+000 0.00000000e+000\n",
            " 0.00000000e+000 2.42540248e-183 0.00000000e+000 0.00000000e+000\n",
            " 0.00000000e+000 2.44449519e-031 0.00000000e+000 0.00000000e+000\n",
            " 0.00000000e+000 0.00000000e+000 0.00000000e+000 0.00000000e+000\n",
            " 0.00000000e+000 0.00000000e+000 0.00000000e+000 0.00000000e+000\n",
            " 7.69967856e-104 0.00000000e+000 0.00000000e+000 1.64500000e+005\n",
            " 0.00000000e+000 0.00000000e+000 0.00000000e+000 1.40714297e+005\n",
            " 0.00000000e+000 0.00000000e+000 0.00000000e+000 0.00000000e+000\n",
            " 0.00000000e+000 0.00000000e+000 0.00000000e+000 0.00000000e+000\n",
            " 0.00000000e+000 0.00000000e+000 2.55780254e-309 1.29901548e-258\n",
            " 0.00000000e+000 0.00000000e+000 9.14192040e-010 0.00000000e+000\n",
            " 0.00000000e+000 1.35521030e-009 0.00000000e+000 0.00000000e+000\n",
            " 0.00000000e+000 0.00000000e+000 0.00000000e+000 1.94683943e-047\n",
            " 0.00000000e+000 7.22286021e-218 0.00000000e+000 9.99779356e-200\n",
            " 0.00000000e+000 0.00000000e+000 0.00000000e+000 3.16717188e-093\n",
            " 0.00000000e+000 0.00000000e+000 0.00000000e+000 0.00000000e+000\n",
            " 4.62306925e-069 8.04694726e-081 0.00000000e+000 0.00000000e+000\n",
            " 0.00000000e+000 0.00000000e+000 0.00000000e+000 0.00000000e+000\n",
            " 0.00000000e+000 0.00000000e+000 0.00000000e+000 0.00000000e+000\n",
            " 3.33591863e+004 0.00000000e+000 6.36110171e-006 0.00000000e+000\n",
            " 0.00000000e+000 0.00000000e+000 0.00000000e+000 0.00000000e+000\n",
            " 0.00000000e+000 0.00000000e+000 2.68578247e+001 9.90463294e-083\n",
            " 2.39204470e-250 3.28873494e-120 1.00050535e-023 0.00000000e+000\n",
            " 0.00000000e+000 0.00000000e+000 0.00000000e+000 0.00000000e+000\n",
            " 0.00000000e+000 0.00000000e+000 1.88121659e-016 2.79176331e-057\n",
            " 0.00000000e+000 0.00000000e+000 0.00000000e+000 0.00000000e+000\n",
            " 0.00000000e+000 0.00000000e+000 0.00000000e+000 7.43701241e-104\n",
            " 0.00000000e+000 0.00000000e+000 0.00000000e+000 0.00000000e+000\n",
            " 0.00000000e+000 0.00000000e+000 0.00000000e+000 0.00000000e+000\n",
            " 0.00000000e+000 0.00000000e+000 0.00000000e+000 0.00000000e+000\n",
            " 0.00000000e+000 0.00000000e+000 0.00000000e+000 0.00000000e+000\n",
            " 0.00000000e+000 0.00000000e+000 0.00000000e+000 0.00000000e+000\n",
            " 0.00000000e+000 8.94750078e+004 0.00000000e+000 0.00000000e+000\n",
            " 0.00000000e+000 0.00000000e+000 1.20870097e-082 1.46000000e+005\n",
            " 0.00000000e+000 0.00000000e+000 0.00000000e+000 0.00000000e+000\n",
            " 0.00000000e+000 0.00000000e+000 4.45318967e-122 4.36193366e-042\n",
            " 0.00000000e+000 0.00000000e+000 0.00000000e+000 0.00000000e+000\n",
            " 7.04889876e-254 0.00000000e+000]\n"
          ]
        }
      ],
      "source": [
        "print(y_pred_gpr)"
      ]
    },
    {
      "cell_type": "code",
      "source": [
        "filename = 'gaussian_process_model.pkl'\n",
        "pickle.dump(y_pred_gpr, open(filename, 'wb'))"
      ],
      "metadata": {
        "id": "GnXnayO8xXCM"
      },
      "execution_count": null,
      "outputs": []
    },
    {
      "cell_type": "markdown",
      "metadata": {
        "id": "kAsqF3sAU6-h"
      },
      "source": [
        "Hist Gradient Boosting"
      ]
    },
    {
      "cell_type": "code",
      "execution_count": null,
      "metadata": {
        "id": "YE4dApqPVAOj"
      },
      "outputs": [],
      "source": [
        "from sklearn.ensemble import HistGradientBoostingRegressor"
      ]
    },
    {
      "cell_type": "code",
      "execution_count": null,
      "metadata": {
        "id": "adHIdRaZU98y"
      },
      "outputs": [],
      "source": [
        "hist_gb = HistGradientBoostingRegressor()\n",
        "hist_gb.fit(X_train, y_train)\n",
        "y_pred_hist_gb = hist_gb.predict(X_test)"
      ]
    },
    {
      "cell_type": "code",
      "execution_count": null,
      "metadata": {
        "colab": {
          "base_uri": "https://localhost:8080/"
        },
        "id": "6QnrPw1sUxUc",
        "outputId": "b6ed01b6-0041-43de-e490-23e2579117d3"
      },
      "outputs": [
        {
          "output_type": "stream",
          "name": "stdout",
          "text": [
            "HistGradientBoostingRegressor - Mean Squared Error (MSE): 1328673972.7117708\n",
            "HistGradientBoostingRegressor - Root Mean Squared Error (RMSE): 36450.98040810111\n",
            "HistGradientBoostingRegressor - R-squared (R2): 0.8042899325671726\n",
            "HistGradientBoostingRegressor - Mean Absolute Error (MAE): 22825.113262827024\n"
          ]
        }
      ],
      "source": [
        "mse_hist_gb = mean_squared_error(y_test, y_pred_hist_gb)\n",
        "rmse_hist_gb = np.sqrt(mse_hist_gb)\n",
        "r2_hist_gb = r2_score(y_test, y_pred_hist_gb)\n",
        "mae_hist_gb = mean_absolute_error(y_test, y_pred_hist_gb)\n",
        "\n",
        "print('HistGradientBoostingRegressor - Mean Squared Error (MSE):', mse_hist_gb)\n",
        "print('HistGradientBoostingRegressor - Root Mean Squared Error (RMSE):', rmse_hist_gb)\n",
        "print('HistGradientBoostingRegressor - R-squared (R2):', r2_hist_gb)\n",
        "print('HistGradientBoostingRegressor - Mean Absolute Error (MAE):', mae_hist_gb)"
      ]
    },
    {
      "cell_type": "code",
      "execution_count": null,
      "metadata": {
        "colab": {
          "base_uri": "https://localhost:8080/"
        },
        "id": "21jgZ9-IVCoy",
        "outputId": "319c6983-6643-491c-d041-34254ca1ef69"
      },
      "outputs": [
        {
          "output_type": "stream",
          "name": "stdout",
          "text": [
            "[222084.36200983 149758.6873821  111213.33387734 237824.44181267\n",
            "  93231.98056857 122876.35514027 242666.36795807 143556.6633614\n",
            " 520163.27122751 120216.57517483 190781.21470061 157510.39152191\n",
            " 222544.08063582 126492.9637063  137610.14850323 165629.52463836\n",
            " 214403.95145777  92971.4782581  138236.10144952 182957.04684997\n",
            " 157215.92695065 143258.94929071 121939.00967727 143385.8254018\n",
            " 204818.93326416 209183.42971463 182311.28353507  61865.45304834\n",
            " 346573.65979835 119863.05996279 135811.7068449  165252.68924732\n",
            " 135204.71594887 317603.99312211 408256.19707605 180029.67279426\n",
            " 294644.99585458 129358.45026083 235898.23219967 285534.55944903\n",
            " 208180.47421553 134696.40326407 183369.07721598 296949.50662594\n",
            " 405515.37113016 152497.49895535 131059.44361189 127459.63065859\n",
            " 182978.34583706  88128.48589916 455295.82840023 144783.0193319\n",
            " 185226.51376177  67609.29832017 231771.65224577 104906.04828213\n",
            " 122059.55380003 231395.53435371 157524.92195318 105932.00167048\n",
            " 147541.57482553 132845.49905309 136515.39927425 149961.71209568\n",
            " 198814.40321777 190974.80282497 118981.16812008 195880.63884103\n",
            " 138038.83543261 180789.44681023 174446.7429229  122729.20179791\n",
            "  87299.5429963  204246.10294505  91401.14310549 262592.29529415\n",
            " 121632.455041   117464.67108118 261482.10823407 150084.38914223\n",
            " 124403.24058785 119194.53009877 140265.60078373 137421.9279399\n",
            " 221595.87876861 209457.03840455 113912.79398317 192718.32352833\n",
            " 159254.47854733 139802.37725982 186360.50966573 195814.12610657\n",
            " 173953.3984783  209443.68016397 188605.52307347 133553.7392763\n",
            " 213401.20481782 169940.24989795 112085.21460384 140440.04984202\n",
            " 269427.50879593 189447.03232075  95753.76720953 149054.15017448\n",
            " 103005.56902083 282073.49819082 135129.32250329 117519.09474459\n",
            " 170346.52350646 113700.49216902  90497.91953096 117615.56786899\n",
            " 189020.09417064 127450.11508286 162053.80734311 177427.35155049\n",
            " 457692.39529986 131257.79530805 192204.58723354 271441.53759148\n",
            " 128207.9512803  170517.26600904 141208.87191828 215801.68958484\n",
            " 237151.41114411 196451.94054723 426700.32049687 210098.56025623\n",
            " 188252.93598424 181000.58277233 189477.86355645 196702.26579061\n",
            " 159251.34875553 178268.0825024  102790.54070359 228977.1014524\n",
            " 132298.91918153 219182.80902306 111131.11478313 172674.97426664\n",
            " 146050.8032727  120754.77356689 169130.87023043 140459.63570963\n",
            " 125575.68223584 175311.19125501 237403.16164475 137170.53301453\n",
            " 307413.25163125 204057.81927482 176741.44878829 352251.12476387\n",
            " 305322.12825878 161642.02177264 199965.25805736 273913.77123733\n",
            " 126101.22394137 211204.54527034 121367.63188284 168322.35792652\n",
            " 110798.86418948 154471.8025755  200782.32336037 109067.4508311\n",
            " 249326.35794267 126905.42524098 132292.85558234 256709.51283983\n",
            " 199663.6302865  181127.37681502 173823.99141282 162976.63989563\n",
            " 185564.39856178 162056.20780681 138225.99537512  86867.9564584\n",
            " 135343.7242102  228500.7323756  130578.88807939 145270.87979393\n",
            " 259935.20660359 193198.22453265 134664.79919311 308183.73879222\n",
            " 116413.77536066 161034.0477358   88263.20361571 194038.3025977\n",
            " 195368.13171659 143258.94929071 137952.30029634 142954.74665607\n",
            " 234330.79882535 126300.09736048 131934.61116162 149064.73002848\n",
            "  75943.79143542 133457.18851866 184152.28167688 144019.48020202\n",
            " 140901.86252515 193973.6492495  136185.11843309 113002.2815737\n",
            " 164353.79903693 198505.81674347 133624.30174033 312211.55161215\n",
            " 300284.12334282  83651.45095705 153106.01865391 279042.88754788\n",
            "  95178.29851934  95072.2233143  312278.88462359 206479.97642167\n",
            " 209897.32796182 282404.03162191 281877.70815626  61865.45304834\n",
            " 205783.95951853 165141.6161901  136646.11200763 120470.65536105\n",
            " 193519.16358802 233279.49049786 266855.10619688 233858.29723999\n",
            " 130558.73272338 177066.4280796   95178.29851934 140394.48254017\n",
            "  83651.45095705 130932.05884094 199549.85804238 129026.14256171\n",
            " 165602.54621963 125861.46951186  80343.70975161 189862.22041543\n",
            " 123709.04966638 184781.8059611  207558.59542076 222682.73207349\n",
            " 161594.87539163 196105.19825777 222469.05909541 183441.30906541\n",
            " 118783.08539871 213064.88850413 175748.65777312 271441.53759148\n",
            " 100318.82246255 420716.4291597  222933.73667527 267030.68053612\n",
            "  93785.22036212 192098.2751969  434376.5128896  482674.078927\n",
            " 204019.90761711 134904.18904003 139404.9367998   67307.32902728\n",
            " 435945.4783033  296577.09197568 389325.18639575  61615.00566654\n",
            " 209933.32571969 303419.63812779 135159.71793203 245112.36935209\n",
            " 141731.72677258 185132.50230439 147260.49942773 225406.8155775\n",
            " 188897.20600113 151728.67059248 227924.63868924 112805.04744901\n",
            " 138299.15248367 410948.89216695 137119.05367143 135290.10402066\n",
            " 204886.02987284 191618.18079193 119204.46217487 266626.826572\n",
            " 425361.46489136 185782.05145724  63144.70093912  89886.01669221\n",
            " 352109.20644028 127459.63065859 127293.12922881 293557.3547752\n",
            " 254444.79578151 174249.13473175 144739.46887336 155175.55824264\n",
            "  67582.31261629 136551.71923501 177898.9073987  168393.87930521\n",
            " 196423.17443703 174477.47802286 133038.60447199 168514.35372947\n",
            " 177466.20930596 178709.59060097 106463.79396023 136905.52434173\n",
            " 198677.72008705 117231.56900583 122883.94012267 143258.94929071\n",
            " 321077.1373448  141834.83721367 187449.36498101 196175.02038465\n",
            " 119924.369182   278235.49180475 132342.0571099  283567.31997731\n",
            " 142679.78000901 238022.19105357 123229.14488936 351439.6917689\n",
            " 200079.71255512 146054.45597282 128296.72826769 230948.13799669\n",
            " 174919.04068329 185843.37479184 186946.7116327  146714.07336395\n",
            " 146824.95638971 187163.19117838 133271.95069681 134424.95789528\n",
            " 305251.90292473 166769.21893908 174546.6453967  227464.14239302\n",
            " 180959.43788149 140785.37867321 110180.46451166 109299.75628861\n",
            " 103508.62613178 126128.44001498 209667.08863097 385266.95114089\n",
            " 123801.32635123 103931.65530696 171266.40148795 440321.67940944\n",
            " 319421.0329506  139782.04901064 259840.73450433 209267.0600172\n",
            " 406289.24781701 172952.24927345 237427.32078417 251112.01089938\n",
            "  96511.46552208 158164.61598978 170889.13209515  87218.48547927\n",
            " 157610.75341728 153504.67051603 453294.2028843  100691.68061034\n",
            " 150037.07297406 130142.96828973 146393.77263676  66232.95250602\n",
            " 190165.04617839 313028.80257744 112487.35564074 245885.56227747\n",
            " 146527.08957547 103517.24898922 137663.01035758 138408.72358883\n",
            " 123518.62456938 123500.04579421 139824.41608584 198923.31823486\n",
            " 234108.93117485 369398.11617664 137841.53598207 120496.8922239\n",
            " 210146.36169038  59849.8063225  139303.31191962 170385.08814911\n",
            " 162613.4706802  178457.3928111  129801.3285702  179275.85669224\n",
            " 349629.77498126 224527.18352949 146675.44704515  75943.79143542\n",
            " 145448.71554062 249428.65680424 110460.43932709 283813.37390411\n",
            " 237376.78594158 250533.68280052 121787.8258893  124673.25682125\n",
            " 181159.43467348 129703.86885664 147368.84208751 131934.52261285\n",
            " 170686.75322015  88263.20361571 251219.20595137 144019.48020202\n",
            " 253186.25132363 431511.87214214 106127.08509539 153298.82524111\n",
            " 165244.11429155 118755.17738428 269338.08895828 121713.15542206\n",
            " 214137.1708618  128646.67777111 139615.03536201 202982.76096063\n",
            " 114135.1207359  196033.44036079 197069.79467466 410845.72929502\n",
            " 230166.59240433 470016.56622837]\n"
          ]
        }
      ],
      "source": [
        "print(y_pred_hist_gb)"
      ]
    },
    {
      "cell_type": "code",
      "source": [
        "filename = 'hist_gradient_boosting_model.pkl'\n",
        "pickle.dump(y_pred_hist_gb, open(filename, 'wb'))"
      ],
      "metadata": {
        "id": "jyY9kCIqxa2Q"
      },
      "execution_count": null,
      "outputs": []
    },
    {
      "cell_type": "markdown",
      "metadata": {
        "id": "W_3-bST3VPKM"
      },
      "source": [
        "Randomized Search CV"
      ]
    },
    {
      "cell_type": "code",
      "execution_count": null,
      "metadata": {
        "id": "Mow58gAIVFrr"
      },
      "outputs": [],
      "source": [
        "from sklearn.model_selection import RandomizedSearchCV\n",
        "from sklearn.linear_model import HuberRegressor, TheilSenRegressor, PassiveAggressiveRegressor"
      ]
    },
    {
      "cell_type": "code",
      "execution_count": null,
      "metadata": {
        "id": "iVyZvaQoVQyl"
      },
      "outputs": [],
      "source": [
        "param_distributions = {\n",
        "    'n_estimators': [100, 200, 300],\n",
        "    'max_depth': [None, 5, 10],\n",
        "    'min_samples_split': [2, 5, 10]\n",
        "}\n",
        "random_search = RandomizedSearchCV(estimator=rf_regressor, param_distributions=param_distributions, n_iter=10)\n",
        "random_search.fit(X_train, y_train)\n",
        "y_pred_random_search = random_search.predict(X_test)"
      ]
    },
    {
      "cell_type": "code",
      "execution_count": null,
      "metadata": {
        "colab": {
          "base_uri": "https://localhost:8080/"
        },
        "id": "YftToR8ZVaQC",
        "outputId": "e4bb0ecb-5a6e-4a03-b5fa-3aac9f2e757a"
      },
      "outputs": [
        {
          "output_type": "stream",
          "name": "stdout",
          "text": [
            "RandomizedSearchCV - Mean Squared Error (MSE): 1148818530.5272913\n",
            "RandomizedSearchCV - Root Mean Squared Error (RMSE): 33894.22562218071\n",
            "RandomizedSearchCV - R-squared (R2): 0.8307821507042109\n",
            "RandomizedSearchCV - Mean Absolute Error (MAE): 20970.11830415662\n"
          ]
        }
      ],
      "source": [
        "mse_random_search = mean_squared_error(y_test, y_pred_random_search)\n",
        "rmse_random_search = np.sqrt(mse_random_search)\n",
        "r2_random_search = r2_score(y_test, y_pred_random_search)\n",
        "mae_random_search = mean_absolute_error(y_test, y_pred_random_search)\n",
        "\n",
        "print('RandomizedSearchCV - Mean Squared Error (MSE):', mse_random_search)\n",
        "print('RandomizedSearchCV - Root Mean Squared Error (RMSE):', rmse_random_search)\n",
        "print('RandomizedSearchCV - R-squared (R2):', r2_random_search)\n",
        "print('RandomizedSearchCV - Mean Absolute Error (MAE):', mae_random_search)\n"
      ]
    },
    {
      "cell_type": "code",
      "execution_count": null,
      "metadata": {
        "colab": {
          "base_uri": "https://localhost:8080/"
        },
        "id": "ECXOt-V8VmkT",
        "outputId": "ed5067c0-8f31-431e-b4a5-6f43d0f3bd2c"
      },
      "outputs": [
        {
          "output_type": "stream",
          "name": "stdout",
          "text": [
            "[228835.44042152 144223.0747492  116776.39458194 242015.22276767\n",
            "  92012.63882448 122307.68353618 237572.2168065  136721.3266711\n",
            " 530063.28665782 128681.15265044 190769.77159779 162559.37230604\n",
            " 225210.28449072 124118.43629464 136521.16196744 151978.46276951\n",
            " 213262.12143676 101803.53707347 142460.63162967 170506.31040274\n",
            " 147065.499546   140074.96908137 126299.73638352 152044.32702777\n",
            " 201564.47477248 204762.55014115 173338.27160905  69223.81090567\n",
            " 323875.77555785 118392.30663003 168508.09253418 179183.56030118\n",
            " 136052.00929281 288073.06623611 356418.04100072 175341.94471414\n",
            " 275294.04768904 130648.17290936 232072.50790655 296547.65210543\n",
            " 210959.57016291 138294.86321788 182208.13564422 313394.16274141\n",
            " 340730.59540503 158034.68948798 126731.73547494 126233.9020185\n",
            " 185187.02006268  92991.54423356 418137.15146814 141958.49317626\n",
            " 172829.30544019  74849.2967003  230136.29612733 113612.32196786\n",
            " 123993.80473449 233718.23216071 151767.90612978 109606.59892278\n",
            " 147828.86531016 132113.46485948 144072.72450068 150607.83380997\n",
            " 193099.94495703 182582.58026576 116505.40914559 199936.20543944\n",
            " 126408.30987045 185081.88308989 170708.8656733  120071.59887571\n",
            "  87124.18263579 217427.64521675  98384.65679813 289214.7390334\n",
            " 124590.51611203 111866.19436751 276595.93788608 147864.25783732\n",
            " 131305.07355768 124356.93694922 141355.88380776 143700.66591516\n",
            " 199534.26110421 206808.32503678 108792.78420198 190587.80241296\n",
            " 163760.64347602 142443.64874651 181490.77936228 181782.58135929\n",
            " 168740.98592403 212722.64322475 193237.75901283 144346.23224875\n",
            " 215910.08185769 172668.98240097 117839.45679828 141880.34289992\n",
            " 266198.36671099 188578.92609054 102172.59241023 160379.97009666\n",
            "  96191.7082707  301687.62694303 143042.66325976 120821.03535049\n",
            " 174197.55513518 110225.21410351  94921.23851726 121544.59275898\n",
            " 190753.69698381 134118.3658234  169686.80852368 173534.35627796\n",
            " 458108.69332292 132225.2859233  184849.16179486 264275.27937758\n",
            " 125664.02621538 163723.32219647 143697.31939834 211071.09226367\n",
            " 227666.73599894 207503.36357678 415823.40687798 207158.2291891\n",
            " 192212.71469642 170072.01737014 215066.13047883 194007.75974489\n",
            " 159831.93819285 175106.59680542 112218.73604683 241143.69429438\n",
            " 133729.59411552 212195.9233909  113953.4480889  173709.25123359\n",
            " 142904.78313196 122985.25193485 215947.64966081 142110.32487538\n",
            " 131917.44919022 168555.88970608 232511.40925897 137320.27897919\n",
            " 303457.84044171 210494.5902438  179161.67281571 315116.97577126\n",
            " 310490.50282398 168595.48510324 166117.40921756 283055.66046622\n",
            " 125771.30032497 190888.08964419 117024.48891696 167324.06461767\n",
            " 115610.80938576 148950.81228235 198117.85532225 114206.6402699\n",
            " 255062.45702778 135165.13379936 136208.45840317 282398.26450634\n",
            " 203909.45702769 180736.17390009 187765.20298273 159605.43649465\n",
            " 177965.78224388 151903.26414475 142652.7523317   91171.25503163\n",
            " 127340.487768   233675.26899167 120065.35602981 145987.34750379\n",
            " 281431.29399572 187386.0964758  133509.97240685 302713.43935048\n",
            " 117121.70634445 171508.573343    89228.19186912 193755.86969968\n",
            " 202322.88665554 140074.96908137 143274.10108039 144509.53960159\n",
            " 228673.18499573 132482.79933136 132382.22292355 148353.28772141\n",
            "  82744.71201126 126446.98559067 188190.99190577 141272.69972329\n",
            " 144740.57583738 190451.98491655 116850.40920433 107956.59306906\n",
            " 149677.44388088 215827.47261899 148031.53813036 329305.98972644\n",
            " 291517.95088557  82598.23066317 153787.92705431 267815.77799723\n",
            "  89075.84885726  99715.38177857 327663.09735899 199695.72875787\n",
            " 201951.1889616  284028.10762895 289901.58754799  69223.81090567\n",
            " 204760.93443033 170940.78848937 144980.30219475 121197.13455307\n",
            " 190567.58555519 241035.39792075 252985.63510637 205541.98526347\n",
            " 127754.31498485 176870.17572518  89075.84885726 143856.41690539\n",
            "  96455.68107092 141268.11132486 206434.52846747 132946.06368136\n",
            " 151049.48320079 126127.94406505  83279.46830243 180612.64780417\n",
            " 119342.16407226 179557.82032178 202183.92847822 214934.24488349\n",
            " 167235.73222085 173142.41043348 216639.56201443 178370.66254173\n",
            " 117669.33921361 208969.56858603 171481.97345737 264254.86800853\n",
            " 103226.17368821 440244.9846464  220755.73419969 270168.38319134\n",
            "  94067.30028357 213744.48692386 413687.0682794  440592.66158026\n",
            " 208056.6138603  127514.88791739 140060.46626109  74913.25019596\n",
            " 432871.03781466 309954.92994607 322190.90786571  76652.75462083\n",
            " 224734.21644298 302209.79763922 131670.62724702 250189.92320126\n",
            " 137635.28314729 184384.90137392 156436.08207848 228176.76736974\n",
            " 187204.99700365 159837.34445639 220276.38309375 116567.84589657\n",
            " 129666.13295713 385262.80766962 131632.36618032 140810.36198115\n",
            " 210417.80626809 188893.85566393 117374.38817905 292753.05224625\n",
            " 465913.26197708 187837.23431293  70165.41231528  91620.58546398\n",
            " 336147.172754   126233.9020185  128912.66583645 290399.77752634\n",
            " 241040.97408016 175878.14705496 161088.62671904 164785.22423165\n",
            "  80633.71819171 137581.93493073 175883.88046351 166421.33020837\n",
            " 184120.19859985 167746.95504831 137711.07707656 165701.85118845\n",
            " 175618.68660766 177647.1736183  105035.21850294 142755.73366209\n",
            " 199732.76202512 121589.2913523  122074.57565806 140074.96908137\n",
            " 327705.97892101 135655.99848674 184558.61640094 193242.4183944\n",
            " 114451.89219512 268434.74619764 134468.57477993 263066.34433976\n",
            " 149824.18383774 236113.76690272 132688.0809617  336511.04747622\n",
            " 195180.34879024 139338.2706995  120332.21658344 214080.98121074\n",
            " 180838.61378333 182899.50968273 181016.8364965  145692.44589096\n",
            " 137650.71752181 177498.60519197 125605.13107516 137220.57899728\n",
            " 317832.14533759 165332.24006157 187297.3405971  219980.56159962\n",
            " 168949.48517364 147416.99622344 115435.00637361 102285.47398698\n",
            "  99699.63185227 130878.98291473 207778.06911681 392619.12429872\n",
            " 119072.34249022 101252.17273246 166049.97951752 424232.73902984\n",
            " 325349.86952423 137926.17943883 252474.53825206 212188.70529891\n",
            " 402542.8654198  169402.74078019 237331.73882142 256250.84696419\n",
            " 101596.72246117 178639.64757003 169185.20744523  94155.19526167\n",
            " 146482.27400507 163770.52914843 458818.88944095 101387.39623738\n",
            " 147570.8679513  139210.20067278 144401.46524297  70842.48694238\n",
            " 183367.84546118 303332.98020761 116870.68459768 252591.41223569\n",
            " 152106.32643901 108002.12813091 139388.77571396 134467.61264294\n",
            " 120319.78073719 114325.99327393 139726.77255003 195206.64858595\n",
            " 235712.25909188 398178.8556753  140949.17043905 121675.47531518\n",
            " 212619.97699029  67532.8787892  139702.52568948 168839.32389365\n",
            " 157838.87277825 175308.77035868 142726.49028892 174927.97128365\n",
            " 311033.97885417 224389.79961083 142564.41189726  82744.71201126\n",
            " 145787.16604935 242647.19085198 108577.16930779 302929.72025981\n",
            " 244630.52037876 237680.97152633 135459.02264893 118704.63003848\n",
            " 181266.00004246 144054.79706077 142481.74621067 128934.34622294\n",
            " 179902.56033688  89084.49881357 270976.08211945 141272.69972329\n",
            " 281602.63328388 385706.34482821 114789.82455377 159816.37320569\n",
            " 150477.39587075 113577.88627993 267089.04130254 129379.68836448\n",
            " 201152.94608759 128855.36602073 146687.76255978 207550.99489747\n",
            " 138088.38599562 189790.6821018  192450.58887006 353790.42399635\n",
            " 224426.21496222 448607.51841869]\n"
          ]
        }
      ],
      "source": [
        "print(y_pred_random_search)"
      ]
    },
    {
      "cell_type": "code",
      "source": [
        "filename = 'random_search_model.pkl'\n",
        "pickle.dump(y_pred_random_search, open(filename, 'wb'))"
      ],
      "metadata": {
        "id": "BJO86qa3xem3"
      },
      "execution_count": null,
      "outputs": []
    },
    {
      "cell_type": "markdown",
      "metadata": {
        "id": "G7qPPCJ0Vyd9"
      },
      "source": [
        "Huber"
      ]
    },
    {
      "cell_type": "code",
      "execution_count": null,
      "metadata": {
        "colab": {
          "base_uri": "https://localhost:8080/"
        },
        "id": "pz3ZIYaAVwOU",
        "outputId": "b5720f8a-8aa7-4965-92e0-7413448d8c41"
      },
      "outputs": [
        {
          "output_type": "stream",
          "name": "stderr",
          "text": [
            "/usr/local/lib/python3.10/dist-packages/sklearn/linear_model/_huber.py:342: ConvergenceWarning: lbfgs failed to converge (status=1):\n",
            "STOP: TOTAL NO. of ITERATIONS REACHED LIMIT.\n",
            "\n",
            "Increase the number of iterations (max_iter) or scale the data as shown in:\n",
            "    https://scikit-learn.org/stable/modules/preprocessing.html\n",
            "  self.n_iter_ = _check_optimize_result(\"lbfgs\", opt_res, self.max_iter)\n"
          ]
        }
      ],
      "source": [
        "huber = HuberRegressor()\n",
        "huber.fit(X_train, y_train)\n",
        "y_pred_huber = huber.predict(X_test)"
      ]
    },
    {
      "cell_type": "code",
      "execution_count": null,
      "metadata": {
        "colab": {
          "base_uri": "https://localhost:8080/"
        },
        "id": "no1T6aXRV0uX",
        "outputId": "75a3168f-9cb7-458a-f8e2-d540ddcd25d2"
      },
      "outputs": [
        {
          "output_type": "stream",
          "name": "stdout",
          "text": [
            "HuberRegressor - Mean Squared Error (MSE): 2593779450.893057\n",
            "HuberRegressor - Root Mean Squared Error (RMSE): 50929.161105333915\n",
            "HuberRegressor - R-squared (R2): 0.6179433317233483\n",
            "HuberRegressor - Mean Absolute Error (MAE): 28363.65538696673\n"
          ]
        }
      ],
      "source": [
        "mse_huber = mean_squared_error(y_test, y_pred_huber)\n",
        "rmse_huber = np.sqrt(mse_huber)\n",
        "r2_huber = r2_score(y_test, y_pred_huber)\n",
        "mae_huber = mean_absolute_error(y_test, y_pred_huber)\n",
        "\n",
        "print('HuberRegressor - Mean Squared Error (MSE):', mse_huber)\n",
        "print('HuberRegressor - Root Mean Squared Error (RMSE):', rmse_huber)\n",
        "print('HuberRegressor - R-squared (R2):', r2_huber)\n",
        "print('HuberRegressor - Mean Absolute Error (MAE):', mae_huber)"
      ]
    },
    {
      "cell_type": "code",
      "execution_count": null,
      "metadata": {
        "colab": {
          "base_uri": "https://localhost:8080/"
        },
        "id": "GjMjyvjIV2c-",
        "outputId": "81c85f9d-9c8e-4151-87fe-e49616e74240"
      },
      "outputs": [
        {
          "output_type": "stream",
          "name": "stdout",
          "text": [
            "[286387.96225366 147195.90440279 119449.26309247 223156.80130199\n",
            " 104775.99267543 121582.86304488 247907.58463562 143342.36626961\n",
            " 497897.55535792 132820.24992283 182869.30491377 223504.93821123\n",
            " 211317.7912051  106362.05603124 127031.03911048 154290.11467061\n",
            " 199312.34734327 109552.49424801 144086.3404318  168028.31552297\n",
            " 184397.81898376 123843.24110914 127124.54841962 155247.37667576\n",
            " 204116.92124203 187929.4927412  170558.70567267  69750.42216937\n",
            " 274223.9801186  128412.66963299 285701.85145061 179459.17542904\n",
            " 133167.24132342 292387.14310152 320089.04933192 158526.52041055\n",
            " 212440.37530357 130500.93462078 225315.36247405 291150.16398108\n",
            " 227371.9218722  137737.9910222  173520.93742201 300016.42159788\n",
            " 343162.9907654  201816.37081925 142661.68587077 108277.7126297\n",
            " 185090.10665209  61232.63959319 330192.03632518 155467.52069774\n",
            " 193423.27272561  87219.10935944 215585.69333513 169364.35862509\n",
            " 128263.52828037 250511.19736209 158279.49796645  94914.90168188\n",
            " 144424.8333423  124638.89230409 141189.48639105 161992.03755196\n",
            " 211907.18012959 195065.13138538 110343.4023449  197638.10333952\n",
            " 152653.4384182  185003.11297257 158874.54554852 120679.55421416\n",
            "  90314.70745098 197500.73601398  99151.98547084 279469.69449976\n",
            " 115586.57556539  90633.81537861 267979.6278822  153441.03199637\n",
            " 151512.32421677 105807.57072481 142947.24910208 157482.63502857\n",
            " 236116.48437342 185844.39292616 216143.09975275 185208.56376363\n",
            " 166938.94777607 128261.39780497 186095.89035551 181542.71219566\n",
            " 160642.25952221 200804.97673822 212049.24006836 149323.81308783\n",
            " 206840.02053115 191748.55417877 128629.33533388 178053.25332476\n",
            " 238932.96415509 172808.53491196  82409.04086396 157808.90518543\n",
            " 108988.9746496  252234.95469632 160880.85421359 115130.1869134\n",
            " 162456.77033281 120351.13517742  73566.61078199 121758.18238603\n",
            " 202803.35359863 139151.74499751 164177.3119587  171056.41851915\n",
            " 373443.64993976 124419.66408381 195894.92099317 294924.8484021\n",
            " 119575.20771802 162530.05553257 150133.03904847 201536.16335234\n",
            " 209389.48278898 197644.43521578 316947.52498149 184348.13966501\n",
            " 177939.32691435 184509.43544787 269015.50025296 230053.92506586\n",
            " 176420.37989494 192645.91989422 104090.1107047  225828.52837115\n",
            " 139774.21924064 187741.40653071 108211.118418   175505.11736564\n",
            " 133294.28157616 127278.7982012  257305.78609868 149609.17068305\n",
            " 164409.1528087  161885.51679645 230801.50759944 125977.91790752\n",
            " 234983.280439   201332.59813937 198757.53618389 306568.02290777\n",
            " 249272.0998132  203933.91296397 142462.10802485 289046.25691361\n",
            " 160763.55114031 165632.88687445 123949.52987096 140033.7943131\n",
            " 136684.51022779 169322.62723782 183847.08102175 147298.39611542\n",
            " 266780.80765396 134565.1868622  144433.052431   313150.88773469\n",
            " 184815.79798608 187164.47405792 214862.29741304 165228.39485416\n",
            " 189022.40734725 163762.75977586 146426.2329026   97614.18156943\n",
            " 126379.34885444 286926.63053833 124512.69821522 154275.04835128\n",
            " 252521.21456434 181758.08286733 134091.76576397 275312.60392863\n",
            " 133715.29115154 182866.47514328  96327.1487812  178956.83725078\n",
            " 220073.10656264 123843.24110914 143795.96618228 141076.69621595\n",
            " 206819.69701084 139823.68023024 142491.6632903  152956.07960572\n",
            "  78400.19901823 103786.2042768  188352.18720566 156916.81440066\n",
            " 140053.74242243 169611.47586047 111996.0234687  115104.6249646\n",
            " 157284.17000041 379822.38056436 152398.76262285 290201.320644\n",
            " 279928.70566414  95597.70387037 164348.90321029 209749.4371063\n",
            "  86539.50588297  86800.92926424 304298.42335331 242550.72833329\n",
            " 193581.63109525 290267.81316071 276071.49572906  69750.42216937\n",
            " 199349.39814635 195109.01291002 133394.99522129 104356.08940767\n",
            " 190145.3814484  279602.84356332 227062.11078004 229744.34677514\n",
            " 127716.73196361 170430.90550966  86539.50588297 142107.18356358\n",
            "  95621.76902049 132273.30599297 200670.63359695 137322.03020332\n",
            " 160184.27149817 102077.77813252  64287.72798599 199057.07646555\n",
            " 125381.39991295 185063.7811897  194634.02292398 204187.29932147\n",
            " 172467.01334254 152580.99997779 183157.44690613 177653.67813254\n",
            " 124773.83275116 205860.59522368 183285.23786925 297005.8412591\n",
            "  95645.8341706  332446.85204336 184054.76709354 238980.26519113\n",
            "  85995.75387179 237746.04819819 387502.46429083 762519.33288227\n",
            " 193850.46333156 143923.82507704 177576.06306253  79615.90744108\n",
            " 367368.9547594  249166.37010691 304966.22477338  64847.45184305\n",
            " 188821.31179154 274656.3119075  135988.00815112 204511.07850911\n",
            " 146053.82792392 194222.59623835 149663.93927956 226717.54643833\n",
            " 171852.80452292 157895.31407519 199711.78855824 132137.10574309\n",
            " 138314.581112   305626.93045961 141274.96750829 152017.22122013\n",
            " 189989.8365074  273920.8961775  119598.8067995  223968.36445684\n",
            " 379248.79346413 197239.6914106   62580.27977873 106353.26794627\n",
            " 288941.89213231 108277.7126297  132673.78344787 276566.61550335\n",
            " 265242.49441776 163680.98071368 164953.87614312 160642.44901853\n",
            "  95178.06284648 144002.39094545 172731.07712784 183523.1444755\n",
            " 185325.38615484 183880.15879077 150953.40327574 196414.33584739\n",
            " 158737.1404623  168562.9941544  102626.70123745 147115.02612412\n",
            " 193884.66804454 140140.33801765 135805.05660362 123843.24110914\n",
            " 301287.48892716 142154.51878524 182737.98370015 194778.51628785\n",
            " 117669.44766871 210523.36628561 121348.0125167  247828.98647411\n",
            " 178376.81159125 222736.64310984 144300.97269965 289365.57288561\n",
            " 228470.33982039 147367.35236239 113622.44862915 193321.20368664\n",
            " 189920.78520687 177035.69463297 203417.1830859  154951.05625077\n",
            " 158319.89315534 147116.2295165  128954.73700373 125731.99669578\n",
            " 296523.752326   163246.67847407 181540.03306239 200460.67832277\n",
            " 172627.18961815 150530.73775657 119735.33156094  88459.10121549\n",
            "  68166.19904897 147153.75257872 200311.47679843 323485.5355287\n",
            " 109269.9228281   58582.08257855 188123.75420822 325251.3033407\n",
            " 312847.85312964 155709.93606593 215357.42803023 235184.57729966\n",
            " 300937.11022514 179317.05105732 207342.76679186 254991.43586971\n",
            "  88127.66500019 212152.88350808 140189.42869785 100134.00383345\n",
            " 182845.13922675 164622.26421485 350614.77731084 111886.31769259\n",
            " 202857.23584061 136764.73789708 157960.41230329  76715.78478313\n",
            " 205563.66642217 213687.27048798 106291.39783053 226798.35502354\n",
            " 161114.04309092 121855.95181366 148460.78432453 146772.54088909\n",
            " 117380.60976116 121660.06014414 157651.20821888 181856.65614824\n",
            " 275784.73615173 382102.4358978  128612.49285161 118466.58343165\n",
            " 223398.46574889  62763.7081364  136339.4947772  158713.07531218\n",
            " 149521.69861785 174333.89999669 149794.19546714 172303.92466777\n",
            " 289395.02904739 213493.52416277 150430.05003052  78400.19901823\n",
            " 140086.78749289 299479.36369964 124219.06211735 267390.3332184\n",
            " 282201.52179757 263373.74885811 140506.13694559 121701.66568245\n",
            " 183061.24613565 155341.15654613 121930.75282495 140130.24258948\n",
            " 188107.96788533  95843.32167548 267489.53893023 156916.81440066\n",
            " 259290.19797958 324374.68670122 111021.46906758 166959.47845812\n",
            " 165578.7510993  115643.377256   282732.44376052 159116.9895484\n",
            " 183964.0383527  126717.84283595 172954.71561358 198392.63563444\n",
            " 213012.22635337 183367.27188895 207227.86384546 327838.94849128\n",
            " 212863.5639364  351834.42711041]\n"
          ]
        }
      ],
      "source": [
        "print(y_pred_huber)"
      ]
    },
    {
      "cell_type": "code",
      "source": [
        "filename = 'huber_model.pkl'\n",
        "pickle.dump(y_pred_huber, open(filename, 'wb'))"
      ],
      "metadata": {
        "id": "mzZ1RWByxivu"
      },
      "execution_count": null,
      "outputs": []
    },
    {
      "cell_type": "markdown",
      "metadata": {
        "id": "OKWIL-_KV7u9"
      },
      "source": [
        "TheilSen"
      ]
    },
    {
      "cell_type": "code",
      "execution_count": null,
      "metadata": {
        "id": "P-zImiItV33n"
      },
      "outputs": [],
      "source": [
        "theil_sen = TheilSenRegressor()\n",
        "theil_sen.fit(X_train, y_train)\n",
        "y_pred_theil_sen = theil_sen.predict(X_test)"
      ]
    },
    {
      "cell_type": "code",
      "execution_count": null,
      "metadata": {
        "colab": {
          "base_uri": "https://localhost:8080/"
        },
        "id": "2SXS2PQJV_qQ",
        "outputId": "da823412-99c2-4241-d99a-33c9306eab9a"
      },
      "outputs": [
        {
          "output_type": "stream",
          "name": "stdout",
          "text": [
            "TheilSenRegressor - Mean Squared Error (MSE): 2029190596.0982852\n",
            "TheilSenRegressor - Root Mean Squared Error (RMSE): 45046.53811446874\n",
            "TheilSenRegressor - R-squared (R2): 0.7011057365819233\n",
            "TheilSenRegressor - Mean Absolute Error (MAE): 25024.8497183671\n"
          ]
        }
      ],
      "source": [
        "mse_theil_sen = mean_squared_error(y_test, y_pred_theil_sen)\n",
        "rmse_theil_sen = np.sqrt(mse_theil_sen)\n",
        "r2_theil_sen = r2_score(y_test, y_pred_theil_sen)\n",
        "mae_theil_sen = mean_absolute_error(y_test, y_pred_theil_sen)\n",
        "\n",
        "print('TheilSenRegressor - Mean Squared Error (MSE):', mse_theil_sen)\n",
        "print('TheilSenRegressor - Root Mean Squared Error (RMSE):', rmse_theil_sen)\n",
        "print('TheilSenRegressor - R-squared (R2):', r2_theil_sen)\n",
        "print('TheilSenRegressor - Mean Absolute Error (MAE):', mae_theil_sen)"
      ]
    },
    {
      "cell_type": "code",
      "execution_count": null,
      "metadata": {
        "colab": {
          "base_uri": "https://localhost:8080/"
        },
        "id": "uo-MDc_UWCJS",
        "outputId": "f18e496d-9c38-4418-a62a-957ab2f9ffbb"
      },
      "outputs": [
        {
          "output_type": "stream",
          "name": "stdout",
          "text": [
            "[268985.35011966 158939.68245831 123363.05015485 224326.06285564\n",
            " 122816.31735383 120409.95158615 263401.45490546 152388.44984297\n",
            " 488726.86018068 154635.98478287 195557.45670738 192967.60605944\n",
            " 215127.49287008 109240.38807161 142282.5660699  145948.03267859\n",
            " 212885.62871973 107864.78766519 138011.98618598 188857.68558477\n",
            " 163018.17348514 131324.19509065 117499.26637376 152144.47231462\n",
            " 193024.74834286 213591.04633851 165458.52803763  76758.54000143\n",
            " 302308.73446524 124276.96041538 248126.85028603 195101.92221829\n",
            " 139707.33867147 296934.57292874 322308.76936254 173237.70922506\n",
            " 254849.83382723 119474.24585418 226289.45850719 297434.30096596\n",
            " 233747.37308686 146510.88879964 187454.99537042 307344.15361621\n",
            " 335620.93531081 182993.97201112 132103.79254024 109964.86839159\n",
            " 176688.07170533  74746.75636893 341034.83284435 139637.89218156\n",
            " 187908.36854006  90410.72647608 224956.37127756 118132.15816507\n",
            " 124474.75830183 263991.41295234 141413.13476653  99618.4583038\n",
            " 150556.28366135 122788.2816263  138862.50875927 144362.8434129\n",
            " 207583.47806183 187251.26153874 111672.84872138 206286.33578571\n",
            " 135772.94881323 193649.57748175 173827.05545611 121595.26752678\n",
            "  73164.63585916 225759.02250132  91232.22682313 291657.13921984\n",
            " 117209.79995187  99918.88872202 259563.56060669 162807.26829435\n",
            " 138441.50439934 107987.59706107 143523.00582278 143107.44154891\n",
            " 230784.11259899 198666.98338986 154552.52899673 197482.18679865\n",
            " 165487.21870392 143163.89525394 178070.54154104 175244.94079938\n",
            " 157056.78339164 206596.02238116 215525.05311412 159517.69760933\n",
            " 216206.53668345 182271.66800267 100487.79975409 154849.51466374\n",
            " 241713.7239594  195227.75959117 117357.01566994 155664.13260961\n",
            " 122458.85858932 263532.83520971 141416.442972    97740.59741748\n",
            " 158661.89924414 151140.37906712  87979.42206762 103030.83961358\n",
            " 196310.5982832  124454.11233038 179233.59782658 165795.72446056\n",
            " 402560.6115191  122580.17994412 198081.79678455 304448.1367373\n",
            " 168341.42337817 178371.57509364 136156.75162321 212693.70370592\n",
            " 216356.00282217 207486.0630876  334769.10996761 198156.69013228\n",
            " 192947.57743955 186212.40093086 260390.30689479 234189.87571575\n",
            " 175151.58178941 185662.29364501  89191.07384582 231159.07777808\n",
            " 153695.89282522 200246.08850708  92410.06614052 170633.92989883\n",
            " 148309.1933965  128508.76411228 245230.61685581 134685.34413973\n",
            " 128922.31010289 158171.92515887 246747.58499951 123791.30624901\n",
            " 272709.00182546 210812.62709484 191754.08640051 334915.69840382\n",
            " 285396.62708669 195846.0838719  191501.76163866 274728.09274431\n",
            " 132723.27986849 196238.28708446 136664.29058723 167573.34404226\n",
            " 108146.80125979 150659.07057545 195410.28171469 116441.80063679\n",
            " 280389.059786   147284.85091614 149975.88384539 297198.57597764\n",
            " 197295.91210741 179162.09913905 208467.98483801 166806.37698124\n",
            " 184725.12459333 164616.49940651 132632.25535511 103942.05512538\n",
            " 126748.18471771 257950.69726631 143546.97688149 155797.58426635\n",
            " 267021.13706067 205827.51734469 139963.89087343 285714.86571646\n",
            " 105379.76787695 183331.93140269 116412.52922967 194934.28872941\n",
            " 224752.78384053 131324.19509065 130093.91686666 160079.71985703\n",
            " 215441.35233693 129051.51437515 137970.59004701 156103.99693174\n",
            "  69103.78057325 135369.75746906 179507.36438862 137713.80351798\n",
            " 141187.50692523 202816.44642408 112621.55394463 129751.79110639\n",
            " 164581.64692253 316369.86296038 161738.66516701 312281.01506788\n",
            " 289401.23106829  79410.9097172  147315.05340308 237755.40532\n",
            "  70640.77322193 107631.79276772 329064.36278966 232056.68393515\n",
            " 205384.04997335 277645.82092274 287701.56428178  76758.54000143\n",
            " 211962.73839055 188902.68036466 155553.04055623 106933.45539001\n",
            " 203887.00173484 270509.61522694 247358.78419949 223613.24126541\n",
            " 131843.34921292 191742.95472046  70640.77322193 163328.21190251\n",
            "  96977.60098288 128644.44484305 206481.42021307 149077.37060524\n",
            " 161769.47271641 105089.3906641   96144.45240108 191046.8729044\n",
            " 121422.91052508 178398.40287177 201836.10898543 210826.10402847\n",
            " 169807.53087945 189661.45889251 217400.02736686 189221.11553837\n",
            " 126845.73288011 215939.30482205 185466.0339392  306893.915924\n",
            " 114544.29224855 356962.90554254 215357.13839506 239133.89122859\n",
            " 110698.6443117  239675.11524912 370297.68098197 680176.01576661\n",
            " 219412.20226236 117587.83056781 161377.98824503  96567.58459068\n",
            " 404439.79835491 275241.44247565 307856.87517951  58588.87468567\n",
            " 204564.12345214 285305.18833719 132333.58452876 217429.51537709\n",
            " 139903.50721599 191107.93366745 181645.13349778 227615.14972731\n",
            " 213097.8229298  184439.90594771 204385.81478877 114390.31334468\n",
            " 126678.9892455  326902.4876631  150432.76969193 145124.93493217\n",
            " 203651.93612251 232368.85310021 134475.99966529 245309.69076211\n",
            " 385248.92767394 213608.46343668  77068.69031704 107640.91549115\n",
            " 314089.17502456 109964.86839159 122629.39271315 291373.15610432\n",
            " 262129.29149971 179764.83969799 168540.49437805 175821.90980346\n",
            "  81855.10011344 148820.41849334 183875.85887017 178448.15523049\n",
            " 182871.12646117 178782.82918559 140332.61571434 173998.1999625\n",
            " 173290.4584462  185346.33721561 121024.3799903  148620.32052092\n",
            " 202931.01378395 135336.68570797 129499.07680931 131324.19509065\n",
            " 302624.1407277  118134.52898897 195435.02072156 191351.66419806\n",
            " 152749.52928549 238360.24902457 137727.49639151 270545.23652877\n",
            " 170438.42666884 225808.19233781 132530.0888957  314064.81976482\n",
            " 226238.7178762  139905.96191547 114188.70205339 224214.05708676\n",
            " 177544.63681345 190684.58380695 195866.36474127 139053.24178331\n",
            " 126311.89640748 191222.65416103 160038.07121198 123796.33410915\n",
            " 322472.12533494 161901.67476354 201360.99341775 204931.64289974\n",
            " 170970.56832714 140643.95179978 100201.22186982 107642.38294804\n",
            "  92966.9265027  134166.27634807 207607.61955197 337466.35941004\n",
            " 110795.45837593  89237.53739247 181262.80168547 361851.87942256\n",
            " 310424.69212138 149459.16947967 240432.23564036 215455.69036964\n",
            " 346804.76534689 184151.85216098 215589.1449137  268543.02213159\n",
            " 108668.66768984 195258.98693353 167610.31715235  92365.48974579\n",
            " 155390.45538058 169489.94905404 356316.912051   111333.92404571\n",
            " 171700.16497148 132181.345244   159870.18254515  82202.13334259\n",
            " 197381.24550074 238451.15538843 108338.97761809 250864.25601013\n",
            " 159261.04449846 104392.4521216  139524.40813866 157253.11159189\n",
            " 116948.62946121  86928.88790162 142032.37618193 193706.10063555\n",
            " 270936.06508309 385122.66715005 125826.88910662 125491.11737397\n",
            " 229424.75929471  72879.37584345 131909.17645176 155723.76718052\n",
            " 172097.20031608 169832.07975911 145810.29670306 166830.95998321\n",
            " 312674.34699567 220782.28421694 143475.58869353  69103.78057325\n",
            " 151428.68221354 287786.20209508 107622.18034502 275060.48758868\n",
            " 274441.05586059 279636.12150691 153420.90733801 119020.47288192\n",
            " 194209.53994354 138590.28268995 149436.8014714  128966.87369603\n",
            " 207818.35388286 116061.14867265 259626.37711366 137713.80351798\n",
            " 272946.87786968 338530.3953595   94487.75482336 163106.67743696\n",
            " 149566.61050081  97544.99544952 274206.23352433 126836.84393589\n",
            " 200503.71454906 124249.23758997 152570.72999571 205860.08907997\n",
            " 205375.3214895  195169.04364048 202410.40297259 328576.669877\n",
            " 219939.98092536 365003.25584459]\n"
          ]
        }
      ],
      "source": [
        "print(y_pred_theil_sen)"
      ]
    },
    {
      "cell_type": "code",
      "source": [
        "filename = 'theilsen_model.pkl'\n",
        "pickle.dump(y_pred_theil_sen, open(filename, 'wb'))"
      ],
      "metadata": {
        "id": "PhLbDdjuxlvK"
      },
      "execution_count": null,
      "outputs": []
    },
    {
      "cell_type": "markdown",
      "metadata": {
        "id": "l1iWs_swWGEX"
      },
      "source": [
        "Passive Aggressive"
      ]
    },
    {
      "cell_type": "code",
      "execution_count": null,
      "metadata": {
        "id": "YMbOht-VWDKH"
      },
      "outputs": [],
      "source": [
        "passive_aggressive = PassiveAggressiveRegressor()\n",
        "passive_aggressive.fit(X_train, y_train)\n",
        "y_pred_passive_aggressive = passive_aggressive.predict(X_test)"
      ]
    },
    {
      "cell_type": "code",
      "execution_count": null,
      "metadata": {
        "colab": {
          "base_uri": "https://localhost:8080/"
        },
        "id": "0ITfvcrOWIDA",
        "outputId": "dffc6f7f-d6b8-4d46-9741-52a9087a8ded"
      },
      "outputs": [
        {
          "output_type": "stream",
          "name": "stdout",
          "text": [
            "PassiveAggressiveRegressor - Mean Squared Error (MSE): 2706960605.653253\n",
            "PassiveAggressiveRegressor - Root Mean Squared Error (RMSE): 52028.45957409515\n",
            "PassiveAggressiveRegressor - R-squared (R2): 0.6012720550330745\n",
            "PassiveAggressiveRegressor - Mean Absolute Error (MAE): 29028.815054032144\n"
          ]
        }
      ],
      "source": [
        "mse_pa = mean_squared_error(y_test, y_pred_passive_aggressive)\n",
        "rmse_pa = np.sqrt(mse_pa)\n",
        "r2_pa = r2_score(y_test, y_pred_passive_aggressive)\n",
        "mae_pa = mean_absolute_error(y_test, y_pred_passive_aggressive)\n",
        "\n",
        "print('PassiveAggressiveRegressor - Mean Squared Error (MSE):', mse_pa)\n",
        "print('PassiveAggressiveRegressor - Root Mean Squared Error (RMSE):', rmse_pa)\n",
        "print('PassiveAggressiveRegressor - R-squared (R2):', r2_pa)\n",
        "print('PassiveAggressiveRegressor - Mean Absolute Error (MAE):', mae_pa)"
      ]
    },
    {
      "cell_type": "code",
      "execution_count": null,
      "metadata": {
        "colab": {
          "base_uri": "https://localhost:8080/"
        },
        "id": "bTIsgqMKWMZ6",
        "outputId": "c6b90ca2-4fae-4684-9176-887b709cab94"
      },
      "outputs": [
        {
          "output_type": "stream",
          "name": "stdout",
          "text": [
            "[304336.8538337  148790.79522661 125734.45124547 222529.46059883\n",
            " 103929.6064612  130243.23556692 254689.1003734  145373.45441571\n",
            " 490145.26804777 131002.82707258 192520.20101594 235573.77545412\n",
            " 208435.64918677 114155.89611733 135923.93114047 165144.04725749\n",
            " 197896.70387878 116694.35162111 154206.25706524 166041.62523798\n",
            " 185973.04969372 129846.10862392 132897.74860718 152241.35253159\n",
            " 201247.10322248 185953.89441231 167765.43114429  74268.32509189\n",
            " 282614.59010552 132027.00633695 294060.52550209 178632.24403054\n",
            " 139619.14334811 285672.34027408 330706.59395228 156322.42090554\n",
            " 223563.91639039 136763.68891038 219663.3599764  290348.41269442\n",
            " 242511.67784111 147072.23221172 182875.90044828 308964.19295726\n",
            " 336516.97435227 215958.13705188 148468.97327657 116135.60647917\n",
            " 183786.46627137  68994.57093833 326678.52991665 163114.08728135\n",
            " 202942.52218555  92888.63673527 227297.95285009 170939.72641498\n",
            " 126724.7571887  243756.30744613 166281.33155281 101737.18945569\n",
            " 151872.11381319 133516.7332711  152120.6417749  170219.20489622\n",
            " 223833.27943644 205656.52087424 118188.14829498 194931.50580688\n",
            " 151275.33370547 181928.76802469 156581.88984088 129356.46069738\n",
            "  96673.38806606 207605.97576493 107299.46356199 286989.60773096\n",
            " 124142.52987679 102245.99344982 266976.21216678 164258.99891691\n",
            " 158136.07874908 113577.28461327 143569.21074724 164499.98272846\n",
            " 252162.72112366 195375.9171184  211171.26629536 194974.84431291\n",
            " 175588.74603735 137363.39729857 182794.33969055 179095.01380887\n",
            " 157259.87490786 197690.21292431 217865.88376146 159985.01512132\n",
            " 217426.95132645 194831.78726929 134778.98504013 181559.20403283\n",
            " 251338.20052519 161405.37524042  92713.89837503 155276.4103603\n",
            " 114010.10321876 250092.36313577 160732.77382761 123510.48426896\n",
            " 160830.09653335 119893.98286403  80068.89668139 130399.43634691\n",
            " 201347.69309172 141454.16053407 161607.52701575 169136.35108473\n",
            " 385880.45060945 133341.71723824 196849.05140669 288714.36667306\n",
            " 127317.84747319 160396.06686634 157151.25610747 200236.63282653\n",
            " 220759.59999573 208207.69399011 328600.16694546 193607.69424336\n",
            " 186765.26010392 195289.56932329 271007.41053752 234854.88163153\n",
            " 172514.2120757  202956.47469234 111617.26085028 237839.91212498\n",
            " 142027.43807666 197359.1601206  116012.61287492 173101.65408292\n",
            " 142952.6861085  134703.84422247 273406.1600036  157019.99664269\n",
            " 173415.99932422 158575.80729272 238304.63536794 135013.36538837\n",
            " 247495.88576033 212006.22257312 208941.92244319 313576.58012959\n",
            " 262115.10265431 203634.30200667 140839.94189982 284755.8197044\n",
            " 168736.26990926 163788.79295136 132020.52427436 138743.48721292\n",
            " 142816.70495531 177804.92999174 181137.43467877 154130.31202977\n",
            " 274007.74685513 136345.79245857 154552.49982522 307004.98330274\n",
            " 194507.64622334 186301.14057683 224677.58812237 164513.14947913\n",
            " 198332.01638114 171841.71623796 153452.48234119  97534.39520012\n",
            " 135684.66538891 287101.57183967 127914.57133209 161960.64320179\n",
            " 256684.69886288 183064.75815442 135303.64802927 283745.47240018\n",
            " 139831.334939   182950.20057877  95892.67177745 187611.46740945\n",
            " 226880.99499965 129846.10862392 150842.97189913 152172.59539017\n",
            " 217786.94955252 146284.0857935  145727.64398959 160062.75452189\n",
            "  84249.73939448 112976.29442398 185653.60513771 156201.68860678\n",
            " 150964.30739296 178339.23653978 121863.65040552 122592.51837898\n",
            " 153985.73635079 366733.5050755  163553.33845931 290203.44158853\n",
            " 289072.02438775 101839.57926262 172284.88645163 221499.45367614\n",
            "  93578.78833863  92422.89951376 313112.5158788  243497.98661438\n",
            " 203640.38764974 289324.340078   283886.17536077  74268.32509189\n",
            " 209815.588703   205052.87001134 135082.7467511  111902.11830779\n",
            " 200864.42610791 271848.92811438 232489.64428983 243152.82217851\n",
            " 137842.92213094 180097.55811328  93578.78833863 140351.86014595\n",
            " 101845.24233588 141830.44069945 198703.93109892 138514.32607909\n",
            " 157470.93062489 109574.9393485   72143.66857127 209639.81569946\n",
            " 125893.5236358  183356.5447239  192671.88390685 201822.27993712\n",
            " 181481.24972196 160284.36142723 192776.24205227 174760.4881375\n",
            " 129495.59627127 216056.40978485 193383.93833563 290983.02294476\n",
            " 101850.90540914 323946.19208962 193391.33217266 252165.86467716\n",
            "  92142.48133965 245695.73183656 379244.33774293 787183.68947837\n",
            " 193064.26814017 143019.56888262 179166.69448687  78190.80031656\n",
            " 376306.18742818 259493.63799864 312100.68526164  69680.8635789\n",
            " 186371.26477823 282996.41658902 136705.12809778 206783.33882366\n",
            " 148956.85573838 205511.5068433  157722.71185797 221937.33656406\n",
            " 172423.93297685 157848.91573838 194441.30109566 136666.98325182\n",
            " 144650.74388567 316063.03334962 140082.82770972 155640.60350069\n",
            " 199184.46755376 289313.40905779 120038.36050824 236274.75298741\n",
            " 393509.65994019 201073.55826987  67550.03209289 106402.55018354\n",
            " 298247.79626693 116135.60647917 139503.04543644 284418.76468818\n",
            " 272152.8947474  172387.24388967 174327.49724515 158155.1300925\n",
            "  95576.08468433 146536.29687702 168920.3600974  193266.25709119\n",
            " 184636.41267847 193716.17459026 158874.89769528 206637.12337586\n",
            " 156414.32613119 177213.3703727  109594.42405077 145130.15757946\n",
            " 193420.75413621 144653.39247044 137259.27081145 129846.10862392\n",
            " 300249.69975856 150753.7518746  192835.48733582 193270.39323741\n",
            " 124289.51370844 222324.40419198 130047.57824812 261072.15932706\n",
            " 177461.20745509 221302.41309065 151053.33387573 298791.51672811\n",
            " 240028.69413405 158772.86968029 121758.03026107 192103.41888399\n",
            " 189115.67169018 186428.21147988 213719.45402066 162636.38367877\n",
            " 166290.54458592 145875.64656849 128107.37608616 134688.37264653\n",
            " 305072.78756536 171934.59097742 180627.44016998 195077.83798342\n",
            " 181234.54850988 151636.44345922 122923.86626509  95513.5592931\n",
            "  75520.71681998 153839.65020392 197185.93626673 317776.2814011\n",
            " 117105.23097061  65995.19693219 197704.31789902 335971.20201263\n",
            " 306348.15744279 155745.44795954 226947.5662722  238386.60719519\n",
            " 298777.36928634 179778.87413513 218243.03361991 262703.35102705\n",
            "  93837.10039807 213808.21129706 138828.74046874 108625.92698343\n",
            " 176765.95090859 173866.38834839 356248.47976305 113004.64658429\n",
            " 199484.0383059  146575.30524711 165455.24525074  81692.87973451\n",
            " 216244.90050988 225439.12299452 114135.67338177 237946.7750444\n",
            " 159535.35233256 138482.34273202 150187.40179051 152062.49419282\n",
            " 126046.60622082 130403.55319363 165165.06111854 178999.95740879\n",
            " 283117.89721865 389928.03833882 137858.95703465 124967.38234166\n",
            " 238261.22385627  67068.19789015 146026.03096014 156408.66305793\n",
            " 156558.53490078 171939.8018714  161116.6740132  170970.75117695\n",
            " 282531.74573376 224643.95467069 150476.32598914  84249.73939448\n",
            " 150448.05214126 291198.52287149 126021.97547145 261220.32139644\n",
            " 275376.73581019 269460.3701704  144878.25493389 123911.8845199\n",
            " 186485.37475726 170291.84988557 145364.69832028 146236.6207359\n",
            " 199556.24339175  95334.28300895 263189.14566443 156201.68860678\n",
            " 255732.15952449 315376.75093725 119197.56347728 166871.72530214\n",
            " 174040.21122054 125009.47681265 298724.1284387  166262.07076058\n",
            " 183270.37075187 135994.0638886  182003.39759897 195482.47539092\n",
            " 216013.10676718 193111.42763852 219248.81744512 338918.37450872\n",
            " 224113.22795135 364807.18864521]\n"
          ]
        }
      ],
      "source": [
        "print(y_pred_passive_aggressive)"
      ]
    },
    {
      "cell_type": "code",
      "source": [
        "filename = 'passive_aggressive_model.pkl'\n",
        "pickle.dump(y_pred_passive_aggressive, open(filename, 'wb'))"
      ],
      "metadata": {
        "id": "T18hX2HwxpKT"
      },
      "execution_count": null,
      "outputs": []
    },
    {
      "cell_type": "markdown",
      "metadata": {
        "id": "y9dx_734WehJ"
      },
      "source": [
        "#### Ranking Models based on MAE score"
      ]
    },
    {
      "cell_type": "code",
      "execution_count": null,
      "metadata": {
        "colab": {
          "base_uri": "https://localhost:8080/"
        },
        "id": "zOqZKAdmWPKf",
        "outputId": "653dfd71-b656-44de-eb3c-704c8d31ac57"
      },
      "outputs": [
        {
          "output_type": "stream",
          "name": "stdout",
          "text": [
            "Models ranked by MAE score (lowest to highest):\n",
            "GaussianProcessRegressor: 176680.49326934363\n",
            "NuSVR: 56809.33699241752\n",
            "SVM: 56382.27617202679\n",
            "Decision Tree: 29617.408784518375\n",
            "MLP: 29230.92024584914\n",
            "PassiveAggressiveRegressor: 29028.815054032144\n",
            "Bayesian Ridge: 28659.970205921774\n",
            "LinearSVR: 28610.50868280209\n",
            "HuberRegressor: 28363.65538696673\n",
            "KNeighborsRegressor: 27367.762557077625\n",
            "Kernel Ridge: 25671.70598306177\n",
            "Lasso: 25261.392801243113\n",
            "Linear Regression: 25260.81802266962\n",
            "Ridge: 25258.492459569177\n",
            "Elastic Net: 25106.565973318993\n",
            "TheilSenRegressor: 25024.8497183671\n",
            "AdaBoost: 24162.506340703734\n",
            "Voting Regressor: 24037.314109400202\n",
            "LightGBM: 22890.27435436724\n",
            "HistGradientBoostingRegressor: 22825.113262827024\n",
            "XGBoost: 22779.607751855023\n",
            "Stacking Regressor: 21805.52970819907\n",
            "Extra Trees: 21470.609940204395\n",
            "Random Forest: 21035.32643142866\n",
            "RandomizedSearchCV (RF): 20970.11830415662\n",
            "Gradient Boosting: 20900.2155865613\n",
            "Average MAE across all models: 33277.37\n"
          ]
        }
      ],
      "source": [
        "mae_scores = {\n",
        "    'Linear Regression': mae_lr,\n",
        "    'Decision Tree': mae_dt,\n",
        "    'Random Forest': mae_rf,\n",
        "    'Gradient Boosting': mae_gb,\n",
        "    'SVM': mae_sv,\n",
        "    'Lasso': mae_l,\n",
        "    'Elastic Net': mae_e,\n",
        "    'Kernel Ridge': mae_kr,\n",
        "    'XGBoost': mae_xg,\n",
        "    'LightGBM': mae_lgbm,\n",
        "    'Ridge': mae_ridge,\n",
        "    'Bayesian Ridge': mae_br,\n",
        "    'NuSVR': mae_nusvr,\n",
        "    'LinearSVR': mae_lsvr,\n",
        "    'Extra Trees': mae_et,\n",
        "    'AdaBoost': mae_ab,\n",
        "    'MLP': mae_mlp,\n",
        "    'Voting Regressor': mae_voting,\n",
        "    'Stacking Regressor': mae_stacking,\n",
        "    'KNeighborsRegressor': mae_knn,\n",
        "    'GaussianProcessRegressor': mae_gpr,\n",
        "    'HistGradientBoostingRegressor': mae_hist_gb,\n",
        "    'RandomizedSearchCV (RF)': mae_random_search,\n",
        "    'HuberRegressor': mae_huber,\n",
        "    'TheilSenRegressor': mae_theil_sen,\n",
        "    'PassiveAggressiveRegressor': mae_pa\n",
        "}\n",
        "\n",
        "# Sort models by MAE score (ascending order)\n",
        "sorted_models = sorted(mae_scores.items(), key=lambda item: item[1])\n",
        "\n",
        "# Reverse the list to have lowest MAE at the top\n",
        "sorted_models.reverse()\n",
        "\n",
        "# Print ranked models\n",
        "print(\"Models ranked by MAE score (lowest to highest):\")\n",
        "for model_name, mae in sorted_models:\n",
        "    print(f\"{model_name}: {mae}\")\n",
        "\n",
        "average_mae = sum(mae_scores.values()) / len(mae_scores)\n",
        "\n",
        "print(f\"Average MAE across all models: {average_mae:.2f}\")"
      ]
    },
    {
      "cell_type": "code",
      "execution_count": null,
      "metadata": {
        "colab": {
          "base_uri": "https://localhost:8080/"
        },
        "id": "jKv5-tyBkfSa",
        "outputId": "920146d7-7cbe-4ac7-c2cd-36eb279ef85f"
      },
      "outputs": [
        {
          "output_type": "stream",
          "name": "stdout",
          "text": [
            "Average MAPE: 0.1890505952965492\n"
          ]
        }
      ],
      "source": [
        "from sklearn.metrics import mean_absolute_percentage_error\n",
        "\n",
        "# Calculate MAPE for all models\n",
        "mape_lr = mean_absolute_percentage_error(y_test, y_predlr)\n",
        "mape_dt = mean_absolute_percentage_error(y_test, y_preddt)\n",
        "mape_rf = mean_absolute_percentage_error(y_test, y_predrf)\n",
        "mape_gb = mean_absolute_percentage_error(y_test, y_predgb)\n",
        "mape_sv = mean_absolute_percentage_error(y_test, y_predsv)\n",
        "mape_l = mean_absolute_percentage_error(y_test, y_predl)\n",
        "mape_e = mean_absolute_percentage_error(y_test, y_prede)\n",
        "mape_kr = mean_absolute_percentage_error(y_test, y_predkr)\n",
        "mape_xg = mean_absolute_percentage_error(y_test, y_predxg)\n",
        "mape_lgbm = mean_absolute_percentage_error(y_test, y_predlgbm)\n",
        "mape_ridge = mean_absolute_percentage_error(y_test, y_pred_ridge)\n",
        "mape_br = mean_absolute_percentage_error(y_test, y_pred_bayesian_ridge)\n",
        "mape_nusvr = mean_absolute_percentage_error(y_test, y_pred_nusvr)\n",
        "mape_lsvr = mean_absolute_percentage_error(y_test, y_pred_linear_svr)\n",
        "mape_et = mean_absolute_percentage_error(y_test, y_pred_extra_trees)\n",
        "mape_ab = mean_absolute_percentage_error(y_test, y_pred_adaboost)\n",
        "mape_mlp = mean_absolute_percentage_error(y_test, y_pred_mlp)\n",
        "mape_voting = mean_absolute_percentage_error(y_test, y_pred_voting)\n",
        "mape_stacking = mean_absolute_percentage_error(y_test, y_pred_stacking)\n",
        "mape_knn = mean_absolute_percentage_error(y_test, y_pred_knn)\n",
        "mape_gpr = mean_absolute_percentage_error(y_test, y_pred_gpr)\n",
        "mape_hist_gb = mean_absolute_percentage_error(y_test, y_pred_hist_gb)\n",
        "mape_random_search = mean_absolute_percentage_error(y_test, y_pred_random_search)\n",
        "mape_huber = mean_absolute_percentage_error(y_test, y_pred_huber)\n",
        "mape_theil_sen = mean_absolute_percentage_error(y_test, y_pred_theil_sen)\n",
        "mape_pa = mean_absolute_percentage_error(y_test, y_pred_passive_aggressive)\n",
        "\n",
        "# Store MAPE scores in a list\n",
        "mape_scores = [mape_lr, mape_dt, mape_rf, mape_gb, mape_sv, mape_l,\n",
        "               mape_e, mape_kr, mape_xg, mape_lgbm, mape_ridge, mape_br,\n",
        "               mape_nusvr, mape_lsvr, mape_et, mape_ab, mape_mlp,\n",
        "               mape_voting, mape_stacking, mape_knn, mape_gpr,\n",
        "               mape_hist_gb, mape_random_search, mape_huber,\n",
        "               mape_theil_sen, mape_pa]\n",
        "\n",
        "# Calculate and print the average MAPE score\n",
        "average_mape = sum(mape_scores) / len(mape_scores)\n",
        "print('Average MAPE:', average_mape)"
      ]
    },
    {
      "cell_type": "markdown",
      "metadata": {
        "id": "B--iF2pkXca1"
      },
      "source": [
        "Similarity between Data X and Y"
      ]
    },
    {
      "cell_type": "code",
      "execution_count": null,
      "metadata": {
        "colab": {
          "base_uri": "https://localhost:8080/"
        },
        "id": "aY0jOs-qWn-o",
        "outputId": "9890eac4-64bb-452b-e207-8e7c14b3e92e"
      },
      "outputs": [
        {
          "output_type": "stream",
          "name": "stdout",
          "text": [
            "Percentage of elements in y present in X: 0.00%\n"
          ]
        }
      ],
      "source": [
        "import numpy as np\n",
        "\n",
        "# Flatten X to a 1D array\n",
        "X_flat = X.values.flatten()\n",
        "\n",
        "# Check if elements in y are present in flattened X\n",
        "common_elements = np.isin(y, X_flat)\n",
        "\n",
        "# Calculate the percentage of similarity\n",
        "similarity_percentage = np.mean(common_elements) * 100\n",
        "\n",
        "print(f\"Percentage of elements in y present in X: {similarity_percentage:.2f}%\")"
      ]
    },
    {
      "cell_type": "code",
      "execution_count": null,
      "metadata": {
        "colab": {
          "base_uri": "https://localhost:8080/"
        },
        "id": "VxagSFiLXjre",
        "outputId": "4e649bf5-3e51-4aba-a018-8b03a0837aef"
      },
      "outputs": [
        {
          "output_type": "stream",
          "name": "stdout",
          "text": [
            "      OverallQual  TotalSF  TotalLivingArea  GrLivArea  GarageScore  \\\n",
            "0               7     2566             4276       1710         1096   \n",
            "1               6     2524             3786       1262          920   \n",
            "2               7     2706             4492       1786         1216   \n",
            "3               7     2473             4190       1717         1926   \n",
            "4               8     3343             5541       2198         2508   \n",
            "...           ...      ...              ...        ...          ...   \n",
            "1455            6     2600             4247       1647          920   \n",
            "1456            6     3615             5688       2073         1000   \n",
            "1457            7     3492             5832       2340          252   \n",
            "1458            5     2156             3234       1078          240   \n",
            "1459            5     2512             3768       1256          276   \n",
            "\n",
            "      GarageCars  GarageArea  TotalBsmtSF  1stFlrSF  \n",
            "0              2         548          856       856  \n",
            "1              2         460         1262      1262  \n",
            "2              2         608          920       920  \n",
            "3              3         642          756       961  \n",
            "4              3         836         1145      1145  \n",
            "...          ...         ...          ...       ...  \n",
            "1455           2         460          953       953  \n",
            "1456           2         500         1542      2073  \n",
            "1457           1         252         1152      1188  \n",
            "1458           1         240         1078      1078  \n",
            "1459           1         276         1256      1256  \n",
            "\n",
            "[1460 rows x 9 columns]\n"
          ]
        }
      ],
      "source": [
        "print(X)"
      ]
    },
    {
      "cell_type": "code",
      "execution_count": null,
      "metadata": {
        "colab": {
          "base_uri": "https://localhost:8080/"
        },
        "id": "dSixS8fwX_uo",
        "outputId": "07453218-09ec-43fe-d570-238e15d04710"
      },
      "outputs": [
        {
          "output_type": "stream",
          "name": "stdout",
          "text": [
            "0       208500\n",
            "1       181500\n",
            "2       223500\n",
            "3       140000\n",
            "4       250000\n",
            "         ...  \n",
            "1455    175000\n",
            "1456    210000\n",
            "1457    266500\n",
            "1458    142125\n",
            "1459    147500\n",
            "Name: SalePrice, Length: 1460, dtype: int64\n"
          ]
        }
      ],
      "source": [
        "print(y)"
      ]
    },
    {
      "cell_type": "code",
      "execution_count": null,
      "metadata": {
        "id": "v43hxFTWYB1b"
      },
      "outputs": [],
      "source": []
    }
  ],
  "metadata": {
    "colab": {
      "provenance": [],
      "authorship_tag": "ABX9TyMOQjw9Zpb5+npOS2uF2/El",
      "include_colab_link": true
    },
    "kernelspec": {
      "display_name": "Python 3",
      "name": "python3"
    },
    "language_info": {
      "name": "python"
    }
  },
  "nbformat": 4,
  "nbformat_minor": 0
}
