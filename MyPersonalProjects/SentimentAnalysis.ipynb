{
  "cells": [
    {
      "cell_type": "markdown",
      "metadata": {
        "id": "view-in-github",
        "colab_type": "text"
      },
      "source": [
        "<a href=\"https://colab.research.google.com/github/Drozeler/Machine-Learning/blob/main/SentimentAnalysis.ipynb\" target=\"_parent\"><img src=\"https://colab.research.google.com/assets/colab-badge.svg\" alt=\"Open In Colab\"/></a>"
      ]
    },
    {
      "cell_type": "code",
      "execution_count": null,
      "metadata": {
        "id": "3hA85ilmthn0",
        "outputId": "7c688bae-df28-48b7-da55-9331a7b56ea5",
        "colab": {
          "base_uri": "https://localhost:8080/"
        }
      },
      "outputs": [
        {
          "output_type": "stream",
          "name": "stdout",
          "text": [
            "Requirement already satisfied: nltk in /usr/local/lib/python3.10/dist-packages (3.8.1)\n",
            "Requirement already satisfied: click in /usr/local/lib/python3.10/dist-packages (from nltk) (8.1.7)\n",
            "Requirement already satisfied: joblib in /usr/local/lib/python3.10/dist-packages (from nltk) (1.4.2)\n",
            "Requirement already satisfied: regex>=2021.8.3 in /usr/local/lib/python3.10/dist-packages (from nltk) (2023.12.25)\n",
            "Requirement already satisfied: tqdm in /usr/local/lib/python3.10/dist-packages (from nltk) (4.66.4)\n"
          ]
        }
      ],
      "source": [
        "!pip install nltk"
      ]
    },
    {
      "cell_type": "code",
      "execution_count": null,
      "metadata": {
        "id": "X_oTgkJYvvzF"
      },
      "outputs": [],
      "source": [
        "import nltk\n",
        "from nltk.tokenize import word_tokenize\n",
        "from nltk.corpus import stopwords\n",
        "from nltk.stem import WordNetLemmatizer\n",
        "from nltk.probability import FreqDist\n",
        "from nltk.sentiment.vader import SentimentIntensityAnalyzer\n",
        "from  nltk import pos_tag, ne_chunk\n",
        "import re"
      ]
    },
    {
      "cell_type": "code",
      "execution_count": null,
      "metadata": {
        "colab": {
          "base_uri": "https://localhost:8080/"
        },
        "id": "DcqKscyiwRar",
        "outputId": "68eae518-2b1c-4493-a382-2b649f47eb7d"
      },
      "outputs": [
        {
          "output_type": "stream",
          "name": "stderr",
          "text": [
            "[nltk_data] Downloading package punkt to /root/nltk_data...\n",
            "[nltk_data]   Unzipping tokenizers/punkt.zip.\n",
            "[nltk_data] Downloading package stopwords to /root/nltk_data...\n",
            "[nltk_data]   Unzipping corpora/stopwords.zip.\n",
            "[nltk_data] Downloading package wordnet to /root/nltk_data...\n",
            "[nltk_data] Downloading package vader_lexicon to /root/nltk_data...\n",
            "[nltk_data] Downloading package maxent_ne_chunker to\n",
            "[nltk_data]     /root/nltk_data...\n",
            "[nltk_data]   Unzipping chunkers/maxent_ne_chunker.zip.\n",
            "[nltk_data] Downloading package words to /root/nltk_data...\n",
            "[nltk_data]   Unzipping corpora/words.zip.\n"
          ]
        },
        {
          "output_type": "execute_result",
          "data": {
            "text/plain": [
              "True"
            ]
          },
          "metadata": {},
          "execution_count": 4
        }
      ],
      "source": [
        "nltk.download('punkt')\n",
        "nltk.download('stopwords')\n",
        "nltk.download('wordnet')\n",
        "nltk.download('vader_lexicon')\n",
        "nltk.download('maxent_ne_chunker')\n",
        "nltk.download('words')"
      ]
    },
    {
      "cell_type": "code",
      "execution_count": null,
      "metadata": {
        "id": "nAzRtVr1ytNY"
      },
      "outputs": [],
      "source": [
        "text = \"I was miserable in my 30s. Then I turned 50, and I've never been happer-here's the No.1 reason why.\""
      ]
    },
    {
      "cell_type": "code",
      "execution_count": null,
      "metadata": {
        "id": "dCjm5LzCy3uY"
      },
      "outputs": [],
      "source": [
        "from matplotlib import pyplot as plt\n",
        "\n",
        "def process_text_and_sentiment_analysis(text):\n",
        "  text = text.lower()\n",
        "  tokens = word_tokenize(text)\n",
        "  stop_words = set(stopwords.words('english'))\n",
        "  filtered_tokens = [word for word in tokens if word.lower() not in stop_words]\n",
        "  lemmatizer = WordNetLemmatizer()\n",
        "  lemmatized_tokens = [lemmatizer.lemmatize(word) for word in filtered_tokens]\n",
        "  freq_dist = FreqDist(lemmatized_tokens)\n",
        "  print(\"Frequency Distribution:\")\n",
        "  print(freq_dist.most_common(5))\n",
        "  analyzer = SentimentIntensityAnalyzer()\n",
        "  sentiment_score = analyzer.polarity_scores(text)\n",
        "  print(\"\\nSentiment Analysis:\")\n",
        "  print(sentiment_score)\n",
        "  print(\"\\n\")"
      ]
    },
    {
      "cell_type": "code",
      "execution_count": null,
      "metadata": {
        "id": "fF2JEUPE2mq_"
      },
      "outputs": [],
      "source": [
        "samples = [\n",
        "    \"EU continues its engagement in global water cooperation at the 10th World Water Forum\",\n",
        "    \"Two officers killed in suspected JI attack on Malaysian police station\",\n",
        "    \"Raphael Varane linked with shock move to Liga MX side Tigres after announcing Man Utd exit\",\n",
        "    \"Premier League: Chelsea, Man Utd, Tottenham and Newcastle in race for European football qualification\",\n",
        "    \"Israel's army says three hostages' bodies recovered\",\n",
        "    \"Scheffler charged with police officer assault before US PGA round\",\n",
        "    \"US confirms first aid trucks arrive via Gaza pier\",\n",
        "    \"Study proves black holes have a ‘plunging region,’ just as Einstein predicted\",\n",
        "    \"The Mona Lisa was set in this surprising Italian town, geologist claims\",\n",
        "    \"The world’s best airline is paying staff a bonus of 8 months’ salary\",\n",
        "]"
      ]
    },
    {
      "cell_type": "code",
      "execution_count": null,
      "metadata": {
        "colab": {
          "base_uri": "https://localhost:8080/"
        },
        "id": "0SENd3p-3-L1",
        "outputId": "c8dfec7d-1df0-4bc6-bc06-b6951087d8f5"
      },
      "outputs": [
        {
          "output_type": "stream",
          "name": "stdout",
          "text": [
            "Processing sample:\n",
            "EU continues its engagement in global water cooperation at the 10th World Water Forum\n",
            "Frequency Distribution:\n",
            "[('water', 2), ('eu', 1), ('continues', 1), ('engagement', 1), ('global', 1)]\n",
            "\n",
            "Sentiment Analysis:\n",
            "{'neg': 0.0, 'neu': 0.812, 'pos': 0.188, 'compound': 0.4588}\n",
            "\n",
            "\n",
            "Processing sample:\n",
            "Two officers killed in suspected JI attack on Malaysian police station\n",
            "Frequency Distribution:\n",
            "[('two', 1), ('officer', 1), ('killed', 1), ('suspected', 1), ('ji', 1)]\n",
            "\n",
            "Sentiment Analysis:\n",
            "{'neg': 0.543, 'neu': 0.457, 'pos': 0.0, 'compound': -0.8591}\n",
            "\n",
            "\n",
            "Processing sample:\n",
            "Raphael Varane linked with shock move to Liga MX side Tigres after announcing Man Utd exit\n",
            "Frequency Distribution:\n",
            "[('raphael', 1), ('varane', 1), ('linked', 1), ('shock', 1), ('move', 1)]\n",
            "\n",
            "Sentiment Analysis:\n",
            "{'neg': 0.148, 'neu': 0.852, 'pos': 0.0, 'compound': -0.3818}\n",
            "\n",
            "\n",
            "Processing sample:\n",
            "Premier League: Chelsea, Man Utd, Tottenham and Newcastle in race for European football qualification\n",
            "Frequency Distribution:\n",
            "[(',', 2), ('premier', 1), ('league', 1), (':', 1), ('chelsea', 1)]\n",
            "\n",
            "Sentiment Analysis:\n",
            "{'neg': 0.0, 'neu': 1.0, 'pos': 0.0, 'compound': 0.0}\n",
            "\n",
            "\n",
            "Processing sample:\n",
            "Israel's army says three hostages' bodies recovered\n",
            "Frequency Distribution:\n",
            "[('israel', 1), (\"'s\", 1), ('army', 1), ('say', 1), ('three', 1)]\n",
            "\n",
            "Sentiment Analysis:\n",
            "{'neg': 0.0, 'neu': 1.0, 'pos': 0.0, 'compound': 0.0}\n",
            "\n",
            "\n",
            "Processing sample:\n",
            "Scheffler charged with police officer assault before US PGA round\n",
            "Frequency Distribution:\n",
            "[('scheffler', 1), ('charged', 1), ('police', 1), ('officer', 1), ('assault', 1)]\n",
            "\n",
            "Sentiment Analysis:\n",
            "{'neg': 0.412, 'neu': 0.588, 'pos': 0.0, 'compound': -0.6808}\n",
            "\n",
            "\n",
            "Processing sample:\n",
            "US confirms first aid trucks arrive via Gaza pier\n",
            "Frequency Distribution:\n",
            "[('u', 1), ('confirms', 1), ('first', 1), ('aid', 1), ('truck', 1)]\n",
            "\n",
            "Sentiment Analysis:\n",
            "{'neg': 0.0, 'neu': 1.0, 'pos': 0.0, 'compound': 0.0}\n",
            "\n",
            "\n",
            "Processing sample:\n",
            "Study proves black holes have a ‘plunging region,’ just as Einstein predicted\n",
            "Frequency Distribution:\n",
            "[('study', 1), ('prof', 1), ('black', 1), ('hole', 1), ('‘', 1)]\n",
            "\n",
            "Sentiment Analysis:\n",
            "{'neg': 0.0, 'neu': 1.0, 'pos': 0.0, 'compound': 0.0}\n",
            "\n",
            "\n",
            "Processing sample:\n",
            "The Mona Lisa was set in this surprising Italian town, geologist claims\n",
            "Frequency Distribution:\n",
            "[('mona', 1), ('lisa', 1), ('set', 1), ('surprising', 1), ('italian', 1)]\n",
            "\n",
            "Sentiment Analysis:\n",
            "{'neg': 0.0, 'neu': 0.822, 'pos': 0.178, 'compound': 0.3346}\n",
            "\n",
            "\n",
            "Processing sample:\n",
            "The world’s best airline is paying staff a bonus of 8 months’ salary\n",
            "Frequency Distribution:\n",
            "[('’', 2), ('world', 1), ('best', 1), ('airline', 1), ('paying', 1)]\n",
            "\n",
            "Sentiment Analysis:\n",
            "{'neg': 0.0, 'neu': 0.539, 'pos': 0.461, 'compound': 0.8271}\n",
            "\n",
            "\n"
          ]
        }
      ],
      "source": [
        "for sample in samples:\n",
        "  print(\"Processing sample:\")\n",
        "  print(sample)\n",
        "  process_text_and_sentiment_analysis(sample)"
      ]
    },
    {
      "cell_type": "code",
      "execution_count": null,
      "metadata": {
        "id": "kkVLuXty4HbN",
        "outputId": "474a323b-af6a-47ae-f7fb-485d09bb859a",
        "colab": {
          "base_uri": "https://localhost:8080/",
          "height": 521
        }
      },
      "outputs": [
        {
          "output_type": "display_data",
          "data": {
            "text/plain": [
              "<Figure size 800x600 with 1 Axes>"
            ],
            "image/png": "[encoded data removed]"
          },
          "metadata": {}
        }
      ],
      "source": [
        "import seaborn as sns\n",
        "import matplotlib.pyplot as plt\n",
        "import nltk\n",
        "from nltk.sentiment import SentimentIntensityAnalyzer\n",
        "\n",
        "sia = SentimentIntensityAnalyzer()\n",
        "text_list = [\n",
        "    \"Economic Growth Surges to Record High as Inflation Remains Remarkably Steady\",\n",
        "    \"Global Summit in Geneva Focuses Intensely on Long-Term Climate Change Solutions\",\n",
        "    \"Leading Tech Giants Announce Major Breakthrough in Artificial Intelligence Technology\",\n",
        "    \"Healthcare Workers Across the Nation Protest for Improved Working Conditions and Pay\",\n",
        "    \"New Comprehensive Study Reveals Significant Health Benefits of Plant-Based Diets\",\n",
        "    \"Stock Markets Hit Record High Amid Rising Investor Optimism and Economic Stability\",\n",
        "    \"Government Introduces Comprehensive New Policies to Address the Growing Housing Crisis\",\n",
        "    \"Scientists Announce Discovery of Potential Cure for Previously Incurable Rare Disease\",\n",
        "    \"Annual Cultural Festival Celebrates Community Diversity and Promotes Inclusion\",\n",
        "    \"Local Communities Rally Together to Provide Aid and Support for Recent Flood Victims\",\n",
        "    \"Innovative Breakthrough in Renewable Energy Technology Promises Sustainable Future\",\n",
        "    \"Education Reform Bill Passed to Significantly Improve Public School Funding Nationwide\",\n",
        "    \"Wildlife Conservation Efforts Lead to a Notable Increase in Endangered Species Populations\",\n",
        "    \"City Launches Ambitious New Initiative to Significantly Reduce Traffic Congestion\",\n",
        "    \"Upcoming Art Exhibit to Showcase Stunning Works by Emerging Contemporary Artists\",\n",
        "    \"National Sports Teams Prepare Intensively for the Highly Anticipated Championship Season\",\n",
        "    \"Innovative New App Aims to Completely Revolutionize Personal Finance Management\",\n",
        "    \"Major Retailer Announces Plans to Expand to International Markets Amid Growing Demand\",\n",
        "    \"Celebrity Chef Opens New High-End Restaurant in the Heart of Downtown\",\n",
        "    \"Historic Landmark to Undergo Major Renovations to Preserve Its Cultural Heritage\",\n",
        "]\n",
        "\n",
        "positive_count = 0\n",
        "neutral_count = 0\n",
        "negative_count = 0\n",
        "\n",
        "for text in text_list:\n",
        "  sentiment_score = sia.polarity_scores(text)['compound']\n",
        "  if sentiment_score > 0.05:\n",
        "    positive_count += 1\n",
        "  elif sentiment_score < -0.05:\n",
        "    negative_count += 1\n",
        "  else:\n",
        "    neutral_count += 1\n",
        "\n",
        "plt.figure(figsize=(8,6))\n",
        "plt.pie([positive_count, neutral_count, negative_count], labels=['Positive', 'Neutral', 'Negative'], autopct = '%1.1f%%')\n",
        "plt.title('Sentiment Analysis Result')\n",
        "plt.show()"
      ]
    },
    {
      "cell_type": "code",
      "execution_count": null,
      "metadata": {
        "id": "0EjdlqgM9LKS"
      },
      "outputs": [],
      "source": []
    }
  ],
  "metadata": {
    "colab": {
      "provenance": [],
      "include_colab_link": true
    },
    "kernelspec": {
      "display_name": "Python 3",
      "name": "python3"
    },
    "language_info": {
      "name": "python"
    }
  },
  "nbformat": 4,
  "nbformat_minor": 0
}
