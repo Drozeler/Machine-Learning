{
  "nbformat": 4,
  "nbformat_minor": 0,
  "metadata": {
    "colab": {
      "provenance": [],
      "authorship_tag": "ABX9TyPgO2IlC4Zi1vrOYGKfW6v5",
      "include_colab_link": true
    },
    "kernelspec": {
      "name": "python3",
      "display_name": "Python 3"
    },
    "language_info": {
      "name": "python"
    }
  },
  "cells": [
    {
      "cell_type": "markdown",
      "metadata": {
        "id": "view-in-github",
        "colab_type": "text"
      },
      "source": [
        "<a href=\"https://colab.research.google.com/github/Drozeler/Machine-Learning/blob/main/NLPChatBot.ipynb\" target=\"_parent\"><img src=\"https://colab.research.google.com/assets/colab-badge.svg\" alt=\"Open In Colab\"/></a>"
      ]
    },
    {
      "cell_type": "code",
      "execution_count": 1,
      "metadata": {
        "id": "eomXlYyfB5NU"
      },
      "outputs": [],
      "source": [
        "import nltk\n",
        "from nltk.chat.util import Chat, reflections"
      ]
    },
    {
      "cell_type": "code",
      "source": [
        "pairs = [\n",
        "    [\n",
        "        r\"My name is (.*)\",\n",
        "        [\"Hello %1, how are you today\",]\n",
        "    ],\n",
        "    [\n",
        "        r\"hi|hey|hello\",\n",
        "        [\"Hello!\", \"Hey there!\",]\n",
        "    ],\n",
        "    [\n",
        "        r\"what is your name?\",\n",
        "        [\"I am a chatbot created for your assistance.\",]\n",
        "    ],\n",
        "    [\n",
        "        r\"how are you?\",\n",
        "        [\"I'm doing good, how about you?\",]\n",
        "    ],\n",
        "    [\n",
        "        r\"sorry (.*)\",\n",
        "        [\"It's alright,\", \"No problem.\",]\n",
        "    ],\n",
        "    [\n",
        "        r\"i'm (.*) doing good\",\n",
        "        [\"Nice to hear that\", \"How can I help you today?\",]\n",
        "    ],\n",
        "    [\n",
        "        r\"what (.*) want?\",\n",
        "        [\"I am here to assist you.\",]\n",
        "    ],\n",
        "    [\n",
        "        r\"(.*) created (.*)\",\n",
        "        [\"I was created by a developer using Python's NLTK library.\",]\n",
        "    ],\n",
        "    [\n",
        "        r\"(.*) (location|city) ?\",\n",
        "        [\"I am just a program, I don't have a physical location.\",]\n",
        "    ],\n",
        "    [\n",
        "        r\"how (.*) weather in (.*)?\",\n",
        "        [\"I'm sorry, I don't have weather information.\",]\n",
        "    ],\n",
        "    [\n",
        "        r\"quit\",\n",
        "        [\"Bye, take care!\", \"Goodbye!\"]\n",
        "    ],\n",
        "    [\n",
        "        r\"when was this created?\",\n",
        "        [\"I am created in 6/8/24.\",]\n",
        "    ],\n",
        "    [\n",
        "        r\"Why were you created?\",\n",
        "        [\"I am created because my developer wants to learn about chatbot.\",]\n",
        "    ],\n",
        "    [\n",
        "        r\"How were you created?\",\n",
        "        [\"I was created by using nltk chat.\",]\n",
        "    ],\n",
        "    [\n",
        "        r\"Who is the developer?\",\n",
        "        [\"Who knows.\",]\n",
        "    ],\n",
        "    [\n",
        "        r\"How long did it took to create you?\",\n",
        "        [\"Several minutes.\",]\n",
        "    ]\n",
        "]"
      ],
      "metadata": {
        "id": "OXJvnU_gCP4C"
      },
      "execution_count": 3,
      "outputs": []
    },
    {
      "cell_type": "code",
      "source": [
        "chatbot = Chat(pairs, reflections)\n",
        "\n",
        "def main():\n",
        "  \"\"\"Main function to run the chatbot.\"\"\"\n",
        "  print(\"Hi, I;m your chatbot! Type 'quit' to exit.\")\n",
        "  while True:\n",
        "    user_input = input(\"You: \")\n",
        "    if user_input.lower() in [\"quit\", \"bye\", \"exit\"]:\n",
        "      print(\"Chatbot: Goodbye! Have a great day!\")\n",
        "      break\n",
        "    response = chatbot.respond(user_input)\n",
        "    if response:\n",
        "      print(f\"Chatbot: {response}\")\n",
        "    else:\n",
        "      print(\"Chatbot: I'm not sure how to respond to that.\")\n",
        "if __name__ == \"__main__\":\n",
        "    main()"
      ],
      "metadata": {
        "colab": {
          "base_uri": "https://localhost:8080/"
        },
        "id": "3XHE9R3qD_t5",
        "outputId": "45458ce2-14a4-4bf3-f902-3452fbdf7e3b"
      },
      "execution_count": null,
      "outputs": [
        {
          "output_type": "stream",
          "name": "stdout",
          "text": [
            "Hi, I;m your chatbot! Type 'quit' to exit.\n",
            "You: bruh\n",
            "Chatbot: I'm not sure how to respond to that.\n"
          ]
        }
      ]
    },
    {
      "cell_type": "code",
      "source": [],
      "metadata": {
        "id": "QneFhL3yFieM"
      },
      "execution_count": null,
      "outputs": []
    }
  ]
}
